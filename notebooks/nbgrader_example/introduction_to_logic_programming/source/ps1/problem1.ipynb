{
 "cells": [
  {
   "cell_type": "markdown",
   "id": "d10fda94-d466-414a-9498-1efd6bee5369",
   "metadata": {
    "tags": []
   },
   "source": [
    "## Part A (2 points)\n",
    "\n",
    "Write a predicate `my_append(List1, List2, List3)`, where `List3` is a list consisting of all the elements of the list `List1` followed by the elements of the list `List2`."
   ]
  },
  {
   "cell_type": "code",
   "execution_count": null,
   "id": "610bba8f-1147-42d7-b94c-6f971cb4aba5",
   "metadata": {},
   "outputs": [],
   "source": [
    "set_prolog_flag(informational, off)."
   ]
  },
  {
   "cell_type": "code",
   "execution_count": null,
   "id": "a65ac157-4b26-4011-ab19-9ddfdba364af",
   "metadata": {
    "nbgrader": {
     "grade": false,
     "grade_id": "cell-8ed389a1b6f289a8",
     "locked": false,
     "schema_version": 3,
     "solution": true,
     "task": false
    }
   },
   "outputs": [],
   "source": [
    "my_append([], Res, Res).\n",
    "my_append([Head|Tail], List, [Head|Res]) :-\n",
    "    my_append(Tail, List, Res)."
   ]
  },
  {
   "cell_type": "code",
   "execution_count": null,
   "id": "b17235ec-55b4-4a32-855a-236df0a1a3bd",
   "metadata": {
    "nbgrader": {
     "grade": true,
     "grade_id": "cell-ad50b4eb4698b17f",
     "locked": true,
     "points": 2,
     "schema_version": 3,
     "solution": false,
     "task": false
    },
    "tags": []
   },
   "outputs": [],
   "source": [
    ":- begin_tests(my_append).\n",
    "\n",
    "test(append_two_lists, [true(List3 = [1, 2, 3, 4])]) :-\n",
    "    my_append([1, 2], [3, 4], List3).\n",
    "% BEGIN HIDDEN TESTS\n",
    "test(split_list, [true((List1 = [], List2 = [1, 2])), nondet]) :-\n",
    "    my_append(List1, List2, [1, 2]).\n",
    "% END HIDDEN TESTS\n",
    "\n",
    ":- end_tests(my_append).\n",
    "\n",
    "?- run_tests(all, [failed(0)])."
   ]
  }
 ],
 "metadata": {
  "kernelspec": {
   "display_name": "Prolog",
   "language": "prolog",
   "name": "swi_kernel"
  },
  "language_info": {
   "codemirror_mode": "prolog",
   "file_extension": ".pl",
   "mimetype": "text/x-prolog",
   "name": "Prolog"
  }
 },
 "nbformat": 4,
 "nbformat_minor": 5
}
