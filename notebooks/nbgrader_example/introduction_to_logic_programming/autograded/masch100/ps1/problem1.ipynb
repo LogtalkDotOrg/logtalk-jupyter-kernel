{
 "cells": [
  {
   "cell_type": "markdown",
   "id": "ead3f174",
   "metadata": {
    "deletable": false,
    "editable": false,
    "nbgrader": {
     "cell_type": "markdown",
     "checksum": "7804f6140762175b57e2975ba2102444",
     "grade": false,
     "grade_id": "cell-0cbbc8dcf03576a3",
     "locked": true,
     "schema_version": 3,
     "solution": false,
     "task": false
    }
   },
   "source": [
    "Before turning the assignment in, make sure to replace any `YOUR CODE HERE` or \"YOUR ANSWER HERE\". Also check your solution by running all cells after restarting the kernel.\n",
    "\n",
    "\n",
    "---"
   ]
  },
  {
   "cell_type": "markdown",
   "id": "d10fda94-d466-414a-9498-1efd6bee5369",
   "metadata": {
    "tags": []
   },
   "source": [
    "## Part A (2 points)\n",
    "\n",
    "Write a predicate `my_append(List1, List2, List3)`, where `List3` is a list consisting of all the elements of the list `List1` followed by the elements of the list `List2`."
   ]
  },
  {
   "cell_type": "code",
   "execution_count": 1,
   "id": "610bba8f-1147-42d7-b94c-6f971cb4aba5",
   "metadata": {
    "execution": {
     "iopub.execute_input": "2022-09-22T14:46:21.487704Z",
     "iopub.status.busy": "2022-09-22T14:46:21.487416Z",
     "iopub.status.idle": "2022-09-22T14:46:21.539185Z",
     "shell.execute_reply": "2022-09-22T14:46:21.536836Z"
    }
   },
   "outputs": [
    {
     "data": {
      "text/plain": [
       "\u001b[1myes"
      ]
     },
     "metadata": {},
     "output_type": "display_data"
    }
   ],
   "source": [
    "set_prolog_flag(informational, off)."
   ]
  },
  {
   "cell_type": "code",
   "execution_count": 2,
   "id": "a65ac157-4b26-4011-ab19-9ddfdba364af",
   "metadata": {
    "deletable": false,
    "execution": {
     "iopub.execute_input": "2022-09-22T14:46:21.547666Z",
     "iopub.status.busy": "2022-09-22T14:46:21.547060Z",
     "iopub.status.idle": "2022-09-22T14:46:21.561104Z",
     "shell.execute_reply": "2022-09-22T14:46:21.559346Z"
    },
    "nbgrader": {
     "cell_type": "code",
     "checksum": "86807e11974601495f08541ebb2f79c2",
     "grade": false,
     "grade_id": "cell-8ed389a1b6f289a8",
     "locked": false,
     "schema_version": 3,
     "solution": true,
     "task": false
    }
   },
   "outputs": [
    {
     "data": {
      "text/plain": [
       "% Asserting clauses for user:my_append/3\n"
      ]
     },
     "metadata": {},
     "output_type": "display_data"
    }
   ],
   "source": [
    "my_append([], Res, Res).\n",
    "my_append([Head|Tail], List, [Head|Res]) :-\n",
    "    my_append(Tail, List, Res)."
   ]
  },
  {
   "cell_type": "code",
   "execution_count": 3,
   "id": "b17235ec-55b4-4a32-855a-236df0a1a3bd",
   "metadata": {
    "deletable": false,
    "editable": false,
    "execution": {
     "iopub.execute_input": "2022-09-22T14:46:21.568226Z",
     "iopub.status.busy": "2022-09-22T14:46:21.567625Z",
     "iopub.status.idle": "2022-09-22T14:46:21.617282Z",
     "shell.execute_reply": "2022-09-22T14:46:21.616905Z"
    },
    "nbgrader": {
     "cell_type": "code",
     "checksum": "18697fa035e6b5494ab304e209c6dd28",
     "grade": true,
     "grade_id": "cell-ad50b4eb4698b17f",
     "locked": true,
     "points": 2,
     "schema_version": 3,
     "solution": false,
     "task": false
    },
    "tags": []
   },
   "outputs": [
    {
     "data": {
      "text/plain": [
       "\n",
       "% Loaded the test file"
      ]
     },
     "metadata": {},
     "output_type": "display_data"
    },
    {
     "data": {
      "text/plain": [
       "\u001b[1myes"
      ]
     },
     "metadata": {},
     "output_type": "display_data"
    }
   ],
   "source": [
    ":- begin_tests(my_append).\n",
    "\n",
    "test(append_two_lists, [true(List3 = [1, 2, 3, 4])]) :-\n",
    "    my_append([1, 2], [3, 4], List3).\n",
    "% BEGIN HIDDEN TESTS\n",
    "test(split_list, [true((List1 = [], List2 = [1, 2])), nondet]) :-\n",
    "    my_append(List1, List2, [1, 2]).\n",
    "% END HIDDEN TESTS\n",
    "\n",
    ":- end_tests(my_append).\n",
    "\n",
    "?- run_tests(all, [failed(0)])."
   ]
  }
 ],
 "metadata": {
  "kernelspec": {
   "display_name": "Prolog",
   "language": "prolog",
   "name": "swi_kernel"
  },
  "language_info": {
   "codemirror_mode": "prolog",
   "file_extension": ".pl",
   "mimetype": "text/x-prolog",
   "name": "Prolog"
  }
 },
 "nbformat": 4,
 "nbformat_minor": 5
}
