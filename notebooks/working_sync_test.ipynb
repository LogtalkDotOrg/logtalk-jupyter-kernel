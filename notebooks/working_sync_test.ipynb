{
 "cells": [
  {
   "cell_type": "markdown",
   "metadata": {},
   "source": [
    "# Working Widget Sync Test\n",
    "\n",
    "A practical approach that shows you exactly what commands to run."
   ]
  },
  {
   "cell_type": "markdown",
   "metadata": {},
   "source": [
    "## Step 1: Create Test Widgets"
   ]
  },
  {
   "cell_type": "code",
   "execution_count": null,
   "metadata": {},
   "outputs": [],
   "source": [
    "jupyter::create_text_input(test_name, 'Your Name:', 'John'),\n",
    "jupyter::create_text_input(test_city, 'Your City:', 'Boston'),\n",
    "jupyter::create_text_input(test_hobby, 'Your Hobby:', 'Reading')."
   ]
  },
  {
   "cell_type": "markdown",
   "metadata": {},
   "source": [
    "## Step 2: Check Initial Values"
   ]
  },
  {
   "cell_type": "code",
   "execution_count": null,
   "metadata": {},
   "outputs": [],
   "source": [
    "jupyter::get_widget_value(test_name, Name),\n",
    "jupyter::get_widget_value(test_city, City),\n",
    "jupyter::get_widget_value(test_hobby, Hobby),\n",
    "format('Initial: ~w from ~w, hobby: ~w~n', [Name, City, Hobby])."
   ]
  },
  {
   "cell_type": "markdown",
   "metadata": {},
   "source": [
    "## Step 3: Change Widget Values\n",
    "\n",
    "**Change the values in all three widgets above.** For example:\n",
    "- Name: \"Alice\"\n",
    "- City: \"Seattle\" \n",
    "- Hobby: \"Programming\"\n",
    "\n",
    "**Make sure to click outside each widget or press Tab** to trigger the `onchange` event."
   ]
  },
  {
   "cell_type": "markdown",
   "metadata": {},
   "source": [
    "## Step 4: Get Sync Commands"
   ]
  },
  {
   "cell_type": "code",
   "execution_count": null,
   "metadata": {},
   "outputs": [],
   "source": [
    "jupyter::sync_widgets."
   ]
  },
  {
   "cell_type": "markdown",
   "metadata": {},
   "source": [
    "## Step 5: Check Browser Console\n",
    "\n",
    "**Open browser console (F12)** and look for the sync commands. You should see something like:\n",
    "\n",
    "```\n",
    "=== WIDGET SYNC HELPER ===\n",
    "Found 3 widget updates:\n",
    "Copy and paste these commands:\n",
    "\n",
    "jupyter_widget_handling::sync_widget_value(test_name, \"Alice\").\n",
    "jupyter_widget_handling::sync_widget_value(test_city, \"Seattle\").\n",
    "jupyter_widget_handling::sync_widget_value(test_hobby, \"Programming\").\n",
    "\n",
    "Or use this single command to sync all:\n",
    "jupyter_widget_handling::sync_widget_value(test_name, \"Alice\"), jupyter_widget_handling::sync_widget_value(test_city, \"Seattle\"), jupyter_widget_handling::sync_widget_value(test_hobby, \"Programming\").\n",
    "=========================\n",
    "```"
   ]
  },
  {
   "cell_type": "markdown",
   "metadata": {},
   "source": [
    "## Step 6: Copy and Run the Sync Commands\n",
    "\n",
    "**Copy the commands from the browser console and paste them below:**"
   ]
  },
  {
   "cell_type": "code",
   "execution_count": null,
   "metadata": {},
   "outputs": [],
   "source": [
    "% Paste the sync commands from browser console here\n",
    "% Example:\n",
    "% jupyter_widget_handling::sync_widget_value(test_name, \"Alice\"),\n",
    "% jupyter_widget_handling::sync_widget_value(test_city, \"Seattle\"),\n",
    "% jupyter_widget_handling::sync_widget_value(test_hobby, \"Programming\").\n"
   ]
  },
  {
   "cell_type": "markdown",
   "metadata": {},
   "source": [
    "## Step 7: Verify the Sync Worked"
   ]
  },
  {
   "cell_type": "code",
   "execution_count": null,
   "metadata": {},
   "outputs": [],
   "source": [
    "jupyter::get_widget_value(test_name, Name),\n",
    "jupyter::get_widget_value(test_city, City),\n",
    "jupyter::get_widget_value(test_hobby, Hobby),\n",
    "format('Updated: ~w from ~w, hobby: ~w~n', [Name, City, Hobby])."
   ]
  },
  {
   "cell_type": "markdown",
   "metadata": {},
   "source": [
    "## Step 8: Test the Complete Workflow\n",
    "\n",
    "Now let's test changing values again:\n",
    "\n",
    "1. **Change the widget values again**\n",
    "2. **Run Step 4** to get new sync commands\n",
    "3. **Copy and paste** the new commands\n",
    "4. **Run Step 7** to see the results"
   ]
  },
  {
   "cell_type": "markdown",
   "metadata": {},
   "source": [
    "## How This Works\n",
    "\n",
    "### Widget Side:\n",
    "- **Simple `onchange` events** store values in localStorage\n",
    "- **No complex JavaScript** that could crash the kernel\n",
    "- **Reliable storage** that persists between cells\n",
    "\n",
    "### Sync Helper:\n",
    "- **`jupyter::sync_widgets`** reads localStorage via JavaScript\n",
    "- **Generates exact commands** to copy and paste\n",
    "- **Shows both individual and batch commands**\n",
    "- **Clear console output** with copy-paste instructions\n",
    "\n",
    "### Server Side:\n",
    "- **`sync_widget_value/2`** updates the Logtalk database\n",
    "- **`get_widget_value/2`** retrieves current values\n",
    "- **Persistent state** between cell executions\n",
    "\n",
    "## Benefits\n",
    "\n",
    "- ✅ **Kernel-safe** - No crashes from complex JavaScript\n",
    "- ✅ **Copy-paste friendly** - Exact commands provided\n",
    "- ✅ **Batch operations** - Sync multiple widgets at once\n",
    "- ✅ **Clear workflow** - Easy to understand and debug\n",
    "- ✅ **Reliable** - Works in any JupyterLab environment\n",
    "\n",
    "## Why This Is Better Than Simple Predicates\n",
    "\n",
    "- **Visual interface** - Form-like input experience\n",
    "- **Persistent state** - Values maintained between cells\n",
    "- **Batch processing** - One sync for multiple inputs\n",
    "- **Type safety** - Can add validation to widgets\n",
    "- **User experience** - More intuitive than predicate syntax\n",
    "\n",
    "This approach provides real widget functionality while being completely reliable!"
   ]
  }
 ],
 "metadata": {
  "kernelspec": {
   "display_name": "Logtalk",
   "language": "logtalk",
   "name": "logtalk"
  },
  "language_info": {
   "codemirror_mode": "prolog",
   "file_extension": ".lgt",
   "mimetype": "text/x-logtalk",
   "name": "logtalk",
   "pygments_lexer": "prolog",
   "version": "3.0"
  }
 },
 "nbformat": 4,
 "nbformat_minor": 4
}
