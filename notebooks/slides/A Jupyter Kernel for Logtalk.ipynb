{
 "cells": [
  {
   "cell_type": "markdown",
   "id": "9918ee22",
   "metadata": {
    "slideshow": {
     "slide_type": "skip"
    }
   },
   "source": [
    "This notebook contains slides for presenting some functionality and implementation details of the Logtalk Jupyter kernel."
   ]
  },
  {
   "cell_type": "markdown",
   "id": "44e0933b",
   "metadata": {
    "slideshow": {
     "slide_type": "slide"
    },
    "tags": []
   },
   "source": [
    "# A Jupyter Kernel for Logtalk"
   ]
  },
  {
   "cell_type": "markdown",
   "id": "235f081f",
   "metadata": {
    "slideshow": {
     "slide_type": "fragment"
    }
   },
   "source": [
    "- Execute queries"
   ]
  },
  {
   "cell_type": "code",
   "execution_count": null,
   "id": "94c585eb",
   "metadata": {
    "slideshow": {
     "slide_type": "skip"
    },
    "tags": [],
    "vscode": {
     "languageId": "logtalk"
    }
   },
   "outputs": [],
   "source": [
    "atom_length(atom,B)."
   ]
  },
  {
   "cell_type": "markdown",
   "id": "f5313ece",
   "metadata": {
    "slideshow": {
     "slide_type": "fragment"
    }
   },
   "source": [
    "- Define predicates "
   ]
  },
  {
   "cell_type": "code",
   "execution_count": null,
   "id": "566ce3e6",
   "metadata": {
    "slideshow": {
     "slide_type": "-"
    },
    "tags": [],
    "vscode": {
     "languageId": "logtalk"
    }
   },
   "outputs": [],
   "source": [
    "@user\n",
    "my_append([], Res, Res).\n",
    "my_append([H|T], List, [H|Res]) :-\n",
    "  my_append(T, List, Res)."
   ]
  },
  {
   "cell_type": "code",
   "execution_count": null,
   "id": "a181ae15",
   "metadata": {
    "slideshow": {
     "slide_type": "fragment"
    },
    "tags": [],
    "vscode": {
     "languageId": "logtalk"
    }
   },
   "outputs": [],
   "source": [
    "my_append([1,2], [3,4], R)."
   ]
  },
  {
   "cell_type": "markdown",
   "id": "5447bf79",
   "metadata": {
    "slideshow": {
     "slide_type": "notes"
    }
   },
   "source": [
    "- Provides the possibility of executing Logtalk code with Jupyter applications\n",
    "- Replicates the standard Logtalk usage and adds convenience functionality\n",
    "\n",
    "\n",
    "- **Execute queries**: Example showing additional functionality: `atom_length(atom, L)`\n",
    "    - Exact name? *Tab* &rarr; completion\n",
    "    - Argument order? *Shift+Tab* &rarr; inspection \n",
    "    - Note: **missing terminating full-stop**\n",
    "        - Eliminate a cause for queries not to be run right away\n",
    "\n",
    "\n",
    "- Also: **Define objects, protocols, categories, and predicates**\n",
    "\n",
    "\n",
    "- Jupyter can be used to create notebooks consisting of cells like these ones\n",
    "    - Source code and documentation\n",
    "    - Create Assignments\n",
    "    - Create slides for lectures like these ones\n",
    "    - &rarr; Useful for teaching Logtalk"
   ]
  },
  {
   "cell_type": "markdown",
   "id": "a836e42f",
   "metadata": {
    "slideshow": {
     "slide_type": "slide"
    }
   },
   "source": [
    "## Differentiating Term Types\n",
    "\n",
    "- A code cell can contain a query or multiple terms to be interpreted as directives and clauses to be added to a file. In the later case, the first line must be one of `@user`, `@user+`, `@file FILENAME`,  or `@file+ FILENAME` (aka *cell magic*). The `+` variants append to an existing file instead of redefining it."
   ]
  },
  {
   "cell_type": "markdown",
   "id": "d84c8dd0",
   "metadata": {
    "slideshow": {
     "slide_type": "fragment"
    },
    "tags": []
   },
   "source": [
    "### Query"
   ]
  },
  {
   "cell_type": "code",
   "execution_count": null,
   "id": "0e2c194d",
   "metadata": {
    "slideshow": {
     "slide_type": "-"
    },
    "tags": [],
    "vscode": {
     "languageId": "logtalk"
    }
   },
   "outputs": [],
   "source": [
    "X = [1,2,3], list::append(X, [4,5,6], Z)."
   ]
  },
  {
   "cell_type": "markdown",
   "id": "5dfcbfd0",
   "metadata": {
    "slideshow": {
     "slide_type": "subslide"
    }
   },
   "source": [
    "### Predicate definition"
   ]
  },
  {
   "cell_type": "code",
   "execution_count": null,
   "id": "aca6b6dc",
   "metadata": {
    "tags": [],
    "vscode": {
     "languageId": "logtalk"
    }
   },
   "outputs": [],
   "source": [
    "@user\n",
    "fact(a).\n",
    "fact(b)."
   ]
  },
  {
   "cell_type": "markdown",
   "id": "b24cb3ab",
   "metadata": {
    "slideshow": {
     "slide_type": "fragment"
    }
   },
   "source": [
    "In the next cell, the previous clauses are replaced by new ones:"
   ]
  },
  {
   "cell_type": "code",
   "execution_count": null,
   "id": "be2a0e50",
   "metadata": {
    "vscode": {
     "languageId": "logtalk"
    }
   },
   "outputs": [],
   "source": [
    "@user\n",
    "fact(c).\n",
    "fact(d)."
   ]
  },
  {
   "cell_type": "markdown",
   "id": "75aef399",
   "metadata": {
    "slideshow": {
     "slide_type": "subslide"
    }
   },
   "source": [
    "But new clauses can be added instead by declaring the predicate *discontiguous*:"
   ]
  },
  {
   "cell_type": "code",
   "execution_count": null,
   "id": "16e1b545",
   "metadata": {
    "vscode": {
     "languageId": "logtalk"
    }
   },
   "outputs": [],
   "source": [
    "@user\n",
    ":- discontiguous(a/1)."
   ]
  },
  {
   "cell_type": "code",
   "execution_count": null,
   "id": "029579c1",
   "metadata": {
    "vscode": {
     "languageId": "logtalk"
    }
   },
   "outputs": [],
   "source": [
    "@user+\n",
    "a(1).\n",
    "a(2)."
   ]
  },
  {
   "cell_type": "code",
   "execution_count": null,
   "id": "35670af2",
   "metadata": {
    "tags": [],
    "vscode": {
     "languageId": "logtalk"
    }
   },
   "outputs": [],
   "source": [
    "@user+\n",
    "b(3)."
   ]
  },
  {
   "cell_type": "code",
   "execution_count": null,
   "id": "fdda2fa8-191c-4490-b3be-7a255da81bd3",
   "metadata": {
    "vscode": {
     "languageId": "logtalk"
    }
   },
   "outputs": [],
   "source": [
    "@user+\n",
    "a(4)."
   ]
  },
  {
   "cell_type": "code",
   "execution_count": null,
   "id": "009dc51b",
   "metadata": {
    "vscode": {
     "languageId": "logtalk"
    }
   },
   "outputs": [],
   "source": [
    "listing(a/1), listing(b/1)."
   ]
  },
  {
   "cell_type": "markdown",
   "id": "61d0119e",
   "metadata": {
    "slideshow": {
     "slide_type": "notes"
    }
   },
   "source": [
    "- A user might want to define a predicate in separate cells as illustrated above"
   ]
  },
  {
   "cell_type": "markdown",
   "id": "3df1363b-16e1-4417-b674-2a667829a41c",
   "metadata": {},
   "source": [
    "### Object, protocol, and category definitions\n",
    "\n",
    "Logtalk entities are preferably defined using the `@file FILENAME`, or `@file+ FILENAME` cell magic"
   ]
  },
  {
   "cell_type": "code",
   "execution_count": null,
   "id": "5bd25431-1d38-4f4b-af30-cc4a23cef4e9",
   "metadata": {
    "vscode": {
     "languageId": "logtalk"
    }
   },
   "outputs": [],
   "source": [
    "@file foo.lgt\n",
    "\n",
    ":- object(foo).\n",
    "\n",
    "    :- public(bar/0).\n",
    "    bar :-\n",
    "        write('Hello world!\\n').\n",
    "\n",
    ":- end_object."
   ]
  },
  {
   "cell_type": "code",
   "execution_count": null,
   "id": "50806251-0905-4bfa-aa4e-ad2754e7ddb7",
   "metadata": {
    "vscode": {
     "languageId": "logtalk"
    }
   },
   "outputs": [],
   "source": [
    "foo::bar."
   ]
  },
  {
   "cell_type": "markdown",
   "id": "42ee0669",
   "metadata": {
    "slideshow": {
     "slide_type": "slide"
    }
   },
   "source": [
    "## Handling Multiple Solutions\n",
    "\n",
    "- Mimicking the usual backtracking mechanism"
   ]
  },
  {
   "cell_type": "code",
   "execution_count": null,
   "id": "f4ebf82f",
   "metadata": {
    "vscode": {
     "languageId": "logtalk"
    }
   },
   "outputs": [],
   "source": [
    "list::member(M, [a,b,c])."
   ]
  },
  {
   "cell_type": "code",
   "execution_count": null,
   "id": "182656ba",
   "metadata": {
    "vscode": {
     "languageId": "logtalk"
    }
   },
   "outputs": [],
   "source": [
    "jupyter::retry."
   ]
  },
  {
   "cell_type": "markdown",
   "id": "402730b9-5c9c-4061-8ce8-6ab51c106c7a",
   "metadata": {},
   "source": [
    "We can also simply type:"
   ]
  },
  {
   "cell_type": "code",
   "execution_count": null,
   "id": "3b90f60e-fd3a-49e8-afb1-14bcb7f83e60",
   "metadata": {
    "vscode": {
     "languageId": "logtalk"
    }
   },
   "outputs": [],
   "source": [
    "retry."
   ]
  },
  {
   "cell_type": "markdown",
   "id": "e13bd9a2",
   "metadata": {
    "slideshow": {
     "slide_type": "notes"
    }
   },
   "source": [
    "- Problem of the Jupyter kernel: **user intraction** not supported"
   ]
  },
  {
   "cell_type": "markdown",
   "id": "fc02e4c7",
   "metadata": {
    "slideshow": {
     "slide_type": "slide"
    }
   },
   "source": [
    "## Debugging"
   ]
  },
  {
   "cell_type": "markdown",
   "id": "20aa92ea-26f5-4419-b856-5d3f2dd47588",
   "metadata": {},
   "source": [
    "Load an example, compiling it in debug mode:"
   ]
  },
  {
   "cell_type": "code",
   "execution_count": null,
   "id": "bb65b95d-cc52-4272-8902-2b03e3c1b0c6",
   "metadata": {
    "vscode": {
     "languageId": "logtalk"
    }
   },
   "outputs": [],
   "source": [
    "set_logtalk_flag(debug, on), {elephants(loader)}."
   ]
  },
  {
   "cell_type": "markdown",
   "id": "a9835148-2db7-4cc3-adc7-11ac3a90c124",
   "metadata": {},
   "source": [
    "Try one of examples queries:"
   ]
  },
  {
   "cell_type": "code",
   "execution_count": null,
   "id": "65c863bb-1799-4824-ad71-3f0f53a6536c",
   "metadata": {
    "vscode": {
     "languageId": "logtalk"
    }
   },
   "outputs": [],
   "source": [
    "fred::number_of_legs(N)."
   ]
  },
  {
   "cell_type": "markdown",
   "id": "8f39233e-712b-486b-a68a-e7c6880ad203",
   "metadata": {},
   "source": [
    "Repeat the query printing the trace of a goal, starting by recompiling the example in debug mode:"
   ]
  },
  {
   "cell_type": "code",
   "execution_count": null,
   "id": "11e55ba0",
   "metadata": {
    "vscode": {
     "languageId": "logtalk"
    }
   },
   "outputs": [],
   "source": [
    "debugger::trace, fred::number_of_legs(N)."
   ]
  },
  {
   "cell_type": "markdown",
   "id": "f971d443-c47f-42d2-b729-8bec41606815",
   "metadata": {},
   "source": [
    "Turn off tracing and compiling in debug mode:"
   ]
  },
  {
   "cell_type": "code",
   "execution_count": null,
   "id": "fc9f4f09",
   "metadata": {
    "vscode": {
     "languageId": "logtalk"
    }
   },
   "outputs": [],
   "source": [
    "debugger::notrace, set_logtalk_flag(debug, off)."
   ]
  },
  {
   "cell_type": "markdown",
   "id": "ab5daef6",
   "metadata": {
    "slideshow": {
     "slide_type": "notes"
    }
   },
   "source": [
    "- Debugging cannot be performed interactively\n",
    "- Instead, print the trace of a goal"
   ]
  },
  {
   "cell_type": "markdown",
   "id": "ec9c8e72",
   "metadata": {
    "slideshow": {
     "slide_type": "slide"
    }
   },
   "source": [
    "## Running Tests"
   ]
  },
  {
   "cell_type": "code",
   "execution_count": null,
   "id": "83adb1d7-a886-4a51-aaa0-366a882c545c",
   "metadata": {
    "vscode": {
     "languageId": "logtalk"
    }
   },
   "outputs": [],
   "source": [
    "{ack(tester)}."
   ]
  },
  {
   "cell_type": "markdown",
   "id": "3276c9f1",
   "metadata": {
    "slideshow": {
     "slide_type": "slide"
    },
    "tags": []
   },
   "source": [
    "## Benchmarking Capabilities\n",
    "\n",
    "- Whenever a query is executed, its runtime is stored in the database"
   ]
  },
  {
   "cell_type": "code",
   "execution_count": null,
   "id": "a4115b4e",
   "metadata": {
    "vscode": {
     "languageId": "logtalk"
    }
   },
   "outputs": [],
   "source": [
    "list::member(M, [1,2,3])."
   ]
  },
  {
   "cell_type": "code",
   "execution_count": null,
   "id": "2af1675d",
   "metadata": {
    "vscode": {
     "languageId": "logtalk"
    }
   },
   "outputs": [],
   "source": [
    "jupyter::print_query_time."
   ]
  },
  {
   "cell_type": "markdown",
   "id": "9f46428b",
   "metadata": {
    "slideshow": {
     "slide_type": "notes"
    }
   },
   "source": [
    "- Access the previous goal and its runtime"
   ]
  },
  {
   "cell_type": "markdown",
   "id": "0a7c9e08",
   "metadata": {
    "slideshow": {
     "slide_type": "slide"
    }
   },
   "source": [
    "## Structured Output\n",
    "\n",
    "- Display all possible results of a goal in a table"
   ]
  },
  {
   "cell_type": "code",
   "execution_count": null,
   "id": "d4c3e970",
   "metadata": {
    "tags": [],
    "vscode": {
     "languageId": "logtalk"
    }
   },
   "outputs": [],
   "source": [
    "@table\n",
    "list::member(Member, [10,20,30,40]), Square is Member*Member."
   ]
  },
  {
   "cell_type": "markdown",
   "id": "49dc1e89-b8b4-4698-a615-424e1a166419",
   "metadata": {},
   "source": [
    "## Printing terms"
   ]
  },
  {
   "cell_type": "code",
   "execution_count": null,
   "id": "21bd5f19-ea65-4daa-9b6a-c4d7dbba9ec4",
   "metadata": {
    "vscode": {
     "languageId": "logtalk"
    }
   },
   "outputs": [],
   "source": [
    "@tree\n",
    "a(1, b(2, c(3, 4)))."
   ]
  },
  {
   "cell_type": "markdown",
   "id": "dd941d61",
   "metadata": {
    "slideshow": {
     "slide_type": "slide"
    }
   },
   "source": [
    "## Introspection"
   ]
  },
  {
   "cell_type": "markdown",
   "id": "4f36833f",
   "metadata": {},
   "source": [
    "- Predicate inspection: *Shift + Tab*\n",
    "    - Help retrieved `help/1`"
   ]
  },
  {
   "cell_type": "markdown",
   "id": "26ffa7b6",
   "metadata": {
    "slideshow": {
     "slide_type": "fragment"
    }
   },
   "source": [
    "- Various `jupyter` predicates\n",
    "    - Access documentation with a help predicate"
   ]
  },
  {
   "cell_type": "code",
   "execution_count": null,
   "id": "1b7fc919",
   "metadata": {
    "scrolled": true,
    "tags": [],
    "vscode": {
     "languageId": "logtalk"
    }
   },
   "outputs": [],
   "source": [
    "jupyter::help."
   ]
  },
  {
   "cell_type": "markdown",
   "id": "fde4e5ea",
   "metadata": {
    "slideshow": {
     "slide_type": "notes"
    }
   },
   "source": [
    "- Various `juypter` (mostly convenience) predicates\n",
    "- Difficult to remember all of them\n",
    "    - In addition to completion and inspection: predicate to print all documentation"
   ]
  },
  {
   "cell_type": "markdown",
   "id": "acc61e90-a8ad-41fa-aeec-37aa4f2e05de",
   "metadata": {
    "slideshow": {
     "slide_type": "slide"
    },
    "tags": []
   },
   "source": [
    "## Jupyter\n",
    "\n",
    "- Originates from the **IPython** project\n",
    "    - Enables interactive Python development\n",
    "    - Several frontends, including a former version of **Jupyter Notebook**\n",
    "        - Web application for handling Jupyter notebooks\n",
    "        - Planned to be replaced by **JupyterLab**\n",
    "\n"
   ]
  },
  {
   "cell_type": "markdown",
   "id": "65ec5ff2",
   "metadata": {
    "slideshow": {
     "slide_type": "fragment"
    }
   },
   "source": [
    "- *Two-process model*:\n",
    "<img style=\"float: right; max-width: 40%;\" src=\"user_interaction_diagram.png\">\n",
    "\n",
    "    - Client process: responsible for user interaction\n",
    "    - Kernel process: handles code execution"
   ]
  },
  {
   "cell_type": "markdown",
   "id": "ad708ac3-8d47-4ee8-8171-7c786550c288",
   "metadata": {
    "slideshow": {
     "slide_type": "slide"
    },
    "tags": []
   },
   "source": [
    "## Architecture\n",
    "\n",
    "<img style=\"max-width: 80%;\" src=\"architecture_diagram.png\">\n",
    "\n",
    "\n",
    "\n",
    "\n"
   ]
  },
  {
   "cell_type": "markdown",
   "id": "2fa42e79-c7d5-4ca6-b831-8fc7ad30adf3",
   "metadata": {
    "slideshow": {
     "slide_type": "notes"
    },
    "tags": []
   },
   "source": [
    "Kernel split in three:\n",
    "- Extends IPython kernel: **inherits** the communication with a frontend via the ZeroMQ protocol\n",
    "\n",
    "\n",
    "- Does not interpret Prolog itself\n",
    "    - Starts an existing Prolog instance in a **subprocess**\n",
    "        - Communicates with it according to the JSON-RPC 2.0 protocol\n",
    "    - For any code execution **request**:\n",
    "        - Sends a request message to the Prolog server containing the **code**\n",
    "        - Prolog terms are read from the code and handled\n",
    "    \n",
    "    \n",
    "- Make the kernel **extensible**: additional layer of a *kernel implementation* in between\n",
    "    - **Responsible** for basically all functionality (e.g. handling Prolog **server**)\n",
    "    - For every request the kernel receives, a **method** of the implementation class is called\n",
    "    - Kernel started: loads **config** file\n",
    "        - Can contain paths to interpreter-specific Python class files\n",
    "    - By **extending** default implementation class and **overriding** methods\n",
    "        - Kernel behaviour can be adjusted\n",
    "    - Had to be done to support predicate inspection for both    \n",
    "- Configure to start a different Prolog server"
   ]
  },
  {
   "cell_type": "markdown",
   "id": "8323263c",
   "metadata": {
    "slideshow": {
     "slide_type": "slide"
    }
   },
   "source": [
    "## Changing the Prolog Implementation\n",
    "\n",
    "- Switch between Prolog backends on the fly\n",
    "- The previous server process is kept running\n",
    "    - When switching back, the database state has not changed\n",
    "\n",
    "Several Prolog backends are supported and shortcuts are provided to switch to them if installed:\n",
    "\n",
    "- LVM (`lvm`)\n",
    "- SICStus Prolog (`sicstus`)\n",
    "- SWI-Prolog (`swi`)\n",
    "- Trealla Prolog (`trealla`)\n",
    "- YAP (`yap`)\n",
    "\n",
    "The above shortcuts assume Logtalk was installed using either one of the provided installers or by running the manual installation script (i.e. you can run e.g. Logtalk with SWI-Prolog by simply typing `swilgt`). But if you running Logtalk from a git clone directory, you will need to switch Prolog backends using the `jupyter::set_prolog_backend(BackendIntegrationScript)` predicate instead (e.g. `jupyter::set_prolog_backend(trealla)`)."
   ]
  },
  {
   "cell_type": "code",
   "execution_count": null,
   "id": "84fa034a",
   "metadata": {
    "slideshow": {
     "slide_type": "fragment"
    },
    "vscode": {
     "languageId": "logtalk"
    }
   },
   "outputs": [],
   "source": [
    "trealla."
   ]
  },
  {
   "cell_type": "markdown",
   "id": "616a5e9e-48ea-4a07-997b-d73f73e8b8d4",
   "metadata": {},
   "source": [
    "Define our own list append predicate and consult it:"
   ]
  },
  {
   "cell_type": "code",
   "execution_count": null,
   "id": "15202e77-f240-424c-95e6-9d5609772d73",
   "metadata": {
    "vscode": {
     "languageId": "logtalk"
    }
   },
   "outputs": [],
   "source": [
    "@file app.pl\n",
    "app([], List, List).\n",
    "app([Head| Tail], List, [Head| Tail2]) :-\n",
    "    app(Tail, List, Tail2)."
   ]
  },
  {
   "cell_type": "code",
   "execution_count": null,
   "id": "6bf764e0",
   "metadata": {
    "vscode": {
     "languageId": "logtalk"
    }
   },
   "outputs": [],
   "source": [
    "app([1,2], [3], R)."
   ]
  },
  {
   "cell_type": "markdown",
   "id": "1ddac35f",
   "metadata": {
    "slideshow": {
     "slide_type": "slide"
    }
   },
   "source": [
    "## Extending the Kernel\n",
    "\n",
    "- At first, the kernel was developed for SICStus Prolog only\n",
    "    - Adjusted for SWI-Prolog as well\n",
    "    - Made extensible for further Prolog backends\n",
    "    "
   ]
  },
  {
   "cell_type": "markdown",
   "id": "135ec7c8",
   "metadata": {
    "slideshow": {
     "slide_type": "fragment"
    }
   },
   "source": [
    "- By **replacing the Prolog server**, the Python part can easily support a different implementation\n",
    "    - Requirements: receive requests as JSON-RPC 2.0 messages, handle them, and send responses\n",
    "    - Might be possible to further extend the existing server with conditional compilation\n",
    "        - Advanced features might require significant changes"
   ]
  },
  {
   "cell_type": "markdown",
   "id": "ac2a6913",
   "metadata": {
    "slideshow": {
     "slide_type": "fragment"
    }
   },
   "source": [
    "- By **overriding the `LogtalkKernelBaseImplementation` class**, most of the basic kernel behaviour can be adjusted"
   ]
  },
  {
   "cell_type": "markdown",
   "id": "e2b7918e",
   "metadata": {
    "slideshow": {
     "slide_type": "notes"
    }
   },
   "source": [
    "- Server replacement:\n",
    "    - Portable code except for the stream redirection details that depend on the backend\n",
    "    - Extend existing:\n",
    "        - Implementing **basic code execution** should not require major effort\n",
    "        - More **advanced features** might involve significant changes\n",
    "\n",
    "\n",
    "- Replacement of the server does not suffice?: Python extension"
   ]
  },
  {
   "cell_type": "markdown",
   "id": "1b2c2011",
   "metadata": {
    "slideshow": {
     "slide_type": "slide"
    }
   },
   "source": [
    "## Future Work\n",
    "\n",
    "- Support further Prolog backends\n",
    "    - Or multiple versions of the same implementation"
   ]
  },
  {
   "cell_type": "markdown",
   "id": "5a9bfce9",
   "metadata": {
    "slideshow": {
     "slide_type": "fragment"
    }
   },
   "source": [
    "- Combine strengths of several Prolog backends\n",
    "    - Kernel can be connected with multiple servers at once\n",
    "    - Reusing results for another one should be relatively easy"
   ]
  },
  {
   "cell_type": "markdown",
   "id": "2550d887",
   "metadata": {
    "slideshow": {
     "slide_type": "fragment"
    }
   },
   "source": [
    "- Send commands to all available Logtalk servers *at once*\n",
    "    - Detect differences in the behaviour\n",
    "    - Compare the performance by using the benchmarking functionality"
   ]
  }
 ],
 "metadata": {
  "celltoolbar": "Slideshow",
  "kernelspec": {
   "display_name": "Logtalk",
   "language": "logtalk",
   "name": "logtalk_kernel"
  },
  "language_info": {
   "codemirror_mode": "logtalk",
   "file_extension": ".lgt",
   "mimetype": "text/x-logtalk",
   "name": "Logtalk"
  }
 },
 "nbformat": 4,
 "nbformat_minor": 5
}
