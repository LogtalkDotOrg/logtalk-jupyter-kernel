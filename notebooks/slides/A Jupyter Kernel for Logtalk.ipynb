{
 "cells": [
  {
   "cell_type": "markdown",
   "id": "9918ee22",
   "metadata": {
    "slideshow": {
     "slide_type": "skip"
    }
   },
   "source": [
    "This notebook contains slides for presenting some functionality and implementation details of the Logtalk Jupyter kernel.\n",
    "\n",
    "\n",
    "It was created for a [RISE](https://rise.readthedocs.io/en/stable/index.html) slideshow started from Jupyter Notebook."
   ]
  },
  {
   "cell_type": "markdown",
   "id": "44e0933b",
   "metadata": {
    "slideshow": {
     "slide_type": "slide"
    },
    "tags": []
   },
   "source": [
    "# A Jupyter Kernel for Prolog"
   ]
  },
  {
   "cell_type": "markdown",
   "id": "235f081f",
   "metadata": {
    "slideshow": {
     "slide_type": "fragment"
    }
   },
   "source": [
    "- Execute queries"
   ]
  },
  {
   "cell_type": "code",
   "execution_count": 2,
   "id": "94c585eb",
   "metadata": {
    "slideshow": {
     "slide_type": "skip"
    },
    "tags": []
   },
   "outputs": [
    {
     "data": {
      "text/plain": [
       "\u001b[1mB = 4"
      ]
     },
     "metadata": {},
     "output_type": "display_data"
    }
   ],
   "source": [
    "atom_length(atom,B)."
   ]
  },
  {
   "cell_type": "markdown",
   "id": "f5313ece",
   "metadata": {
    "slideshow": {
     "slide_type": "fragment"
    }
   },
   "source": [
    "- Define predicates "
   ]
  },
  {
   "cell_type": "code",
   "execution_count": 3,
   "id": "566ce3e6",
   "metadata": {
    "slideshow": {
     "slide_type": "-"
    },
    "tags": []
   },
   "outputs": [
    {
     "data": {
      "text/plain": [
       "% [ /Users/pmoura/Documents/Logtalk/logtalk-jupyter-kernel/notebooks/slides/user.lgt loaded ]\n",
       "% (0 warnings)"
      ]
     },
     "metadata": {},
     "output_type": "display_data"
    },
    {
     "data": {
      "text/plain": [
       "\u001b[1mtrue"
      ]
     },
     "metadata": {},
     "output_type": "display_data"
    }
   ],
   "source": [
    "@user\n",
    "my_append([], Res, Res).\n",
    "my_append([H|T], List, [H|Res]) :-\n",
    "  my_append(T, List, Res)."
   ]
  },
  {
   "cell_type": "code",
   "execution_count": 4,
   "id": "a181ae15",
   "metadata": {
    "slideshow": {
     "slide_type": "fragment"
    },
    "tags": []
   },
   "outputs": [
    {
     "data": {
      "text/plain": [
       "\u001b[1mR = [1,2,3,4]"
      ]
     },
     "metadata": {},
     "output_type": "display_data"
    }
   ],
   "source": [
    "my_append([1,2], [3,4], R)."
   ]
  },
  {
   "cell_type": "markdown",
   "id": "5447bf79",
   "metadata": {
    "slideshow": {
     "slide_type": "notes"
    }
   },
   "source": [
    "- Provides the possibility of executing Prolog code with Jupyter applications\n",
    "- Replicates the standard Prolog usage and adds convenience functionality\n",
    "\n",
    "\n",
    "- **Execute queries**: Example showing additional functionality: `atom_length(atom, L)`\n",
    "    - Exact name? *Tab* &rarr; completion\n",
    "    - Argument order? *Shift+Tab* &rarr; inspection \n",
    "    - Note: **missing terminating full-stop**\n",
    "        - Eliminate a cause for queries not to be run right away\n",
    "\n",
    "\n",
    "- Also: **Define predicates**\n",
    "\n",
    "\n",
    "- Jupyter can be used to create notebooks consisting of cells like these ones\n",
    "    - Source code and documentation\n",
    "    - Create Assignments\n",
    "    - Create slides for lectures like these ones\n",
    "    - &rarr; Useful for teaching Prolog\n",
    "\n",
    "\n",
    "- Before presenting implementation details: **General overview** of most important features for SWI-Prolog"
   ]
  },
  {
   "cell_type": "markdown",
   "id": "a836e42f",
   "metadata": {
    "slideshow": {
     "slide_type": "slide"
    }
   },
   "source": [
    "## Differentiating Term Types\n",
    "\n",
    "- A code cell can contain a query or multiple terms to be interpreted as directives and clauses to be added to a file. In the later case, the first line must be one of `@user`, `@user+`, `@file FILENAME`,  or `@file+ FILENAME`. The `+` variants append to an existing file instead of redefining it."
   ]
  },
  {
   "cell_type": "markdown",
   "id": "d84c8dd0",
   "metadata": {
    "slideshow": {
     "slide_type": "fragment"
    }
   },
   "source": [
    "### Query\n",
    "- Single term without body in a cell\n"
   ]
  },
  {
   "cell_type": "code",
   "execution_count": 5,
   "id": "0e2c194d",
   "metadata": {
    "slideshow": {
     "slide_type": "-"
    }
   },
   "outputs": [
    {
     "data": {
      "text/plain": [
       "\u001b[1mX = [1,2,3],\n",
       "Z = [1,2,3,4,5,6]"
      ]
     },
     "metadata": {},
     "output_type": "display_data"
    }
   ],
   "source": [
    "X = [1,2,3], list::append(X, [4,5,6], Z)."
   ]
  },
  {
   "cell_type": "markdown",
   "id": "5dfcbfd0",
   "metadata": {
    "slideshow": {
     "slide_type": "subslide"
    }
   },
   "source": [
    "### Clause definition\n",
    "- Any other term"
   ]
  },
  {
   "cell_type": "code",
   "execution_count": 6,
   "id": "aca6b6dc",
   "metadata": {
    "tags": []
   },
   "outputs": [
    {
     "data": {
      "text/plain": [
       "% [ /Users/pmoura/Documents/Logtalk/logtalk-jupyter-kernel/notebooks/slides/user.lgt already loaded; skipping ]\n",
       "% (0 warnings)"
      ]
     },
     "metadata": {},
     "output_type": "display_data"
    },
    {
     "data": {
      "text/plain": [
       "\u001b[1mtrue"
      ]
     },
     "metadata": {},
     "output_type": "display_data"
    }
   ],
   "source": [
    "@user\n",
    "fact(a).\n",
    "fact(b)."
   ]
  },
  {
   "cell_type": "markdown",
   "id": "b24cb3ab",
   "metadata": {
    "slideshow": {
     "slide_type": "fragment"
    }
   },
   "source": [
    "In this case, previous clauses are replaced."
   ]
  },
  {
   "cell_type": "code",
   "execution_count": 7,
   "id": "be2a0e50",
   "metadata": {},
   "outputs": [
    {
     "data": {
      "text/plain": [
       "% [ /Users/pmoura/Documents/Logtalk/logtalk-jupyter-kernel/notebooks/slides/user.lgt already loaded; skipping ]\n",
       "% (0 warnings)"
      ]
     },
     "metadata": {},
     "output_type": "display_data"
    },
    {
     "data": {
      "text/plain": [
       "\u001b[1mtrue"
      ]
     },
     "metadata": {},
     "output_type": "display_data"
    }
   ],
   "source": [
    "@user\n",
    "fact(c).\n",
    "fact(d)."
   ]
  },
  {
   "cell_type": "markdown",
   "id": "75aef399",
   "metadata": {
    "slideshow": {
     "slide_type": "subslide"
    }
   },
   "source": [
    "### Clause definition\n",
    "\n",
    "- New clauses can be added instead by declaring the predicate `discontiguous`"
   ]
  },
  {
   "cell_type": "code",
   "execution_count": 1,
   "id": "16e1b545",
   "metadata": {},
   "outputs": [
    {
     "data": {
      "text/plain": [
       "% [ /Users/pmoura/Documents/Logtalk/logtalk-jupyter-kernel/notebooks/slides/user.lgt loaded ]\n",
       "% (0 warnings)"
      ]
     },
     "metadata": {},
     "output_type": "display_data"
    },
    {
     "data": {
      "text/plain": [
       "\u001b[1mtrue"
      ]
     },
     "metadata": {},
     "output_type": "display_data"
    }
   ],
   "source": [
    "@user\n",
    ":- discontiguous(a/1)."
   ]
  },
  {
   "cell_type": "code",
   "execution_count": 2,
   "id": "029579c1",
   "metadata": {},
   "outputs": [
    {
     "data": {
      "text/plain": [
       "% [ /Users/pmoura/Documents/Logtalk/logtalk-jupyter-kernel/notebooks/slides/user.lgt compiled ]\n",
       "% [ /Users/pmoura/Documents/Logtalk/logtalk-jupyter-kernel/notebooks/slides/user.lgt reloaded ]\n",
       "% (0 warnings)"
      ]
     },
     "metadata": {},
     "output_type": "display_data"
    },
    {
     "data": {
      "text/plain": [
       "\u001b[1mtrue"
      ]
     },
     "metadata": {},
     "output_type": "display_data"
    }
   ],
   "source": [
    "@user+\n",
    "a(1).\n",
    "a(2)."
   ]
  },
  {
   "cell_type": "code",
   "execution_count": 3,
   "id": "35670af2",
   "metadata": {
    "tags": []
   },
   "outputs": [
    {
     "data": {
      "text/plain": [
       "% [ /Users/pmoura/Documents/Logtalk/logtalk-jupyter-kernel/notebooks/slides/user.lgt compiled ]\n",
       "% [ /Users/pmoura/Documents/Logtalk/logtalk-jupyter-kernel/notebooks/slides/user.lgt reloaded ]\n",
       "% (0 warnings)"
      ]
     },
     "metadata": {},
     "output_type": "display_data"
    },
    {
     "data": {
      "text/plain": [
       "\u001b[1mtrue"
      ]
     },
     "metadata": {},
     "output_type": "display_data"
    }
   ],
   "source": [
    "@user+\n",
    "b(3)."
   ]
  },
  {
   "cell_type": "code",
   "execution_count": 4,
   "id": "fdda2fa8-191c-4490-b3be-7a255da81bd3",
   "metadata": {},
   "outputs": [
    {
     "data": {
      "text/plain": [
       "% [ /Users/pmoura/Documents/Logtalk/logtalk-jupyter-kernel/notebooks/slides/user.lgt compiled ]\n",
       "% [ /Users/pmoura/Documents/Logtalk/logtalk-jupyter-kernel/notebooks/slides/user.lgt reloaded ]\n",
       "% (0 warnings)"
      ]
     },
     "metadata": {},
     "output_type": "display_data"
    },
    {
     "data": {
      "text/plain": [
       "\u001b[1mtrue"
      ]
     },
     "metadata": {},
     "output_type": "display_data"
    }
   ],
   "source": [
    "@user+\n",
    "a(4)."
   ]
  },
  {
   "cell_type": "code",
   "execution_count": 5,
   "id": "009dc51b",
   "metadata": {},
   "outputs": [
    {
     "data": {
      "text/plain": [
       "a(1).\n",
       "a(2).\n",
       "a(4).\n",
       "\n",
       "b(3).\n"
      ]
     },
     "metadata": {},
     "output_type": "display_data"
    },
    {
     "data": {
      "text/plain": [
       "\u001b[1mtrue"
      ]
     },
     "metadata": {},
     "output_type": "display_data"
    }
   ],
   "source": [
    "listing(a/1), listing(b/1)."
   ]
  },
  {
   "cell_type": "markdown",
   "id": "61d0119e",
   "metadata": {
    "slideshow": {
     "slide_type": "notes"
    }
   },
   "source": [
    "- A user might want to define a predicate in separate cells"
   ]
  },
  {
   "cell_type": "markdown",
   "id": "42ee0669",
   "metadata": {
    "slideshow": {
     "slide_type": "slide"
    }
   },
   "source": [
    "## Handling Multiple Solutions\n",
    "\n",
    "- Mimicking the usual backtracking mechanism"
   ]
  },
  {
   "cell_type": "code",
   "execution_count": 6,
   "id": "f4ebf82f",
   "metadata": {},
   "outputs": [
    {
     "data": {
      "text/plain": [
       "\u001b[1mM = a"
      ]
     },
     "metadata": {},
     "output_type": "display_data"
    }
   ],
   "source": [
    "list::member(M, [a,b,c])."
   ]
  },
  {
   "cell_type": "code",
   "execution_count": 7,
   "id": "182656ba",
   "metadata": {},
   "outputs": [
    {
     "data": {
      "text/plain": [
       "% Retrying goal: list::member(M,[a,b,c])\n"
      ]
     },
     "metadata": {},
     "output_type": "display_data"
    },
    {
     "data": {
      "text/plain": [
       "\u001b[1mM = b"
      ]
     },
     "metadata": {},
     "output_type": "display_data"
    }
   ],
   "source": [
    "jupyter::retry."
   ]
  },
  {
   "cell_type": "markdown",
   "id": "e13bd9a2",
   "metadata": {
    "slideshow": {
     "slide_type": "notes"
    }
   },
   "source": [
    "- Problem of the Jupyter kernel: **user intraction** not supported"
   ]
  },
  {
   "cell_type": "markdown",
   "id": "fc02e4c7",
   "metadata": {
    "slideshow": {
     "slide_type": "slide"
    }
   },
   "source": [
    "## Debugging"
   ]
  },
  {
   "cell_type": "markdown",
   "id": "20aa92ea-26f5-4419-b856-5d3f2dd47588",
   "metadata": {},
   "source": [
    "Load an example, compiling it in debug mode:"
   ]
  },
  {
   "cell_type": "code",
   "execution_count": 3,
   "id": "bb65b95d-cc52-4272-8902-2b03e3c1b0c6",
   "metadata": {},
   "outputs": [
    {
     "data": {
      "text/plain": [
       "% [ /Users/pmoura/logtalk/examples/elephants/elephants.lgt loaded ]\n",
       "% [ /Users/pmoura/logtalk/examples/elephants/loader.lgt loaded ]\n",
       "% (0 warnings)"
      ]
     },
     "metadata": {},
     "output_type": "display_data"
    },
    {
     "data": {
      "text/plain": [
       "\u001b[1myes"
      ]
     },
     "metadata": {},
     "output_type": "display_data"
    }
   ],
   "source": [
    "set_logtalk_flag(debug, on), {elephants(loader)}."
   ]
  },
  {
   "cell_type": "markdown",
   "id": "a9835148-2db7-4cc3-adc7-11ac3a90c124",
   "metadata": {},
   "source": [
    "Try one of examples queries:"
   ]
  },
  {
   "cell_type": "code",
   "execution_count": 4,
   "id": "65c863bb-1799-4824-ad71-3f0f53a6536c",
   "metadata": {},
   "outputs": [
    {
     "data": {
      "text/plain": [
       "\u001b[1mN = 4"
      ]
     },
     "metadata": {},
     "output_type": "display_data"
    }
   ],
   "source": [
    "fred::number_of_legs(N)."
   ]
  },
  {
   "cell_type": "markdown",
   "id": "8f39233e-712b-486b-a68a-e7c6880ad203",
   "metadata": {},
   "source": [
    "Repeat the query printing the trace of a goal, starting by recompiling the example in debug mode:"
   ]
  },
  {
   "cell_type": "code",
   "execution_count": 5,
   "id": "11e55ba0",
   "metadata": {},
   "outputs": [
    {
     "data": {
      "text/plain": [
       "   Debugger switched on: tracing everything for all objects compiled in debug mode.\n",
       "   Call: (1) fred::number_of_legs(_112771)\n",
       "   Call: (2) number_of_legs(_112771)\n",
       "   Fact: (2) number_of_legs(4)\n",
       "   Exit: (2) number_of_legs(4)\n",
       "   Exit: (1) fred::number_of_legs(4)"
      ]
     },
     "metadata": {},
     "output_type": "display_data"
    },
    {
     "data": {
      "text/plain": [
       "\u001b[1mN = 4"
      ]
     },
     "metadata": {},
     "output_type": "display_data"
    }
   ],
   "source": [
    "debugger::trace, fred::number_of_legs(N)."
   ]
  },
  {
   "cell_type": "markdown",
   "id": "f971d443-c47f-42d2-b729-8bec41606815",
   "metadata": {},
   "source": [
    "Turn off tracing and compiling in debug mode:"
   ]
  },
  {
   "cell_type": "code",
   "execution_count": 6,
   "id": "fc9f4f09",
   "metadata": {},
   "outputs": [
    {
     "data": {
      "text/plain": [
       "   Debugger switched off."
      ]
     },
     "metadata": {},
     "output_type": "display_data"
    },
    {
     "data": {
      "text/plain": [
       "\u001b[1myes"
      ]
     },
     "metadata": {},
     "output_type": "display_data"
    }
   ],
   "source": [
    "debugger::notrace, set_logtalk_flag(debug, off)."
   ]
  },
  {
   "cell_type": "markdown",
   "id": "ab5daef6",
   "metadata": {
    "slideshow": {
     "slide_type": "notes"
    }
   },
   "source": [
    "- Debugging cannot be performed interactively\n",
    "- Instead, print the trace of a goal"
   ]
  },
  {
   "cell_type": "markdown",
   "id": "ec9c8e72",
   "metadata": {
    "slideshow": {
     "slide_type": "slide"
    }
   },
   "source": [
    "## Running Tests"
   ]
  },
  {
   "cell_type": "code",
   "execution_count": 7,
   "id": "83adb1d7-a886-4a51-aaa0-366a882c545c",
   "metadata": {},
   "outputs": [
    {
     "data": {
      "text/plain": [
       "% \n",
       "% tests started at 2022-11-16, 21:43:53\n",
       "% \n",
       "% running tests from object tests\n",
       "% file: /Users/pmoura/logtalk/examples/ack/tests.lgt\n",
       "% \n",
       "% ack_1: success (in 0.0020000000000000018 seconds)\n",
       "% ack_2: success (in 0.006000000000000005 seconds)\n",
       "% ack_3: success (in 0.028000000000000025 seconds)\n",
       "% \n",
       "% 3 tests: 0 skipped, 3 passed, 0 failed (0 flaky)\n",
       "% completed tests from object tests\n",
       "% \n",
       "% \n",
       "% clause coverage ratio and covered clauses per entity predicate\n",
       "% \n",
       "% ack: ack/3 - 3/3 - (all)\n",
       "% ack: 3 out of 3 clauses covered, 100.000000% coverage\n",
       "% \n",
       "% 1 entity declared as covered containing 3 clauses\n",
       "% 1 out of 1 entity covered, 100.000000% entity coverage\n",
       "% 3 out of 3 clauses covered, 100.000000% clause coverage\n",
       "% \n",
       "% tests ended at 2022-11-16, 21:43:53\n",
       "% "
      ]
     },
     "metadata": {},
     "output_type": "display_data"
    },
    {
     "data": {
      "text/plain": [
       "\u001b[1myes"
      ]
     },
     "metadata": {},
     "output_type": "display_data"
    }
   ],
   "source": [
    "{ack(tester)}."
   ]
  },
  {
   "cell_type": "markdown",
   "id": "3276c9f1",
   "metadata": {
    "slideshow": {
     "slide_type": "slide"
    },
    "tags": []
   },
   "source": [
    "## Benchmarking Capabilities\n",
    "\n",
    "- Whenever a query is executed, its runtime is stored in the database"
   ]
  },
  {
   "cell_type": "code",
   "execution_count": 13,
   "id": "a4115b4e",
   "metadata": {},
   "outputs": [
    {
     "data": {
      "text/plain": [
       "\u001b[1mM = 1"
      ]
     },
     "metadata": {},
     "output_type": "display_data"
    }
   ],
   "source": [
    "list::member(M, [1,2,3])."
   ]
  },
  {
   "cell_type": "code",
   "execution_count": 14,
   "id": "2af1675d",
   "metadata": {},
   "outputs": [
    {
     "data": {
      "text/plain": [
       "Query:   list::member(M,[1,2,3])\n",
       "Runtime: 0.0 s"
      ]
     },
     "metadata": {},
     "output_type": "display_data"
    },
    {
     "data": {
      "text/plain": [
       "\u001b[1mtrue"
      ]
     },
     "metadata": {},
     "output_type": "display_data"
    }
   ],
   "source": [
    "jupyter::print_query_time."
   ]
  },
  {
   "cell_type": "markdown",
   "id": "9f46428b",
   "metadata": {
    "slideshow": {
     "slide_type": "notes"
    }
   },
   "source": [
    "- Access the previous goal and its runtime"
   ]
  },
  {
   "cell_type": "markdown",
   "id": "0a7c9e08",
   "metadata": {
    "slideshow": {
     "slide_type": "slide"
    }
   },
   "source": [
    "## Structured Output\n",
    "\n",
    "- Display all possible results of a goal in a table"
   ]
  },
  {
   "cell_type": "code",
   "execution_count": 15,
   "id": "d4c3e970",
   "metadata": {
    "tags": []
   },
   "outputs": [
    {
     "data": {
      "text/markdown": [
       "Member | Square | \n",
       ":- | :- | \n",
       "10 | 100 | \n",
       "20 | 400 | \n",
       "30 | 900 | \n",
       "40 | 1600 | "
      ],
      "text/plain": [
       "Member | Square | \n",
       ":- | :- | \n",
       "10 | 100 | \n",
       "20 | 400 | \n",
       "30 | 900 | \n",
       "40 | 1600 | "
      ]
     },
     "metadata": {},
     "output_type": "display_data"
    },
    {
     "data": {
      "text/plain": [
       "\u001b[1mtrue"
      ]
     },
     "metadata": {},
     "output_type": "display_data"
    }
   ],
   "source": [
    "jupyter::print_table((list::member(Member, [10,20,30,40]), Square is Member*Member))."
   ]
  },
  {
   "cell_type": "markdown",
   "id": "dd941d61",
   "metadata": {
    "slideshow": {
     "slide_type": "slide"
    }
   },
   "source": [
    "## Introspection"
   ]
  },
  {
   "cell_type": "markdown",
   "id": "4f36833f",
   "metadata": {},
   "source": [
    "- Predicate inspection: *Shift + Tab*\n",
    "    - Help retrieved `help/1`"
   ]
  },
  {
   "cell_type": "markdown",
   "id": "26ffa7b6",
   "metadata": {
    "slideshow": {
     "slide_type": "fragment"
    }
   },
   "source": [
    "- Various `jupyter` predicates\n",
    "    - Access documentation with a help predicate"
   ]
  },
  {
   "cell_type": "code",
   "execution_count": 16,
   "id": "1b7fc919",
   "metadata": {
    "scrolled": true,
    "tags": []
   },
   "outputs": [
    {
     "data": {
      "text/plain": [
       "jupyter::halt or halt\n",
       "\n",
       "    Shuts down the running Prolog process.\n",
       "\n",
       "    The next time code is to be executed, a new process is started.\n",
       "    Everything defined in the database before does not exist anymore.\n",
       "\n",
       "    Corresponds to the functionality of halt/0.\n",
       "    Has the same effect as interrupting or restarting the Jupyter kernel.\n",
       "\n",
       "--------------------------------------------------------------------------------\n",
       "\n",
       "jupyter::help\n",
       "\n",
       "    Outputs the documentation for all predicates from object jupyter.\n",
       "\n",
       "--------------------------------------------------------------------------------\n",
       "\n",
       "jupyter::print_query_time\n",
       "\n",
       "    Prints the latest previous query and its runtime in seconds.\n",
       "\n",
       "--------------------------------------------------------------------------------\n",
       "\n",
       "jupyter::print_queries(+Ids)\n",
       "\n",
       "    Prints previous queries which were executed in requests with IDs in Ids.\n",
       "\n",
       "    Any $Var terms might be replaced by the variable's name.\n",
       "    This is the case if a previous query with ID in Ids contains Var.\n",
       "    Otherwise, $Var is not replaced.\n",
       "\n",
       "--------------------------------------------------------------------------------\n",
       "\n",
       "jupyter::print_sld_tree(+Goal)\n",
       "\n",
       "    Executes the goal Goal and prints a graph resembling its SLD tree.\n",
       "\n",
       "    Needs to be the only goal of a query.\n",
       "\n",
       "--------------------------------------------------------------------------------\n",
       "\n",
       "jupyter::print_table(+Goal)\n",
       "\n",
       "    Computes all results of the goal Goal with findall/3.\n",
       "    These are printed in a table.\n",
       "\n",
       "    Needs to be the only goal of a query.\n",
       "\n",
       "    Example: jupyter::print_table(current_prolog_flag(FlagName, Value)).\n",
       "\n",
       "--------------------------------------------------------------------------------\n",
       "\n",
       "jupyter::print_table(+ValuesLists, +VariableNames)\n",
       "\n",
       "    Prints a table of the values in ValuesLists.\n",
       "\n",
       "    ValuesLists is a list of lists of the same length.\n",
       "    Each list corresponds to one line of the table.\n",
       "\n",
       "    VariableNames is used to fill the header of the table.\n",
       "    If VariableNames=[], capital letters are used.\n",
       "    Otherwise, VariableNames needs to be a list of ground terms.\n",
       "    It needs to be of the same length as the values lists.\n",
       "\n",
       "    Needs to be the only goal of a query.\n",
       "\n",
       "    Can be used with a predicate like findall/3, but not directly.\n",
       "    Instead, a previous binding can be accessed with a $Var term.\n",
       "\n",
       "    Examples:\n",
       "        jupyter::print_table([[10,100],[20,400],[30,900]], ['X', 'Y']).\n",
       "        jupyter::print_table($ResultLists, []).\n",
       "\n",
       "--------------------------------------------------------------------------------\n",
       "\n",
       "jupyter::print_transition_graph(+PredSpec, +FromIndex, +ToIndex, +LabelIndex)\n",
       "\n",
       "    Finds all solutions of the predicate with specification PredSpec.\n",
       "    Prints a graph interpreting the solutions as transitions.\n",
       "\n",
       "    PredSpec needs to be of the form PredName/PredArity.\n",
       "\n",
       "    FromIndex and ToIndex point to predicate arguments used as nodes.\n",
       "    LabelIndex points to the argument providing a label for an edge.\n",
       "    If LabelIndex=0, no label is shown.\n",
       "\n",
       "    Needs to be the only goal of a query.\n",
       "\n",
       "--------------------------------------------------------------------------------\n",
       "\n",
       "jupyter::print_variable_bindings\n",
       "\n",
       "    Prints variable bindings from previous queries.\n",
       "    For each variable, the latest value it was bound to is shown.\n",
       "\n",
       "    The variable value can be accessed with a $Var term by any query.\n",
       "    In that case, the term is replaced by the value.\n",
       "    If there is no previous value, an error message is printed.\n",
       "\n",
       "--------------------------------------------------------------------------------\n",
       "\n",
       "jupyter::retry or retry\n",
       "\n",
       "    Causes backtracking of the latest active query.\n",
       "\n",
       "    Needs to be the only goal of a query.\n",
       "\n",
       "--------------------------------------------------------------------------------\n",
       "\n",
       "jupyter::set_prolog_backend(+Backend)\n",
       "\n",
       "    Activates the given Prolog backend.\n",
       "\n",
       "    Code in the same cell is executed with the previous backend.\n",
       "\n",
       "    Needs to be the only goal of a query.\n",
       "\n",
       "--------------------------------------------------------------------------------\n",
       "\n",
       "jupyter::trace(+Goal)\n",
       "\n",
       "    Prints the trace of the goal Goal.\n",
       "\n",
       "    By default, no port is leashed so that no user interaction is requested.\n",
       "    All previously set breakpoints are still active.\n",
       "\n",
       "    Needs to be the only goal of a query in order to work as expected.\n",
       "\n",
       "--------------------------------------------------------------------------------\n",
       "\n",
       "jupyter::update_completion_data\n",
       "\n",
       "    Updates the predicate data used for code completion using Tab.\n",
       "\n",
       "    This is done by retrieving all built-in and exported predicates.\n",
       "    Needed to use completion for predicates from a newly loaded code.\n",
       "\n",
       "    Needs to be the only goal of a query."
      ]
     },
     "metadata": {},
     "output_type": "display_data"
    },
    {
     "data": {
      "text/plain": [
       "\u001b[1mtrue"
      ]
     },
     "metadata": {},
     "output_type": "display_data"
    }
   ],
   "source": [
    "jupyter::help."
   ]
  },
  {
   "cell_type": "markdown",
   "id": "fde4e5ea",
   "metadata": {
    "slideshow": {
     "slide_type": "notes"
    }
   },
   "source": [
    "- Various `juypter` (mostly convenience) predicates\n",
    "- Difficult to remember all of them\n",
    "    - In addition to completion and inspection: predicate to print all documentation"
   ]
  },
  {
   "cell_type": "markdown",
   "id": "acc61e90-a8ad-41fa-aeec-37aa4f2e05de",
   "metadata": {
    "slideshow": {
     "slide_type": "slide"
    },
    "tags": []
   },
   "source": [
    "## Jupyter\n",
    "\n",
    "- Originates from the **IPython** project\n",
    "    - Enables interactive Python development\n",
    "    - Several frontends, including a former version of **Jupyter Notebook**\n",
    "        - Web application for handling Jupyter notebooks\n",
    "        - Planned to be replaced by **JupyterLab**\n",
    "\n"
   ]
  },
  {
   "cell_type": "markdown",
   "id": "65ec5ff2",
   "metadata": {
    "slideshow": {
     "slide_type": "fragment"
    }
   },
   "source": [
    "- *Two-process model*:\n",
    "<img style=\"float: right; max-width: 40%;\" src=\"user_interaction_diagram.png\">\n",
    "\n",
    "    - Client process: responsible for user interaction\n",
    "    - Kernel process: handles code execution"
   ]
  },
  {
   "cell_type": "markdown",
   "id": "ad708ac3-8d47-4ee8-8171-7c786550c288",
   "metadata": {
    "slideshow": {
     "slide_type": "slide"
    },
    "tags": []
   },
   "source": [
    "## Architecture\n",
    "\n",
    "<img style=\"max-width: 80%;\" src=\"architecture_diagram.png\">\n",
    "\n",
    "\n",
    "\n",
    "\n"
   ]
  },
  {
   "cell_type": "markdown",
   "id": "2fa42e79-c7d5-4ca6-b831-8fc7ad30adf3",
   "metadata": {
    "slideshow": {
     "slide_type": "notes"
    },
    "tags": []
   },
   "source": [
    "Kernel split in three:\n",
    "- Extends IPython kernel: **inherits** the communication with a frontend via the ZeroMQ protocol\n",
    "\n",
    "\n",
    "- Does not interpret Prolog itself\n",
    "    - Starts an existing Prolog instance in a **subprocess**\n",
    "        - Communicates with it according to the JSON-RPC 2.0 protocol\n",
    "    - For any code execution **request**:\n",
    "        - Sends a request message to the Prolog server containing the **code**\n",
    "        - Prolog terms are read from the code and handled\n",
    "    \n",
    "    \n",
    "- Make the kernel **extensible**: additional layer of a *kernel implementation* in between\n",
    "    - **Responsible** for basically all functionality (e.g. handling Prolog **server**)\n",
    "    - For every request the kernel receives, a **method** of the implementation class is called\n",
    "    - Kernel started: loads **config** file\n",
    "        - Can contain paths to interpreter-specific Python class files\n",
    "    - By **extending** default implementation class and **overriding** methods\n",
    "        - Kernel behaviour can be adjusted\n",
    "    - Had to be done to support predicate inspection for both    \n",
    "- Configure to start a different Prolog server"
   ]
  },
  {
   "cell_type": "markdown",
   "id": "8323263c",
   "metadata": {
    "slideshow": {
     "slide_type": "slide"
    }
   },
   "source": [
    "## Changing the Prolog Implementation\n",
    "\n",
    "- Switch between Prolog backends on the fly\n",
    "- The previous server process is kept running\n",
    "    - When switching back, the database state has not changed"
   ]
  },
  {
   "cell_type": "code",
   "execution_count": 2,
   "id": "84fa034a",
   "metadata": {
    "slideshow": {
     "slide_type": "fragment"
    }
   },
   "outputs": [
    {
     "data": {
      "text/plain": [
       "\u001b[1mtrue"
      ]
     },
     "metadata": {},
     "output_type": "display_data"
    }
   ],
   "source": [
    "sicstus."
   ]
  },
  {
   "cell_type": "code",
   "execution_count": null,
   "id": "6bf764e0",
   "metadata": {},
   "outputs": [
    {
     "data": {
      "text/plain": [
       "   Debugger is off."
      ]
     },
     "metadata": {},
     "output_type": "display_data"
    },
    {
     "data": {
      "text/plain": [
       "\u001b[1;31m!     Unknown error message for component jupyter: error(existence_error(procedure,user:app/3),existence_error($@(user:app([1,2],[3],_47137),4436819036),0,procedure,user:app/3,0))\n"
      ]
     },
     "metadata": {},
     "output_type": "display_data"
    }
   ],
   "source": [
    "app([1,2], [3], R)."
   ]
  },
  {
   "cell_type": "code",
   "execution_count": 1,
   "id": "eeed777d",
   "metadata": {},
   "outputs": [
    {
     "data": {
      "text/plain": [
       "\u001b[1mtrue"
      ]
     },
     "metadata": {},
     "output_type": "display_data"
    }
   ],
   "source": [
    "swi."
   ]
  },
  {
   "cell_type": "code",
   "execution_count": null,
   "id": "ecc832cc",
   "metadata": {},
   "outputs": [],
   "source": [
    "app([1,2], [3], R)"
   ]
  },
  {
   "cell_type": "markdown",
   "id": "1ddac35f",
   "metadata": {
    "slideshow": {
     "slide_type": "slide"
    }
   },
   "source": [
    "## Extending the Kernel\n",
    "\n",
    "- At first, the kernel was developed for SICStus Prolog only\n",
    "    - Adjusted for SWI-Prolog as well\n",
    "    - Made extensible for further Prolog backends\n",
    "    "
   ]
  },
  {
   "cell_type": "markdown",
   "id": "135ec7c8",
   "metadata": {
    "slideshow": {
     "slide_type": "fragment"
    }
   },
   "source": [
    "- By **replacing the Prolog server**, the Python part can easily support a different implementation\n",
    "    - Requirements: receive requests as JSON-RPC 2.0 messages, handle them, and send responses\n",
    "    - Might be possible to further extend the existing server with conditional compilation\n",
    "        - Advanced features might require significant changes"
   ]
  },
  {
   "cell_type": "markdown",
   "id": "ac2a6913",
   "metadata": {
    "slideshow": {
     "slide_type": "fragment"
    }
   },
   "source": [
    "- By **overriding the `LogtalkKernelBaseImplementation` class**, most of the basic kernel behaviour can be adjusted\n",
    "    - For SICStus and SWI-Prolog, the handling of predicate inspection differs"
   ]
  },
  {
   "cell_type": "markdown",
   "id": "e2b7918e",
   "metadata": {
    "slideshow": {
     "slide_type": "notes"
    }
   },
   "source": [
    "- Server replacement:\n",
    "    - Most code compatible with SICStus and SWI &rarr; **conditional compilation**\n",
    "    - Expected to be similar for other implementations\n",
    "    - Extend existing:\n",
    "        - Implementing **basic code execution** should not require major effort\n",
    "        - More **advanced features** might involve significant changes\n",
    "\n",
    "\n",
    "- Replacement of the server does not suffice?: Python extension\n",
    "- In case of SWI- and SICStus, the only Python code that differs is for predicate inspection"
   ]
  },
  {
   "cell_type": "markdown",
   "id": "1b2c2011",
   "metadata": {
    "slideshow": {
     "slide_type": "slide"
    }
   },
   "source": [
    "## Future Work\n",
    "\n",
    "- Support further Prolog backends\n",
    "    - Or multiple versions of the same implementation"
   ]
  },
  {
   "cell_type": "markdown",
   "id": "5a9bfce9",
   "metadata": {
    "slideshow": {
     "slide_type": "fragment"
    }
   },
   "source": [
    "- Combine strengths of several Prolog instances\n",
    "    - Kernel can be connected with multiple servers at once\n",
    "    - Reusing results for another one should be relatively easy"
   ]
  },
  {
   "cell_type": "markdown",
   "id": "2550d887",
   "metadata": {
    "slideshow": {
     "slide_type": "fragment"
    }
   },
   "source": [
    "- Send commands to all available Prolog servers *at once*\n",
    "    - Detect differences in the behaviour\n",
    "    - Compare the performance by using the benchmarking functionality"
   ]
  }
 ],
 "metadata": {
  "celltoolbar": "Slideshow",
  "kernelspec": {
   "display_name": "Logtalk",
   "language": "logtalk",
   "name": "logtalk_kernel"
  },
  "language_info": {
   "codemirror_mode": "logtalk",
   "file_extension": ".lgt",
   "mimetype": "text/x-logtalk",
   "name": "Logtalk"
  }
 },
 "nbformat": 4,
 "nbformat_minor": 5
}
