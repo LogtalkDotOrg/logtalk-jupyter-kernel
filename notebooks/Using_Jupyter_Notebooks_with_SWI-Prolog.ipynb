{
 "cells": [
  {
   "cell_type": "markdown",
   "metadata": {
    "slideshow": {
     "slide_type": "slide"
    },
    "tags": []
   },
   "source": [
    "# Using Jupyter Notebooks with SWI-Prolog"
   ]
  },
  {
   "cell_type": "markdown",
   "metadata": {
    "jp-MarkdownHeadingCollapsed": true,
    "slideshow": {
     "slide_type": "fragment"
    },
    "tags": []
   },
   "source": [
    "This notebook gives an introduction to the usage of SWI-Prolog in a Jupyter notebook with the\n",
    "[Prolog Jupyter Kernel](https://github.com/anbre/prolog-jupyter-kernel).<br>\n",
    "\n",
    "The main requirement for the Prolog Jupyter kernel was for the usage to be as similar to a Prolog REPL as possible.<br>\n",
    "Therefore, any code to be executed needs to be valid Prolog code and the output mostly resembles the console output.<br>\n",
    "Additionally, some Jupyter specific messages are printed such as information about the Prolog server (which is responsible for code execution) being halted or restarted.<br>\n",
    "\n",
    "A code cell can contain more than one Prolog term.<br>\n",
    "Each of these terms can be a clause definition, directive, or query.<br>\n",
    "Any variable bindings or other output produced by the terms is displayed in the cell's output.<br>\n",
    "\n",
    "A main difference compared to the usage in a console is that no user interaction is possible.<br>\n",
    "Therefore, [computing further solutions](#multiple_solutions) for a goal needs to be handled differently.<br>\n",
    "Additionally, [debugging](#debugging) cannot be executed as usual.<br>\n",
    "A major advantage over using a Prolog REPL is that [predicate (re-)definition](#predicate_definition) is more straightforward.<br>\n",
    "Another convenience the kernel provides is that if the last term of a cell is missing the terminating full-stop, the code can be executed anyway. <br>"
   ]
  },
  {
   "cell_type": "markdown",
   "metadata": {
    "tags": []
   },
   "source": [
    "## Kernel Configuration <a id='kernel_configuration'></a>"
   ]
  },
  {
   "cell_type": "markdown",
   "metadata": {},
   "source": [
    "The Prolog implementation with which the Prolog Jupyter kernel executes code can be configured (see the [configuration options of the Prolog kernel](https://github.com/anbre/prolog-jupyter-kernel#configuration)).\n",
    "Without any configuration, code cells are exectued with SWI-Prolog by default.<br>\n",
    "\n",
    "In addition to configuring the Prolog implementation, it can be changed with `jupyter:set_prolog_impl(+PrologImplementationID)` (see [Change the Prolog Implementation](#change_prolog_implementation)).<br>\n",
    "In order for this to work, implementation specific data needs to be configured for more than one Prolog implementation.\n",
    "\n",
    "For an example of the usage of the kernel with SICStus Prolog, see [Using_Jupyter_Notebooks_with_SICStus_Prolog.ipynb](sicstus/Using_Jupyter_Notebooks_with_SICStus_Prolog.ipynb)."
   ]
  },
  {
   "cell_type": "markdown",
   "metadata": {},
   "source": [
    "## Overview"
   ]
  },
  {
   "cell_type": "markdown",
   "metadata": {},
   "source": [
    "This notebook is structured by the features which the Prolog kernel provides.<br>\n",
    "For each of them, examples are provided which show some possible use cases.<br>\n",
    "Furthermore, possible peculiarities are explained.\n",
    "\n",
    "Some of the features correspond to particularities of Prolog that stem from using SLD-resolution as its execution mechanism.<br>\n",
    "Others are non-standard features that are available in almost every Prolog implementation.<br>\n",
    "Additionally, there is kernel specific functionality which is provided mostly for user convenience.\n",
    "\n",
    "Prolog Particularities:\n",
    "- [Predicate (Re-)Definition](#predicate_definition)\n",
    "- [Query Execution](#query_execution)\n",
    "- [Handling Multiple Solutions](#multiple_solutions)\n",
    "\n",
    "De-Facto Standard Prolog Features:\n",
    "- [Loading Source Files and Libraries](#load)\n",
    "- [Running Automated Tests](#automated_tests)\n",
    "- [Benchmarking Capabilities](#benchmarking)\n",
    "- [Debugging](#debugging)\n",
    "\n",
    "Jupyter Convenience Features\n",
    "- [Introspection](#introspection)\n",
    "    - [Code completion](#code_completion)\n",
    "    - [Inspection](#inspection)\n",
    "    - [Accessing `juypter` documentation](#jupyter_docs)\n",
    "- [Resetting the Prolog State](#reset_state)\n",
    "- [Accessing Previous Results](#previous_results)\n",
    "- [Structured Output](#structured_output)\n",
    "- [Printing SLD Trees](#sld_trees)\n",
    "- [Creating Transition Graphs](#transition_graphs)\n",
    "- [Changing the Prolog Implementation](#changing_prolog_implementation)"
   ]
  },
  {
   "cell_type": "markdown",
   "metadata": {
    "tags": []
   },
   "source": [
    "## Prolog Particularities"
   ]
  },
  {
   "cell_type": "markdown",
   "metadata": {
    "tags": []
   },
   "source": [
    "### Predicate (Re-)Definition <a id='predicate_definition'></a>"
   ]
  },
  {
   "cell_type": "markdown",
   "metadata": {
    "tags": []
   },
   "source": [
    "If a cell contains more than one term, in general, all terms are added as dynamic facts to the data base.<br>\n",
    "The only exceptions are queries or directives starting with `?-` or `:-` and PL-Unit test definitions.<br>\n",
    "\n",
    "All defined clauses can be module name expanded such as `Module:Head :- Body.`. <br>\n",
    "If no module name is defined, the module `user` is chosen by default.<br>\n",
    "In order to let the user know the exact predicate which was defined, a message containing the module name and predicate name and arity is output."
   ]
  },
  {
   "cell_type": "code",
   "execution_count": 1,
   "metadata": {},
   "outputs": [
    {
     "data": {
      "text/latex": [
       "% Asserting clauses for user:app/3\\\\\n",
       " "
      ],
      "text/markdown": [
       "<pre style=\"font-family: Menlo, Consolas, 'DejaVu Sans Mono', monospace; font-size: 13px; line-height: 1.3077;\">% Asserting clauses for user:app/3\n",
       "</pre>"
      ],
      "text/plain": [
       "% Asserting clauses for user:app/3\n"
      ]
     },
     "metadata": {},
     "output_type": "display_data"
    }
   ],
   "source": [
    "app([], Res, Res).\n",
    "app([H|T], List, [H|Res]) :-\n",
    "  app(T, List, Res)."
   ]
  },
  {
   "cell_type": "markdown",
   "metadata": {},
   "source": [
    "It needs to be noted that if a potential query of the form `Head.` appears as a single term in a cell, it is executed as a query.<br>\n",
    "If users want to assert a single fact, they can achieve it by writing a term of the form `Head :- Body.`.<br>"
   ]
  },
  {
   "cell_type": "code",
   "execution_count": 2,
   "metadata": {},
   "outputs": [
    {
     "data": {
      "text/latex": [
       "% Asserting clauses for user:app/4\\\\\n",
       " "
      ],
      "text/markdown": [
       "<pre style=\"font-family: Menlo, Consolas, 'DejaVu Sans Mono', monospace; font-size: 13px; line-height: 1.3077;\">% Asserting clauses for user:app/4\n",
       "</pre>"
      ],
      "text/plain": [
       "% Asserting clauses for user:app/4\n"
      ]
     },
     "metadata": {},
     "output_type": "display_data"
    }
   ],
   "source": [
    "app(L1, L2, L3, Res) :-\n",
    "  app(L2, L3, R1),\n",
    "  app(L1, R1, Res)."
   ]
  },
  {
   "cell_type": "markdown",
   "metadata": {
    "tags": []
   },
   "source": [
    "The use of Prolog in a Jupyter application is meant for interactive programming.<br>\n",
    "This involves writing, testing and re-writing clauses rather than only adding new clauses to the fact database.<br>\n",
    "Therefore, by default, when clauses are defined for a dynamic predicate for which there are existing ones, these are retracted first.<br>\n",
    "Thus, all clauses of a predicate need to be defined in one cell.<br>\n",
    "\n",
    "In case clauses were retracted, the user is informed.<br>\n",
    "This is done by a message preceding all other output.<br>\n",
    "The message can be expanded in order to see the exact clauses which were retracted.<br>"
   ]
  },
  {
   "cell_type": "code",
   "execution_count": 3,
   "metadata": {
    "slideshow": {
     "slide_type": "slide"
    }
   },
   "outputs": [
    {
     "data": {
      "text/html": [
       "\n",
       "            <style>\n",
       "            details  {\n",
       "            font-family: Menlo, Consolas, 'DejaVu Sans Mono', monospace; font-size: 13px; line-height: 1.3077;\n",
       "            }\n",
       "\n",
       "            details > summary {\n",
       "              cursor: pointer;\n",
       "            }\n",
       "            </style>\n",
       "            <details><summary>Previously defined clauses of user:app/3 were retracted (click to expand)</summary><pre>:- dynamic app/3.\n",
       "\n",
       "app([], A, A).\n",
       "app([A|B], C, [A|D]) :-\n",
       "    app(B, C, D).\n",
       "</pre></details>"
      ],
      "text/plain": [
       "Previously defined clauses of user:app/3 were retracted:\n",
       ":- dynamic app/3.\n",
       "\n",
       "app([], A, A).\n",
       "app([A|B], C, [A|D]) :-\n",
       "    app(B, C, D).\n"
      ]
     },
     "metadata": {
      "application/json": {}
     },
     "output_type": "display_data"
    },
    {
     "data": {
      "text/latex": [
       "% Asserting clauses for user:app/3\\\\\n",
       " "
      ],
      "text/markdown": [
       "<pre style=\"font-family: Menlo, Consolas, 'DejaVu Sans Mono', monospace; font-size: 13px; line-height: 1.3077;\">% Asserting clauses for user:app/3\n",
       "</pre>"
      ],
      "text/plain": [
       "% Asserting clauses for user:app/3\n"
      ]
     },
     "metadata": {},
     "output_type": "display_data"
    }
   ],
   "source": [
    "user:app([], Res, Res) :- !.\n",
    "user:app([Head|Tail], List, [Head|Res]) :-\n",
    "  app(Tail, List, Res)."
   ]
  },
  {
   "cell_type": "markdown",
   "metadata": {},
   "source": [
    "In order to be able to define clauses for a predicate in separate cells, the corresponding predicate can be declared discontiguous.<br>\n",
    "In that case, it also needs to be declared dynamic."
   ]
  },
  {
   "cell_type": "code",
   "execution_count": 4,
   "metadata": {},
   "outputs": [],
   "source": [
    ":- discontiguous fact/1.\n",
    ":- dynamic fact/1."
   ]
  },
  {
   "cell_type": "code",
   "execution_count": 5,
   "metadata": {},
   "outputs": [
    {
     "data": {
      "text/latex": [
       "% Asserting clauses for user:fact/1\\\\\n",
       " "
      ],
      "text/markdown": [
       "<pre style=\"font-family: Menlo, Consolas, 'DejaVu Sans Mono', monospace; font-size: 13px; line-height: 1.3077;\">% Asserting clauses for user:fact/1\n",
       "</pre>"
      ],
      "text/plain": [
       "% Asserting clauses for user:fact/1\n"
      ]
     },
     "metadata": {},
     "output_type": "display_data"
    }
   ],
   "source": [
    "fact(a).\n",
    "fact(b)."
   ]
  },
  {
   "cell_type": "code",
   "execution_count": 6,
   "metadata": {},
   "outputs": [
    {
     "data": {
      "text/latex": [
       "% Asserting clauses for user:fact/1\\\\\n",
       " "
      ],
      "text/markdown": [
       "<pre style=\"font-family: Menlo, Consolas, 'DejaVu Sans Mono', monospace; font-size: 13px; line-height: 1.3077;\">% Asserting clauses for user:fact/1\n",
       "</pre>"
      ],
      "text/plain": [
       "% Asserting clauses for user:fact/1\n"
      ]
     },
     "metadata": {},
     "output_type": "display_data"
    },
    {
     "data": {
      "text/latex": [
       ":- dynamic fact/1.\\\\\n",
       " \\\\\n",
       " fact(a).\\\\\n",
       " fact(b).\\\\\n",
       " fact(c).\\\\\n",
       " fact(d).\\\\\n",
       " "
      ],
      "text/markdown": [
       "<pre style=\"font-family: Menlo, Consolas, 'DejaVu Sans Mono', monospace; font-size: 13px; line-height: 1.3077;\">:- dynamic fact/1.\n",
       "\n",
       "fact(a).\n",
       "fact(b).\n",
       "fact(c).\n",
       "fact(d).\n",
       "</pre>"
      ],
      "text/plain": [
       ":- dynamic fact/1.\n",
       "\n",
       "fact(a).\n",
       "fact(b).\n",
       "fact(c).\n",
       "fact(d).\n"
      ]
     },
     "metadata": {},
     "output_type": "display_data"
    },
    {
     "data": {
      "text/latex": [
       "true"
      ],
      "text/markdown": [
       "<pre style=\"font-family: Menlo, Consolas, 'DejaVu Sans Mono', monospace; font-size: 13px; line-height: 1.3077;font-weight:bold;\">true</pre>"
      ],
      "text/plain": [
       "true"
      ]
     },
     "metadata": {},
     "output_type": "display_data"
    }
   ],
   "source": [
    "fact(c).\n",
    "fact(d).\n",
    "?- listing(fact/1)."
   ]
  },
  {
   "cell_type": "markdown",
   "metadata": {},
   "source": [
    "When removing a predicate with `abolish`, its properties are removed as well.<br>\n",
    "Therefore, afterwards previous clauses are retracted again when new ones are defined."
   ]
  },
  {
   "cell_type": "code",
   "execution_count": 7,
   "metadata": {},
   "outputs": [
    {
     "data": {
      "text/latex": [
       "true"
      ],
      "text/markdown": [
       "<pre style=\"font-family: Menlo, Consolas, 'DejaVu Sans Mono', monospace; font-size: 13px; line-height: 1.3077;font-weight:bold;\">true</pre>"
      ],
      "text/plain": [
       "true"
      ]
     },
     "metadata": {},
     "output_type": "display_data"
    },
    {
     "data": {
      "text/latex": [
       "% Asserting clauses for user:fact/1\\\\\n",
       " "
      ],
      "text/markdown": [
       "<pre style=\"font-family: Menlo, Consolas, 'DejaVu Sans Mono', monospace; font-size: 13px; line-height: 1.3077;\">% Asserting clauses for user:fact/1\n",
       "</pre>"
      ],
      "text/plain": [
       "% Asserting clauses for user:fact/1\n"
      ]
     },
     "metadata": {},
     "output_type": "display_data"
    }
   ],
   "source": [
    "?- abolish(fact/1).\n",
    "fact(a)."
   ]
  },
  {
   "cell_type": "code",
   "execution_count": 8,
   "metadata": {},
   "outputs": [
    {
     "data": {
      "text/html": [
       "\n",
       "            <style>\n",
       "            details  {\n",
       "            font-family: Menlo, Consolas, 'DejaVu Sans Mono', monospace; font-size: 13px; line-height: 1.3077;\n",
       "            }\n",
       "\n",
       "            details > summary {\n",
       "              cursor: pointer;\n",
       "            }\n",
       "            </style>\n",
       "            <details><summary>Previously defined clauses of user:fact/1 were retracted (click to expand)</summary><pre>:- dynamic fact/1.\n",
       "\n",
       "fact(a).\n",
       "</pre></details>"
      ],
      "text/plain": [
       "Previously defined clauses of user:fact/1 were retracted:\n",
       ":- dynamic fact/1.\n",
       "\n",
       "fact(a).\n"
      ]
     },
     "metadata": {
      "application/json": {}
     },
     "output_type": "display_data"
    },
    {
     "data": {
      "text/latex": [
       "% Asserting clauses for user:fact/1\\\\\n",
       " "
      ],
      "text/markdown": [
       "<pre style=\"font-family: Menlo, Consolas, 'DejaVu Sans Mono', monospace; font-size: 13px; line-height: 1.3077;\">% Asserting clauses for user:fact/1\n",
       "</pre>"
      ],
      "text/plain": [
       "% Asserting clauses for user:fact/1\n"
      ]
     },
     "metadata": {},
     "output_type": "display_data"
    },
    {
     "data": {
      "text/latex": [
       ":- dynamic fact/1.\\\\\n",
       " \\\\\n",
       " fact(b).\\\\\n",
       " fact(c).\\\\\n",
       " "
      ],
      "text/markdown": [
       "<pre style=\"font-family: Menlo, Consolas, 'DejaVu Sans Mono', monospace; font-size: 13px; line-height: 1.3077;\">:- dynamic fact/1.\n",
       "\n",
       "fact(b).\n",
       "fact(c).\n",
       "</pre>"
      ],
      "text/plain": [
       ":- dynamic fact/1.\n",
       "\n",
       "fact(b).\n",
       "fact(c).\n"
      ]
     },
     "metadata": {},
     "output_type": "display_data"
    },
    {
     "data": {
      "text/latex": [
       "true"
      ],
      "text/markdown": [
       "<pre style=\"font-family: Menlo, Consolas, 'DejaVu Sans Mono', monospace; font-size: 13px; line-height: 1.3077;font-weight:bold;\">true</pre>"
      ],
      "text/plain": [
       "true"
      ]
     },
     "metadata": {},
     "output_type": "display_data"
    }
   ],
   "source": [
    "fact(b).\n",
    "fact(c).\n",
    "?- listing(fact/1)."
   ]
  },
  {
   "cell_type": "markdown",
   "metadata": {},
   "source": [
    "Additionally, clauses can be defined in the form of DCG rules."
   ]
  },
  {
   "cell_type": "code",
   "execution_count": 9,
   "metadata": {
    "tags": []
   },
   "outputs": [
    {
     "data": {
      "text/latex": [
       "% Asserting clauses for user:number/3\\\\\n",
       " "
      ],
      "text/markdown": [
       "<pre style=\"font-family: Menlo, Consolas, 'DejaVu Sans Mono', monospace; font-size: 13px; line-height: 1.3077;\">% Asserting clauses for user:number/3\n",
       "</pre>"
      ],
      "text/plain": [
       "% Asserting clauses for user:number/3\n"
      ]
     },
     "metadata": {},
     "output_type": "display_data"
    },
    {
     "data": {
      "text/latex": [
       "N = -1"
      ],
      "text/markdown": [
       "<pre style=\"font-family: Menlo, Consolas, 'DejaVu Sans Mono', monospace; font-size: 13px; line-height: 1.3077;font-weight:bold;\">N = -1</pre>"
      ],
      "text/plain": [
       "N = -1"
      ]
     },
     "metadata": {},
     "output_type": "display_data"
    }
   ],
   "source": [
    "number(Number) --> \"+\", number(Number).\n",
    "number(NegativeNumber) --> \"-\", number(Number), {NegativeNumber is -Number}.\n",
    "number(Number) --> [Digit], {\"0\"=<Digit, Digit=<\"9\", Number is Digit - \"0\"}.\n",
    "\n",
    "?- atom_codes('-1', _Codes), phrase(number(N), _Codes)."
   ]
  },
  {
   "cell_type": "markdown",
   "metadata": {
    "slideshow": {
     "slide_type": "slide"
    },
    "tags": []
   },
   "source": [
    "### Query Execution <a id='query_execution'></a>"
   ]
  },
  {
   "cell_type": "markdown",
   "metadata": {
    "slideshow": {
     "slide_type": "-"
    },
    "tags": []
   },
   "source": [
    "As mentioned above, if a cell contains a single potential query, it is interpreted as such as opposed to the definition of a clause.<br>\n",
    "Additionally, terms starting with `?-` and directives starting with `:-` are evaluated as queries even if they appear in a cell with multiple other terms."
   ]
  },
  {
   "cell_type": "markdown",
   "metadata": {},
   "source": [
    "If a query succeeds and binds any variables, the bindings are shown in the output of the cell.<br>\n",
    "Analogously, if there are no bindings, `true` is printed and if a query fails, `false` is output."
   ]
  },
  {
   "cell_type": "code",
   "execution_count": 10,
   "metadata": {
    "slideshow": {
     "slide_type": "-"
    }
   },
   "outputs": [
    {
     "data": {
      "text/latex": [
       "X = [1,2,3],\\\\\n",
       " Z = [1,2,3,4,5,6]"
      ],
      "text/markdown": [
       "<pre style=\"font-family: Menlo, Consolas, 'DejaVu Sans Mono', monospace; font-size: 13px; line-height: 1.3077;font-weight:bold;\">X = [1,2,3],\n",
       "Z = [1,2,3,4,5,6]</pre>"
      ],
      "text/plain": [
       "X = [1,2,3],\n",
       "Z = [1,2,3,4,5,6]"
      ]
     },
     "metadata": {},
     "output_type": "display_data"
    }
   ],
   "source": [
    "X = [1,2,3], append(X, [4,5,6], Z)."
   ]
  },
  {
   "cell_type": "code",
   "execution_count": null,
   "metadata": {},
   "outputs": [
    {
     "data": {
      "text/latex": [
       "true"
      ],
      "text/markdown": [
       "<pre style=\"font-family: Menlo, Consolas, 'DejaVu Sans Mono', monospace; font-size: 13px; line-height: 1.3077;font-weight:bold;\">true</pre>"
      ],
      "text/plain": [
       "true"
      ]
     },
     "metadata": {},
     "output_type": "display_data"
    },
    {
     "data": {
      "text/latex": [
       "false"
      ],
      "text/markdown": [
       "<pre style=\"font-family: Menlo, Consolas, 'DejaVu Sans Mono', monospace; font-size: 13px; line-height: 1.3077;color:red; font-weight:bold;\">false</pre>"
      ],
      "text/plain": [
       "false"
      ]
     },
     "metadata": {},
     "output_type": "display_data"
    }
   ],
   "source": [
    "?- member(2, [1, 2, 3]).\n",
    "?- member(4, [1, 2, 3])"
   ]
  },
  {
   "cell_type": "markdown",
   "metadata": {},
   "source": [
    "If a query causes an exception, the exception message is printed in red."
   ]
  },
  {
   "cell_type": "code",
   "execution_count": null,
   "metadata": {},
   "outputs": [
    {
     "data": {
      "text/latex": [
       "ERROR: is/2: Arithmetic: `y/0' is not a function\\\\\n",
       " "
      ],
      "text/markdown": [
       "<pre style=\"font-family: Menlo, Consolas, 'DejaVu Sans Mono', monospace; font-size: 13px; line-height: 1.3077;color:red; font-weight:bold;\">ERROR: is/2: Arithmetic: `y/0' is not a function\n",
       "</pre>"
      ],
      "text/plain": [
       "ERROR: is/2: Arithmetic: `y/0' is not a function\n"
      ]
     },
     "metadata": {},
     "output_type": "display_data"
    }
   ],
   "source": [
    "7 is 1 + y."
   ]
  },
  {
   "cell_type": "markdown",
   "metadata": {},
   "source": [
    "If the execution produces any output, it is displayed preceding the other information."
   ]
  },
  {
   "cell_type": "code",
   "execution_count": 13,
   "metadata": {
    "tags": []
   },
   "outputs": [
    {
     "data": {
      "text/latex": [
       "Using SWI Prolog!"
      ],
      "text/markdown": [
       "<pre style=\"font-family: Menlo, Consolas, 'DejaVu Sans Mono', monospace; font-size: 13px; line-height: 1.3077;\">Using SWI Prolog!</pre>"
      ],
      "text/plain": [
       "Using SWI Prolog!"
      ]
     },
     "metadata": {},
     "output_type": "display_data"
    },
    {
     "data": {
      "text/latex": [
       "true"
      ],
      "text/markdown": [
       "<pre style=\"font-family: Menlo, Consolas, 'DejaVu Sans Mono', monospace; font-size: 13px; line-height: 1.3077;font-weight:bold;\">true</pre>"
      ],
      "text/plain": [
       "true"
      ]
     },
     "metadata": {},
     "output_type": "display_data"
    }
   ],
   "source": [
    "format('Using ~w Prolog!~n', ['SWI'])."
   ]
  },
  {
   "cell_type": "markdown",
   "metadata": {},
   "source": [
    "Just like in a Prolog REPL, no variable bindings are output for directives."
   ]
  },
  {
   "cell_type": "code",
   "execution_count": 14,
   "metadata": {},
   "outputs": [
    {
     "data": {
      "text/latex": [
       "1"
      ],
      "text/markdown": [
       "<pre style=\"font-family: Menlo, Consolas, 'DejaVu Sans Mono', monospace; font-size: 13px; line-height: 1.3077;\">1</pre>"
      ],
      "text/plain": [
       "1"
      ]
     },
     "metadata": {},
     "output_type": "display_data"
    }
   ],
   "source": [
    ":- member(M, [1, 2, 3]), print(M)."
   ]
  },
  {
   "cell_type": "markdown",
   "metadata": {
    "tags": []
   },
   "source": [
    "### Handling Multiple Solutions <a id='multiple_solutions'></a>"
   ]
  },
  {
   "cell_type": "markdown",
   "metadata": {},
   "source": [
    "When a query succeeds with a choice point, one can request further solutions via backtracking.<br>\n",
    "The Jupyter kernel mimics this by providing the predicate `jupyter:retry/0`.<br>\n",
    "Whenever a query is executed, it is seen as the active query as long as there might be further solutions for it.<br>\n",
    "If there is an active query, a `retry` may trigger backtracking to compute the next solution.<br>\n",
    "In order to let the user know which query is retried, a corresponding message is output.<br>\n",
    "\n",
    "Additionally, the predicate `jupyter:cut/0` is exposed.<br>\n",
    "It cuts off choicepoints of the active execution and marks an older query which might have open choice points as active.<br>\n",
    "The user is informed about the new active query.\n",
    "\n",
    "Since backtracking is a Prolog feature which is used frequently, these two predicates can be called without stating the module and cannot be redefined in the `user` module.<br>\n",
    "\n",
    "In order to see all queries which can be retried, the predicate `jupyter:print_stack/0` can be called, which outputs the current stack.<br>\n",
    "The currently active query is printed at the top and indicated by a preceding arrow.\n",
    "\n",
    "It needs to be noted that all of these predicates do not work unless they are the only goal in a query.<br>"
   ]
  },
  {
   "cell_type": "code",
   "execution_count": 15,
   "metadata": {},
   "outputs": [
    {
     "data": {
      "text/latex": [
       "M = 1"
      ],
      "text/markdown": [
       "<pre style=\"font-family: Menlo, Consolas, 'DejaVu Sans Mono', monospace; font-size: 13px; line-height: 1.3077;font-weight:bold;\">M = 1</pre>"
      ],
      "text/plain": [
       "M = 1"
      ]
     },
     "metadata": {},
     "output_type": "display_data"
    },
    {
     "data": {
      "text/latex": [
       "M = a"
      ],
      "text/markdown": [
       "<pre style=\"font-family: Menlo, Consolas, 'DejaVu Sans Mono', monospace; font-size: 13px; line-height: 1.3077;font-weight:bold;\">M = a</pre>"
      ],
      "text/plain": [
       "M = a"
      ]
     },
     "metadata": {},
     "output_type": "display_data"
    }
   ],
   "source": [
    "?- member(M, [1, 2]).\n",
    "?- member(M, [a, b, c])."
   ]
  },
  {
   "cell_type": "code",
   "execution_count": 16,
   "metadata": {},
   "outputs": [
    {
     "data": {
      "text/latex": [
       "% Retrying goal: member(M,[a,b,c])\\\\\n",
       " "
      ],
      "text/markdown": [
       "<pre style=\"font-family: Menlo, Consolas, 'DejaVu Sans Mono', monospace; font-size: 13px; line-height: 1.3077;\">% Retrying goal: member(M,[a,b,c])\n",
       "</pre>"
      ],
      "text/plain": [
       "% Retrying goal: member(M,[a,b,c])\n"
      ]
     },
     "metadata": {},
     "output_type": "display_data"
    },
    {
     "data": {
      "text/latex": [
       "M = b"
      ],
      "text/markdown": [
       "<pre style=\"font-family: Menlo, Consolas, 'DejaVu Sans Mono', monospace; font-size: 13px; line-height: 1.3077;font-weight:bold;\">M = b</pre>"
      ],
      "text/plain": [
       "M = b"
      ]
     },
     "metadata": {},
     "output_type": "display_data"
    }
   ],
   "source": [
    "jupyter:retry."
   ]
  },
  {
   "cell_type": "code",
   "execution_count": 17,
   "metadata": {},
   "outputs": [
    {
     "data": {
      "text/latex": [
       "->  member(M,[a,b,c])\\\\\n",
       "     member(M,[1,2])\\\\\n",
       "     format(Using ~w Prolog!~n,[SWI])\\\\\n",
       "     member(2,[1,2,3])\\\\\n",
       "     X=[1,2,3],append(X,[4,5,6],Z)\\\\\n",
       "     atom_codes(-1,_Codes),phrase(number(N),_Codes)\\\\\n",
       "     listing(fact/1)\\\\\n",
       "     abolish(fact/1)\\\\\n",
       "     listing(fact/1)"
      ],
      "text/markdown": [
       "<pre style=\"font-family: Menlo, Consolas, 'DejaVu Sans Mono', monospace; font-size: 13px; line-height: 1.3077;\">->  member(M,[a,b,c])\n",
       "    member(M,[1,2])\n",
       "    format(Using ~w Prolog!~n,[SWI])\n",
       "    member(2,[1,2,3])\n",
       "    X=[1,2,3],append(X,[4,5,6],Z)\n",
       "    atom_codes(-1,_Codes),phrase(number(N),_Codes)\n",
       "    listing(fact/1)\n",
       "    abolish(fact/1)\n",
       "    listing(fact/1)</pre>"
      ],
      "text/plain": [
       "->  member(M,[a,b,c])\n",
       "    member(M,[1,2])\n",
       "    format(Using ~w Prolog!~n,[SWI])\n",
       "    member(2,[1,2,3])\n",
       "    X=[1,2,3],append(X,[4,5,6],Z)\n",
       "    atom_codes(-1,_Codes),phrase(number(N),_Codes)\n",
       "    listing(fact/1)\n",
       "    abolish(fact/1)\n",
       "    listing(fact/1)"
      ]
     },
     "metadata": {},
     "output_type": "display_data"
    },
    {
     "data": {
      "text/latex": [
       "true"
      ],
      "text/markdown": [
       "<pre style=\"font-family: Menlo, Consolas, 'DejaVu Sans Mono', monospace; font-size: 13px; line-height: 1.3077;font-weight:bold;\">true</pre>"
      ],
      "text/plain": [
       "true"
      ]
     },
     "metadata": {},
     "output_type": "display_data"
    }
   ],
   "source": [
    "jupyter:print_stack"
   ]
  },
  {
   "cell_type": "code",
   "execution_count": 18,
   "metadata": {},
   "outputs": [
    {
     "data": {
      "text/latex": [
       "% The new active goal is: member(M,[1,2])"
      ],
      "text/markdown": [
       "<pre style=\"font-family: Menlo, Consolas, 'DejaVu Sans Mono', monospace; font-size: 13px; line-height: 1.3077;\">% The new active goal is: member(M,[1,2])</pre>"
      ],
      "text/plain": [
       "% The new active goal is: member(M,[1,2])"
      ]
     },
     "metadata": {},
     "output_type": "display_data"
    },
    {
     "data": {
      "text/latex": [
       "true"
      ],
      "text/markdown": [
       "<pre style=\"font-family: Menlo, Consolas, 'DejaVu Sans Mono', monospace; font-size: 13px; line-height: 1.3077;font-weight:bold;\">true</pre>"
      ],
      "text/plain": [
       "true"
      ]
     },
     "metadata": {},
     "output_type": "display_data"
    }
   ],
   "source": [
    "cut."
   ]
  },
  {
   "cell_type": "code",
   "execution_count": 19,
   "metadata": {},
   "outputs": [
    {
     "data": {
      "text/latex": [
       "% Retrying goal: member(M,[1,2])\\\\\n",
       " "
      ],
      "text/markdown": [
       "<pre style=\"font-family: Menlo, Consolas, 'DejaVu Sans Mono', monospace; font-size: 13px; line-height: 1.3077;\">% Retrying goal: member(M,[1,2])\n",
       "</pre>"
      ],
      "text/plain": [
       "% Retrying goal: member(M,[1,2])\n"
      ]
     },
     "metadata": {},
     "output_type": "display_data"
    },
    {
     "data": {
      "text/latex": [
       "M = 2"
      ],
      "text/markdown": [
       "<pre style=\"font-family: Menlo, Consolas, 'DejaVu Sans Mono', monospace; font-size: 13px; line-height: 1.3077;font-weight:bold;\">M = 2</pre>"
      ],
      "text/plain": [
       "M = 2"
      ]
     },
     "metadata": {},
     "output_type": "display_data"
    }
   ],
   "source": [
    "retry."
   ]
  },
  {
   "cell_type": "markdown",
   "metadata": {},
   "source": [
    "The `retry` and `cut` mechanism can be useful when:\n",
    "- Computing the solution of a query\n",
    "- Further inspecting the solution with a different query\n",
    "- Computing the next solution and further inspecting it\n",
    "\n",
    "This is especially useful when the computation of the first solution took so long that it should not be executed again.\n",
    "\n",
    "For an explanation of `$Var` terms, see [Accessing Previous Results](#previous_results).\n"
   ]
  },
  {
   "cell_type": "code",
   "execution_count": 20,
   "metadata": {},
   "outputs": [
    {
     "data": {
      "text/latex": [
       "% Asserting clauses for user:is_odd/1\\\\\n",
       " "
      ],
      "text/markdown": [
       "<pre style=\"font-family: Menlo, Consolas, 'DejaVu Sans Mono', monospace; font-size: 13px; line-height: 1.3077;\">% Asserting clauses for user:is_odd/1\n",
       "</pre>"
      ],
      "text/plain": [
       "% Asserting clauses for user:is_odd/1\n"
      ]
     },
     "metadata": {},
     "output_type": "display_data"
    }
   ],
   "source": [
    "is_odd(X) :-\n",
    "  1 is X mod 2."
   ]
  },
  {
   "cell_type": "code",
   "execution_count": 21,
   "metadata": {},
   "outputs": [
    {
     "data": {
      "text/latex": [
       "M = 1"
      ],
      "text/markdown": [
       "<pre style=\"font-family: Menlo, Consolas, 'DejaVu Sans Mono', monospace; font-size: 13px; line-height: 1.3077;font-weight:bold;\">M = 1</pre>"
      ],
      "text/plain": [
       "M = 1"
      ]
     },
     "metadata": {},
     "output_type": "display_data"
    }
   ],
   "source": [
    "member(M, [1, 2, 3, 4, 5])."
   ]
  },
  {
   "cell_type": "code",
   "execution_count": 22,
   "metadata": {},
   "outputs": [
    {
     "data": {
      "text/latex": [
       "M = 1"
      ],
      "text/markdown": [
       "<pre style=\"font-family: Menlo, Consolas, 'DejaVu Sans Mono', monospace; font-size: 13px; line-height: 1.3077;font-weight:bold;\">M = 1</pre>"
      ],
      "text/plain": [
       "M = 1"
      ]
     },
     "metadata": {},
     "output_type": "display_data"
    }
   ],
   "source": [
    "is_odd($M)."
   ]
  },
  {
   "cell_type": "code",
   "execution_count": null,
   "metadata": {},
   "outputs": [
    {
     "data": {
      "text/latex": [
       "% The new active goal is: member(M,[1,2,3,4,5])"
      ],
      "text/markdown": [
       "<pre style=\"font-family: Menlo, Consolas, 'DejaVu Sans Mono', monospace; font-size: 13px; line-height: 1.3077;\">% The new active goal is: member(M,[1,2,3,4,5])</pre>"
      ],
      "text/plain": [
       "% The new active goal is: member(M,[1,2,3,4,5])"
      ]
     },
     "metadata": {},
     "output_type": "display_data"
    },
    {
     "data": {
      "text/latex": [
       "true"
      ],
      "text/markdown": [
       "<pre style=\"font-family: Menlo, Consolas, 'DejaVu Sans Mono', monospace; font-size: 13px; line-height: 1.3077;font-weight:bold;\">true</pre>"
      ],
      "text/plain": [
       "true"
      ]
     },
     "metadata": {},
     "output_type": "display_data"
    },
    {
     "data": {
      "text/latex": [
       "% Retrying goal: member(M,[1,2,3,4,5])\\\\\n",
       " "
      ],
      "text/markdown": [
       "<pre style=\"font-family: Menlo, Consolas, 'DejaVu Sans Mono', monospace; font-size: 13px; line-height: 1.3077;\">% Retrying goal: member(M,[1,2,3,4,5])\n",
       "</pre>"
      ],
      "text/plain": [
       "% Retrying goal: member(M,[1,2,3,4,5])\n"
      ]
     },
     "metadata": {},
     "output_type": "display_data"
    },
    {
     "data": {
      "text/latex": [
       "M = 2"
      ],
      "text/markdown": [
       "<pre style=\"font-family: Menlo, Consolas, 'DejaVu Sans Mono', monospace; font-size: 13px; line-height: 1.3077;font-weight:bold;\">M = 2</pre>"
      ],
      "text/plain": [
       "M = 2"
      ]
     },
     "metadata": {},
     "output_type": "display_data"
    },
    {
     "data": {
      "text/latex": [
       "false"
      ],
      "text/markdown": [
       "<pre style=\"font-family: Menlo, Consolas, 'DejaVu Sans Mono', monospace; font-size: 13px; line-height: 1.3077;color:red; font-weight:bold;\">false</pre>"
      ],
      "text/plain": [
       "false"
      ]
     },
     "metadata": {},
     "output_type": "display_data"
    }
   ],
   "source": [
    "?- cut.\n",
    "?- retry.\n",
    "?- is_odd($M)."
   ]
  },
  {
   "cell_type": "markdown",
   "metadata": {},
   "source": [
    "Note that this time no `cut` is needed because the previous query failed."
   ]
  },
  {
   "cell_type": "code",
   "execution_count": 24,
   "metadata": {},
   "outputs": [
    {
     "data": {
      "text/latex": [
       "% Retrying goal: member(M,[1,2,3,4,5])\\\\\n",
       " "
      ],
      "text/markdown": [
       "<pre style=\"font-family: Menlo, Consolas, 'DejaVu Sans Mono', monospace; font-size: 13px; line-height: 1.3077;\">% Retrying goal: member(M,[1,2,3,4,5])\n",
       "</pre>"
      ],
      "text/plain": [
       "% Retrying goal: member(M,[1,2,3,4,5])\n"
      ]
     },
     "metadata": {},
     "output_type": "display_data"
    },
    {
     "data": {
      "text/latex": [
       "M = 3"
      ],
      "text/markdown": [
       "<pre style=\"font-family: Menlo, Consolas, 'DejaVu Sans Mono', monospace; font-size: 13px; line-height: 1.3077;font-weight:bold;\">M = 3</pre>"
      ],
      "text/plain": [
       "M = 3"
      ]
     },
     "metadata": {},
     "output_type": "display_data"
    },
    {
     "data": {
      "text/latex": [
       "M = 3"
      ],
      "text/markdown": [
       "<pre style=\"font-family: Menlo, Consolas, 'DejaVu Sans Mono', monospace; font-size: 13px; line-height: 1.3077;font-weight:bold;\">M = 3</pre>"
      ],
      "text/plain": [
       "M = 3"
      ]
     },
     "metadata": {},
     "output_type": "display_data"
    }
   ],
   "source": [
    "?- retry.\n",
    "?- is_odd($M)."
   ]
  },
  {
   "cell_type": "markdown",
   "metadata": {
    "tags": []
   },
   "source": [
    "## De-Facto Standard Prolog Features"
   ]
  },
  {
   "cell_type": "markdown",
   "metadata": {
    "tags": []
   },
   "source": [
    "### Loading Source Files and Libraries <a id='load'></a>"
   ]
  },
  {
   "cell_type": "markdown",
   "metadata": {},
   "source": [
    "Loading source files and libraries works in the same way as on a Prolog REPL.<br>\n",
    "Predicates are always re-defined when encountered (as user interaction is not possible during the load)."
   ]
  },
  {
   "cell_type": "code",
   "execution_count": 25,
   "metadata": {},
   "outputs": [
    {
     "data": {
      "text/latex": [
       "true"
      ],
      "text/markdown": [
       "<pre style=\"font-family: Menlo, Consolas, 'DejaVu Sans Mono', monospace; font-size: 13px; line-height: 1.3077;font-weight:bold;\">true</pre>"
      ],
      "text/plain": [
       "true"
      ]
     },
     "metadata": {},
     "output_type": "display_data"
    }
   ],
   "source": [
    "use_module(library(lists))."
   ]
  },
  {
   "cell_type": "code",
   "execution_count": 26,
   "metadata": {},
   "outputs": [
    {
     "data": {
      "text/latex": [
       "L = [1,2,3]"
      ],
      "text/markdown": [
       "<pre style=\"font-family: Menlo, Consolas, 'DejaVu Sans Mono', monospace; font-size: 13px; line-height: 1.3077;font-weight:bold;\">L = [1,2,3]</pre>"
      ],
      "text/plain": [
       "L = [1,2,3]"
      ]
     },
     "metadata": {},
     "output_type": "display_data"
    }
   ],
   "source": [
    "append([[1], [2], [3]], L). "
   ]
  },
  {
   "cell_type": "markdown",
   "metadata": {},
   "source": [
    "Note that loading a library and using operators from that library does not work in a single query.<br>\n",
    "The term needs to be read by the built-in predicate `read_term/3`, which throws a syntax error when encountering undefined operators."
   ]
  },
  {
   "cell_type": "code",
   "execution_count": null,
   "metadata": {},
   "outputs": [
    {
     "data": {
      "text/latex": [
       "ERROR: Syntax error: Operator expected\\\\\n",
       " ERROR: use_module(library(clpfd)), X\\\\\n",
       " ERROR: ** here **\\\\\n",
       " ERROR:  #< 10, X #> 5. \\\\\n",
       " "
      ],
      "text/markdown": [
       "<pre style=\"font-family: Menlo, Consolas, 'DejaVu Sans Mono', monospace; font-size: 13px; line-height: 1.3077;color:red; font-weight:bold;\">ERROR: Syntax error: Operator expected\n",
       "ERROR: use_module(library(clpfd)), X\n",
       "ERROR: ** here **\n",
       "ERROR:  #< 10, X #> 5. \n",
       "</pre>"
      ],
      "text/plain": [
       "ERROR: Syntax error: Operator expected\n",
       "ERROR: use_module(library(clpfd)), X\n",
       "ERROR: ** here **\n",
       "ERROR:  #< 10, X #> 5. \n"
      ]
     },
     "metadata": {},
     "output_type": "display_data"
    }
   ],
   "source": [
    "use_module(library(clpfd)), X #< 10, X #> 5."
   ]
  },
  {
   "cell_type": "code",
   "execution_count": 28,
   "metadata": {},
   "outputs": [
    {
     "data": {
      "text/latex": [
       "true"
      ],
      "text/markdown": [
       "<pre style=\"font-family: Menlo, Consolas, 'DejaVu Sans Mono', monospace; font-size: 13px; line-height: 1.3077;font-weight:bold;\">true</pre>"
      ],
      "text/plain": [
       "true"
      ]
     },
     "metadata": {},
     "output_type": "display_data"
    }
   ],
   "source": [
    "use_module(library(clpfd))."
   ]
  },
  {
   "cell_type": "code",
   "execution_count": 29,
   "metadata": {},
   "outputs": [
    {
     "data": {
      "text/latex": [
       "X in 6..9"
      ],
      "text/markdown": [
       "<pre style=\"font-family: Menlo, Consolas, 'DejaVu Sans Mono', monospace; font-size: 13px; line-height: 1.3077;font-weight:bold;\">X in 6..9</pre>"
      ],
      "text/plain": [
       "X in 6..9"
      ]
     },
     "metadata": {},
     "output_type": "display_data"
    }
   ],
   "source": [
    "X #< 10, X #> 5."
   ]
  },
  {
   "cell_type": "markdown",
   "metadata": {
    "tags": []
   },
   "source": [
    "### Running Automated Tests <a id='automated_tests'></a>"
   ]
  },
  {
   "cell_type": "markdown",
   "metadata": {},
   "source": [
    "`library(plunit)` can be used to define and run automated tests.<br>\n",
    "Tests can either be defined in a file which is loaded or in a cell.<br>\n",
    "In the latter case, any definition of a `test/1` or `test/2` clause needs to be preceded by a `begin_tests` directive.<br>\n",
    "Additionally, if there is an optional `end_tests` directive, it needs to follow the test clauses.<br>\n",
    "Otherwise, they are not recognized as such.<br>"
   ]
  },
  {
   "cell_type": "code",
   "execution_count": 30,
   "metadata": {},
   "outputs": [
    {
     "data": {
      "text/latex": [
       "\\\\\n",
       " % Defined test unit list"
      ],
      "text/markdown": [
       "<pre style=\"font-family: Menlo, Consolas, 'DejaVu Sans Mono', monospace; font-size: 13px; line-height: 1.3077;\">\n",
       "% Defined test unit list</pre>"
      ],
      "text/plain": [
       "\n",
       "% Defined test unit list"
      ]
     },
     "metadata": {},
     "output_type": "display_data"
    }
   ],
   "source": [
    ":- begin_tests(list). \n",
    "\n",
    "test(list) :-\n",
    "  lists:is_list([]).\n",
    "\n",
    ":- end_tests(list)."
   ]
  },
  {
   "cell_type": "code",
   "execution_count": 31,
   "metadata": {},
   "outputs": [
    {
     "data": {
      "text/latex": [
       "% PL-Unit: list . done\\\\\n",
       " % test passed"
      ],
      "text/markdown": [
       "<pre style=\"font-family: Menlo, Consolas, 'DejaVu Sans Mono', monospace; font-size: 13px; line-height: 1.3077;\">% PL-Unit: list . done\n",
       "% test passed</pre>"
      ],
      "text/plain": [
       "% PL-Unit: list . done\n",
       "% test passed"
      ]
     },
     "metadata": {},
     "output_type": "display_data"
    },
    {
     "data": {
      "text/latex": [
       "true"
      ],
      "text/markdown": [
       "<pre style=\"font-family: Menlo, Consolas, 'DejaVu Sans Mono', monospace; font-size: 13px; line-height: 1.3077;font-weight:bold;\">true</pre>"
      ],
      "text/plain": [
       "true"
      ]
     },
     "metadata": {},
     "output_type": "display_data"
    }
   ],
   "source": [
    "run_tests."
   ]
  },
  {
   "cell_type": "markdown",
   "metadata": {},
   "source": [
    "As can be seen, after defining new test units, the previous ones still exist."
   ]
  },
  {
   "cell_type": "code",
   "execution_count": 32,
   "metadata": {},
   "outputs": [
    {
     "data": {
      "text/latex": [
       "\\\\\n",
       " % Defined test unit number"
      ],
      "text/markdown": [
       "<pre style=\"font-family: Menlo, Consolas, 'DejaVu Sans Mono', monospace; font-size: 13px; line-height: 1.3077;\">\n",
       "% Defined test unit number</pre>"
      ],
      "text/plain": [
       "\n",
       "% Defined test unit number"
      ]
     },
     "metadata": {},
     "output_type": "display_data"
    },
    {
     "data": {
      "text/latex": [
       "% PL-Unit: list . done\\\\\n",
       " % PL-Unit: number . done\\\\\n",
       " % All 2 tests passed"
      ],
      "text/markdown": [
       "<pre style=\"font-family: Menlo, Consolas, 'DejaVu Sans Mono', monospace; font-size: 13px; line-height: 1.3077;\">% PL-Unit: list . done\n",
       "% PL-Unit: number . done\n",
       "% All 2 tests passed</pre>"
      ],
      "text/plain": [
       "% PL-Unit: list . done\n",
       "% PL-Unit: number . done\n",
       "% All 2 tests passed"
      ]
     },
     "metadata": {},
     "output_type": "display_data"
    },
    {
     "data": {
      "text/latex": [
       "true"
      ],
      "text/markdown": [
       "<pre style=\"font-family: Menlo, Consolas, 'DejaVu Sans Mono', monospace; font-size: 13px; line-height: 1.3077;font-weight:bold;\">true</pre>"
      ],
      "text/plain": [
       "true"
      ]
     },
     "metadata": {},
     "output_type": "display_data"
    }
   ],
   "source": [
    ":- begin_tests(number). \n",
    "\n",
    "test(number_failing, [fail]) :-\n",
    "  number([]).\n",
    "  \n",
    ":- run_tests."
   ]
  },
  {
   "cell_type": "markdown",
   "metadata": {},
   "source": [
    "As mentioned above, test definitions can also be loaded from a file."
   ]
  },
  {
   "cell_type": "code",
   "execution_count": 33,
   "metadata": {},
   "outputs": [
    {
     "data": {
      "text/latex": [
       "true"
      ],
      "text/markdown": [
       "<pre style=\"font-family: Menlo, Consolas, 'DejaVu Sans Mono', monospace; font-size: 13px; line-height: 1.3077;font-weight:bold;\">true</pre>"
      ],
      "text/plain": [
       "true"
      ]
     },
     "metadata": {},
     "output_type": "display_data"
    }
   ],
   "source": [
    "[test]."
   ]
  },
  {
   "cell_type": "code",
   "execution_count": 34,
   "metadata": {},
   "outputs": [
    {
     "data": {
      "text/latex": [
       "% PL-Unit: list . done\\\\\n",
       " % PL-Unit: number . done\\\\\n",
       " % PL-Unit: test ... done\\\\\n",
       " % All 5 tests passed"
      ],
      "text/markdown": [
       "<pre style=\"font-family: Menlo, Consolas, 'DejaVu Sans Mono', monospace; font-size: 13px; line-height: 1.3077;\">% PL-Unit: list . done\n",
       "% PL-Unit: number . done\n",
       "% PL-Unit: test ... done\n",
       "% All 5 tests passed</pre>"
      ],
      "text/plain": [
       "% PL-Unit: list . done\n",
       "% PL-Unit: number . done\n",
       "% PL-Unit: test ... done\n",
       "% All 5 tests passed"
      ]
     },
     "metadata": {},
     "output_type": "display_data"
    },
    {
     "data": {
      "text/latex": [
       "true"
      ],
      "text/markdown": [
       "<pre style=\"font-family: Menlo, Consolas, 'DejaVu Sans Mono', monospace; font-size: 13px; line-height: 1.3077;font-weight:bold;\">true</pre>"
      ],
      "text/plain": [
       "true"
      ]
     },
     "metadata": {},
     "output_type": "display_data"
    }
   ],
   "source": [
    "run_tests."
   ]
  },
  {
   "cell_type": "markdown",
   "metadata": {
    "tags": []
   },
   "source": [
    "### Benchmarking Capabilities <a id='benchmarking'></a>"
   ]
  },
  {
   "cell_type": "markdown",
   "metadata": {},
   "source": [
    "Whenever a query is executed, its runtime is stored in a database.<br>\n",
    "It can be accessed by calling `jupyter:print_query_time`, which prints the latest previous query and its runtime in milliseconds.<br>"
   ]
  },
  {
   "cell_type": "code",
   "execution_count": 35,
   "metadata": {},
   "outputs": [
    {
     "data": {
      "text/latex": [
       "M = 1"
      ],
      "text/markdown": [
       "<pre style=\"font-family: Menlo, Consolas, 'DejaVu Sans Mono', monospace; font-size: 13px; line-height: 1.3077;font-weight:bold;\">M = 1</pre>"
      ],
      "text/plain": [
       "M = 1"
      ]
     },
     "metadata": {},
     "output_type": "display_data"
    }
   ],
   "source": [
    "member(M, [1,2,3])."
   ]
  },
  {
   "cell_type": "code",
   "execution_count": 36,
   "metadata": {},
   "outputs": [
    {
     "data": {
      "text/latex": [
       "Query:   member(M,[1,2,3])\\\\\n",
       " Runtime: 0 ms"
      ],
      "text/markdown": [
       "<pre style=\"font-family: Menlo, Consolas, 'DejaVu Sans Mono', monospace; font-size: 13px; line-height: 1.3077;\">Query:   member(M,[1,2,3])\n",
       "Runtime: 0 ms</pre>"
      ],
      "text/plain": [
       "Query:   member(M,[1,2,3])\n",
       "Runtime: 0 ms"
      ]
     },
     "metadata": {},
     "output_type": "display_data"
    },
    {
     "data": {
      "text/latex": [
       "true"
      ],
      "text/markdown": [
       "<pre style=\"font-family: Menlo, Consolas, 'DejaVu Sans Mono', monospace; font-size: 13px; line-height: 1.3077;font-weight:bold;\">true</pre>"
      ],
      "text/plain": [
       "true"
      ]
     },
     "metadata": {},
     "output_type": "display_data"
    }
   ],
   "source": [
    "jupyter:print_query_time."
   ]
  },
  {
   "cell_type": "markdown",
   "metadata": {
    "tags": []
   },
   "source": [
    "### Debugging <a id='debugging'></a>"
   ]
  },
  {
   "cell_type": "markdown",
   "metadata": {},
   "source": [
    "In a Jupyter notebook, debugging cannot be performed interactively as user input is not supported during the execution of a cell.<br>\n",
    "Thus, switching on trace mode with `trace/0` would cause the server to stop at an invocation (and a restart is required).<br>\n",
    "However, the call stack can be accessed by defining breakpoints which cause debugging messages to be printed.<br>\n",
    "As this mechanism might be difficult, the predicate `jupyter:trace(Goal)` was implemented.<br>\n",
    "It switches on trace mode, calls the goal `Goal` and switches debug mode off.<br>\n",
    "By default, all ports are unleashed and included in the output, which means that no user interaction is requested when a breakpoint is activated.<br>\n",
    "In order to be recognized as a special goal, the call of `jupyter:trace/1` needs to be the only one in a term.<br>"
   ]
  },
  {
   "cell_type": "code",
   "execution_count": 37,
   "metadata": {},
   "outputs": [
    {
     "data": {
      "text/html": [
       "\n",
       "            <style>\n",
       "            details  {\n",
       "            font-family: Menlo, Consolas, 'DejaVu Sans Mono', monospace; font-size: 13px; line-height: 1.3077;\n",
       "            }\n",
       "\n",
       "            details > summary {\n",
       "              cursor: pointer;\n",
       "            }\n",
       "            </style>\n",
       "            <details><summary>Previously defined clauses of user:app/3 were retracted (click to expand)</summary><pre>:- dynamic app/3.\n",
       "\n",
       "app([], A, A) :-\n",
       "    !.\n",
       "app([A|B], C, [A|D]) :-\n",
       "    app(B, C, D).\n",
       "</pre></details>"
      ],
      "text/plain": [
       "Previously defined clauses of user:app/3 were retracted:\n",
       ":- dynamic app/3.\n",
       "\n",
       "app([], A, A) :-\n",
       "    !.\n",
       "app([A|B], C, [A|D]) :-\n",
       "    app(B, C, D).\n"
      ]
     },
     "metadata": {
      "application/json": {}
     },
     "output_type": "display_data"
    },
    {
     "data": {
      "text/latex": [
       "% Asserting clauses for user:app/3\\\\\n",
       " "
      ],
      "text/markdown": [
       "<pre style=\"font-family: Menlo, Consolas, 'DejaVu Sans Mono', monospace; font-size: 13px; line-height: 1.3077;\">% Asserting clauses for user:app/3\n",
       "</pre>"
      ],
      "text/plain": [
       "% Asserting clauses for user:app/3\n"
      ]
     },
     "metadata": {},
     "output_type": "display_data"
    },
    {
     "data": {
      "text/html": [
       "\n",
       "            <style>\n",
       "            details  {\n",
       "            font-family: Menlo, Consolas, 'DejaVu Sans Mono', monospace; font-size: 13px; line-height: 1.3077;\n",
       "            }\n",
       "\n",
       "            details > summary {\n",
       "              cursor: pointer;\n",
       "            }\n",
       "            </style>\n",
       "            <details><summary>Previously defined clauses of user:app/4 were retracted (click to expand)</summary><pre>:- dynamic app/4.\n",
       "\n",
       "app(A, B, C, D) :-\n",
       "    app(B, C, E),\n",
       "    app(A, E, D).\n",
       "</pre></details>"
      ],
      "text/plain": [
       "Previously defined clauses of user:app/4 were retracted:\n",
       ":- dynamic app/4.\n",
       "\n",
       "app(A, B, C, D) :-\n",
       "    app(B, C, E),\n",
       "    app(A, E, D).\n"
      ]
     },
     "metadata": {
      "application/json": {}
     },
     "output_type": "display_data"
    },
    {
     "data": {
      "text/latex": [
       "% Asserting clauses for user:app/4\\\\\n",
       " "
      ],
      "text/markdown": [
       "<pre style=\"font-family: Menlo, Consolas, 'DejaVu Sans Mono', monospace; font-size: 13px; line-height: 1.3077;\">% Asserting clauses for user:app/4\n",
       "</pre>"
      ],
      "text/plain": [
       "% Asserting clauses for user:app/4\n"
      ]
     },
     "metadata": {},
     "output_type": "display_data"
    }
   ],
   "source": [
    "app([], Res, Res) :- !.\n",
    "app([Head|Tail], List, [Head|Res]) :-\n",
    "  app(Tail, List, Res).\n",
    "  \n",
    "app(L1, L2, L3, Res) :-\n",
    "  app(L2, L3, R1),\n",
    "  app(L1, R1, Res)."
   ]
  },
  {
   "cell_type": "code",
   "execution_count": 38,
   "metadata": {},
   "outputs": [
    {
     "data": {
      "text/latex": [
       "   Call: (181) app([1], [2], _73802)\\\\\n",
       "    Call: (182) app([], [2], _74914)\\\\\n",
       "    Exit: (182) app([], [2], [2])\\\\\n",
       "    Exit: (181) app([1], [2], [1, 2])"
      ],
      "text/markdown": [
       "<pre style=\"font-family: Menlo, Consolas, 'DejaVu Sans Mono', monospace; font-size: 13px; line-height: 1.3077;\">   Call: (181) app([1], [2], _73802)\n",
       "   Call: (182) app([], [2], _74914)\n",
       "   Exit: (182) app([], [2], [2])\n",
       "   Exit: (181) app([1], [2], [1, 2])</pre>"
      ],
      "text/plain": [
       "   Call: (181) app([1], [2], _73802)\n",
       "   Call: (182) app([], [2], _74914)\n",
       "   Exit: (182) app([], [2], [2])\n",
       "   Exit: (181) app([1], [2], [1, 2])"
      ]
     },
     "metadata": {},
     "output_type": "display_data"
    },
    {
     "data": {
      "text/latex": [
       "R = [1,2]"
      ],
      "text/markdown": [
       "<pre style=\"font-family: Menlo, Consolas, 'DejaVu Sans Mono', monospace; font-size: 13px; line-height: 1.3077;font-weight:bold;\">R = [1,2]</pre>"
      ],
      "text/plain": [
       "R = [1,2]"
      ]
     },
     "metadata": {},
     "output_type": "display_data"
    }
   ],
   "source": [
    "jupyter:trace(app([1], [2], R))."
   ]
  },
  {
   "cell_type": "markdown",
   "metadata": {
    "tags": []
   },
   "source": [
    "## Jupyter Convenience Features"
   ]
  },
  {
   "cell_type": "markdown",
   "metadata": {
    "tags": []
   },
   "source": [
    "### Introspection <a id='introspection'></a>"
   ]
  },
  {
   "cell_type": "markdown",
   "metadata": {
    "tags": []
   },
   "source": [
    "#### Code Completion (Tab) <a id='code_completion'></a>\n",
    "In JupyterLab as well as Jupyter Notebook, code completion for the token at the current cursor position can be requested by pressing the Tab key.<br>\n",
    "If there is a single possible match, the code preceding the cursor is replaced directly.<br>\n",
    "Otherwise, a list of options is shown from which the user can choose one.<br>\n",
    "Completion can be used for predicates which are built-in or exported by a loaded module.<br>\n",
    "It is also possible to display all predicates of a module, which is especially useful for retrieving all the special predicates defined by the module `jupyter`.\n",
    "\n",
    "When the kernel is started, the needed predicate data can only be retrieved for modules which are currently loaded.<br>\n",
    "After loading another module, the data can be updated with `jupyter:update_completion_data/0` so that code completion works for predicates from that module as well."
   ]
  },
  {
   "cell_type": "code",
   "execution_count": 39,
   "metadata": {},
   "outputs": [
    {
     "data": {
      "text/latex": [
       "true"
      ],
      "text/markdown": [
       "<pre style=\"font-family: Menlo, Consolas, 'DejaVu Sans Mono', monospace; font-size: 13px; line-height: 1.3077;font-weight:bold;\">true</pre>"
      ],
      "text/plain": [
       "true"
      ]
     },
     "metadata": {},
     "output_type": "display_data"
    }
   ],
   "source": [
    "jupyter:update_completion_data."
   ]
  },
  {
   "cell_type": "markdown",
   "metadata": {},
   "source": [
    "#### Inspection (Shift+Tab) <a id='inspection'></a>\n",
    "By pressing Shift+Tab, inspection for the token preceding the current cursor position can be requested.<br>\n",
    "For most predicates, the documentation is requested with `help/1`.<br>\n",
    "Additionally, if the token is contained in a name of a predicate from module `jupyter`, the corresponding documentation is displayed."
   ]
  },
  {
   "cell_type": "markdown",
   "metadata": {
    "tags": []
   },
   "source": [
    "#### Accessing `jupyter` documentation <a id='jupyter_docs'></a>\n",
    "\n",
    "Most of the features below are provided by the module `jupyter` which is used by the Prolog server.<br>\n",
    "In addition to the inspection, the documentation of all predicates defined in this module can be accessed with `jupyter:help/0`.<br>"
   ]
  },
  {
   "cell_type": "code",
   "execution_count": 40,
   "metadata": {},
   "outputs": [
    {
     "data": {
      "text/latex": [
       "jupyter:cut or cut\\\\\n",
       " \\\\\n",
       "     Cuts off the choicepoints of the latest active query.\\\\\n",
       " \\\\\n",
       "     In general, the previous query is the active one.\\\\\n",
       "     However, the previous active query can be activated again.\\\\\n",
       "     This can be done by cutting off choicepoints with jupyter:cut/0.\\\\\n",
       "     This is also the case if a retry/0 encounters no further solutions.\\\\\n",
       " \\\\\n",
       "     A further retry/0 call causes backtracking of the previous active goal.\\\\\n",
       " \\\\\n",
       "     Needs to be the only goal of a query.\\\\\n",
       " \\\\\n",
       " --------------------------------------------------------------------------------\\\\\n",
       " \\\\\n",
       " jupyter:halt or halt\\\\\n",
       " \\\\\n",
       "     Shuts down the running Prolog process.\\\\\n",
       " \\\\\n",
       "     The next time code is to be executed, a new process is started.\\\\\n",
       "     Everything defined in the database before does not exist anymore.\\\\\n",
       " \\\\\n",
       "     Corresponds to the functionality of halt/0.\\\\\n",
       "     Has the same effect as interrupting or restarting the Jupyter kernel.\\\\\n",
       " \\\\\n",
       " --------------------------------------------------------------------------------\\\\\n",
       " \\\\\n",
       " jupyter:help\\\\\n",
       " \\\\\n",
       "     Outputs the documentation for all predicates from module jupyter.\\\\\n",
       " \\\\\n",
       " --------------------------------------------------------------------------------\\\\\n",
       " \\\\\n",
       " jupyter:print_query_time\\\\\n",
       " \\\\\n",
       "     Prints the latest previous query and its runtime in milliseconds.\\\\\n",
       " \\\\\n",
       " --------------------------------------------------------------------------------\\\\\n",
       " \\\\\n",
       " jupyter:print_queries(+Ids)\\\\\n",
       " \\\\\n",
       "     Prints previous queries which were exectued in requests with IDs in Ids.\\\\\n",
       " \\\\\n",
       "     Any $Var terms might be replaced by the variable's name.\\\\\n",
       "     This is the case if a previous query with ID in Ids contains Var.\\\\\n",
       "     Otherwise, $Var is not replaced.\\\\\n",
       " \\\\\n",
       " --------------------------------------------------------------------------------\\\\\n",
       " \\\\\n",
       " jupyter:print_sld_tree(+Goal)\\\\\n",
       " \\\\\n",
       "     Executes the goal Goal and prints its SLD tree.\\\\\n",
       " \\\\\n",
       "     Needs to be the only goal of a query.\\\\\n",
       " \\\\\n",
       " --------------------------------------------------------------------------------\\\\\n",
       " \\\\\n",
       " jupyter:print_stack\\\\\n",
       " \\\\\n",
       "     Prints the current stack used for jupyter:retry/0 and jupyter:cut/0.\\\\\n",
       "     The active goal is marked by a preceding '->'.\\\\\n",
       " \\\\\n",
       "     Needs to be the only goal of a query.\\\\\n",
       " \\\\\n",
       " --------------------------------------------------------------------------------\\\\\n",
       " \\\\\n",
       " jupyter:print_table(+Goal)\\\\\n",
       " \\\\\n",
       "     Computes all results of the goal Goal with findall/3.\\\\\n",
       "     These are printed in a table.\\\\\n",
       " \\\\\n",
       "     Needs to be the only goal of a query.\\\\\n",
       " \\\\\n",
       "     Example: jupyter:print_table(prolog_flag(FlagName, Value)).\\\\\n",
       " \\\\\n",
       " --------------------------------------------------------------------------------\\\\\n",
       " \\\\\n",
       " jupyter:print_table(+ValuesLists, +VariableNames)\\\\\n",
       " \\\\\n",
       "     Prints a table of the values in ValuesLists.\\\\\n",
       " \\\\\n",
       "     ValuesLists is a list of lists of the same length.\\\\\n",
       "     Each list corresponds to one line of the table.\\\\\n",
       " \\\\\n",
       "     VariableNames is used to fill the header of the table.\\\\\n",
       "     If VariableNames=[], capital letters are used.\\\\\n",
       "     Otherwise, VariableNames needs to be a list of ground terms.\\\\\n",
       "     It needs to be of the same length as the values lists.\\\\\n",
       " \\\\\n",
       "     Needs to be the only goal of a query.\\\\\n",
       " \\\\\n",
       "     Can be used with a predicate like findall/3, but not directly.\\\\\n",
       "     Instead, a previous binding can be accessed with a $Var term.\\\\\n",
       " \\\\\n",
       "     Examples:\\\\\n",
       "         jupyter:print_table([[10,100],[20,400],[30,900]], ['X', 'Y']).\\\\\n",
       "         jupyter:print_table($ResultLists, []).\\\\\n",
       " \\\\\n",
       " --------------------------------------------------------------------------------\\\\\n",
       " \\\\\n",
       " jupyter:print_transition_graph(+PredSpec, +FromIndex, +ToIndex, +LabelIndex)\\\\\n",
       " \\\\\n",
       "     Finds all solutions of the predicate with specificaion PredSpec.\\\\\n",
       "     Prints a graph interpreting the solutions as transitions.\\\\\n",
       " \\\\\n",
       "     PredSpec needs to be of the form PredName/PredArity.\\\\\n",
       "     Optionally, it can be module name expanded.\\\\\n",
       " \\\\\n",
       "     FromIndex and ToIndex point to predicate arguments used as nodes.\\\\\n",
       "     LabelIndex points to the argument providing a label for an edge.\\\\\n",
       "     If LabelIndex=0, no label is shown.\\\\\n",
       " \\\\\n",
       "     Needs to be the only goal of a query.\\\\\n",
       " \\\\\n",
       " --------------------------------------------------------------------------------\\\\\n",
       " \\\\\n",
       " jupyter:print_variable_bindings\\\\\n",
       " \\\\\n",
       "     Prints variable bindings from previous queries.\\\\\n",
       "     For each variable, the latest value it was bound to is shown.\\\\\n",
       " \\\\\n",
       "     The variable value can be accessed with a $Var term by any query.\\\\\n",
       "     In that case, the term is replaced by the value.\\\\\n",
       "     If there is no previous value, an error message is printed.\\\\\n",
       " \\\\\n",
       " --------------------------------------------------------------------------------\\\\\n",
       " \\\\\n",
       " jupyter:retry or retry\\\\\n",
       " \\\\\n",
       "     Causes backtracking of the latest active query.\\\\\n",
       " \\\\\n",
       "     In general, the previous query is the active one.\\\\\n",
       "     However, the previous active query can be activated again.\\\\\n",
       "     This can be done by cutting off choicepoints with jupyter:cut/0.\\\\\n",
       "     This is also the case if a retry/0 encounters no further solutions.\\\\\n",
       " \\\\\n",
       "     Needs to be the only goal of a query.\\\\\n",
       " \\\\\n",
       " --------------------------------------------------------------------------------\\\\\n",
       " \\\\\n",
       " jupyter:set_prolog_impl(+PrologImplementationID)\\\\\n",
       " \\\\\n",
       "     Activates the Prolog implementation with ID PrologImplementationID.\\\\\n",
       " \\\\\n",
       "     Code in the same cell is executed with the previous implementation.\\\\\n",
       " \\\\\n",
       "     Needs to be the only goal of a query.\\\\\n",
       " \\\\\n",
       " --------------------------------------------------------------------------------\\\\\n",
       " \\\\\n",
       " jupyter:trace(+Goal)\\\\\n",
       " \\\\\n",
       "     Prints the trace of the goal Goal.\\\\\n",
       " \\\\\n",
       "     By default, no port is leashed so that no user interaction is requested.\\\\\n",
       "     All previously set breakpoints are still active.\\\\\n",
       " \\\\\n",
       "     Needs to be the only goal of a query in order to work as expected.\\\\\n",
       " \\\\\n",
       " --------------------------------------------------------------------------------\\\\\n",
       " \\\\\n",
       " jupyter:update_completion_data\\\\\n",
       " \\\\\n",
       "     Updates the predicate data used for code completion using Tab.\\\\\n",
       " \\\\\n",
       "     This is done by retrieving all built-in and exported predicates.\\\\\n",
       "     Needed to use completion for predicates from a newly loaded module.\\\\\n",
       " \\\\\n",
       "     Needs to be the only goal of a query."
      ],
      "text/markdown": [
       "<pre style=\"font-family: Menlo, Consolas, 'DejaVu Sans Mono', monospace; font-size: 13px; line-height: 1.3077;\">jupyter:cut or cut\n",
       "\n",
       "    Cuts off the choicepoints of the latest active query.\n",
       "\n",
       "    In general, the previous query is the active one.\n",
       "    However, the previous active query can be activated again.\n",
       "    This can be done by cutting off choicepoints with jupyter:cut/0.\n",
       "    This is also the case if a retry/0 encounters no further solutions.\n",
       "\n",
       "    A further retry/0 call causes backtracking of the previous active goal.\n",
       "\n",
       "    Needs to be the only goal of a query.\n",
       "\n",
       "--------------------------------------------------------------------------------\n",
       "\n",
       "jupyter:halt or halt\n",
       "\n",
       "    Shuts down the running Prolog process.\n",
       "\n",
       "    The next time code is to be executed, a new process is started.\n",
       "    Everything defined in the database before does not exist anymore.\n",
       "\n",
       "    Corresponds to the functionality of halt/0.\n",
       "    Has the same effect as interrupting or restarting the Jupyter kernel.\n",
       "\n",
       "--------------------------------------------------------------------------------\n",
       "\n",
       "jupyter:help\n",
       "\n",
       "    Outputs the documentation for all predicates from module jupyter.\n",
       "\n",
       "--------------------------------------------------------------------------------\n",
       "\n",
       "jupyter:print_query_time\n",
       "\n",
       "    Prints the latest previous query and its runtime in milliseconds.\n",
       "\n",
       "--------------------------------------------------------------------------------\n",
       "\n",
       "jupyter:print_queries(+Ids)\n",
       "\n",
       "    Prints previous queries which were exectued in requests with IDs in Ids.\n",
       "\n",
       "    Any $Var terms might be replaced by the variable's name.\n",
       "    This is the case if a previous query with ID in Ids contains Var.\n",
       "    Otherwise, $Var is not replaced.\n",
       "\n",
       "--------------------------------------------------------------------------------\n",
       "\n",
       "jupyter:print_sld_tree(+Goal)\n",
       "\n",
       "    Executes the goal Goal and prints its SLD tree.\n",
       "\n",
       "    Needs to be the only goal of a query.\n",
       "\n",
       "--------------------------------------------------------------------------------\n",
       "\n",
       "jupyter:print_stack\n",
       "\n",
       "    Prints the current stack used for jupyter:retry/0 and jupyter:cut/0.\n",
       "    The active goal is marked by a preceding '->'.\n",
       "\n",
       "    Needs to be the only goal of a query.\n",
       "\n",
       "--------------------------------------------------------------------------------\n",
       "\n",
       "jupyter:print_table(+Goal)\n",
       "\n",
       "    Computes all results of the goal Goal with findall/3.\n",
       "    These are printed in a table.\n",
       "\n",
       "    Needs to be the only goal of a query.\n",
       "\n",
       "    Example: jupyter:print_table(prolog_flag(FlagName, Value)).\n",
       "\n",
       "--------------------------------------------------------------------------------\n",
       "\n",
       "jupyter:print_table(+ValuesLists, +VariableNames)\n",
       "\n",
       "    Prints a table of the values in ValuesLists.\n",
       "\n",
       "    ValuesLists is a list of lists of the same length.\n",
       "    Each list corresponds to one line of the table.\n",
       "\n",
       "    VariableNames is used to fill the header of the table.\n",
       "    If VariableNames=[], capital letters are used.\n",
       "    Otherwise, VariableNames needs to be a list of ground terms.\n",
       "    It needs to be of the same length as the values lists.\n",
       "\n",
       "    Needs to be the only goal of a query.\n",
       "\n",
       "    Can be used with a predicate like findall/3, but not directly.\n",
       "    Instead, a previous binding can be accessed with a $Var term.\n",
       "\n",
       "    Examples:\n",
       "        jupyter:print_table([[10,100],[20,400],[30,900]], ['X', 'Y']).\n",
       "        jupyter:print_table($ResultLists, []).\n",
       "\n",
       "--------------------------------------------------------------------------------\n",
       "\n",
       "jupyter:print_transition_graph(+PredSpec, +FromIndex, +ToIndex, +LabelIndex)\n",
       "\n",
       "    Finds all solutions of the predicate with specificaion PredSpec.\n",
       "    Prints a graph interpreting the solutions as transitions.\n",
       "\n",
       "    PredSpec needs to be of the form PredName/PredArity.\n",
       "    Optionally, it can be module name expanded.\n",
       "\n",
       "    FromIndex and ToIndex point to predicate arguments used as nodes.\n",
       "    LabelIndex points to the argument providing a label for an edge.\n",
       "    If LabelIndex=0, no label is shown.\n",
       "\n",
       "    Needs to be the only goal of a query.\n",
       "\n",
       "--------------------------------------------------------------------------------\n",
       "\n",
       "jupyter:print_variable_bindings\n",
       "\n",
       "    Prints variable bindings from previous queries.\n",
       "    For each variable, the latest value it was bound to is shown.\n",
       "\n",
       "    The variable value can be accessed with a $Var term by any query.\n",
       "    In that case, the term is replaced by the value.\n",
       "    If there is no previous value, an error message is printed.\n",
       "\n",
       "--------------------------------------------------------------------------------\n",
       "\n",
       "jupyter:retry or retry\n",
       "\n",
       "    Causes backtracking of the latest active query.\n",
       "\n",
       "    In general, the previous query is the active one.\n",
       "    However, the previous active query can be activated again.\n",
       "    This can be done by cutting off choicepoints with jupyter:cut/0.\n",
       "    This is also the case if a retry/0 encounters no further solutions.\n",
       "\n",
       "    Needs to be the only goal of a query.\n",
       "\n",
       "--------------------------------------------------------------------------------\n",
       "\n",
       "jupyter:set_prolog_impl(+PrologImplementationID)\n",
       "\n",
       "    Activates the Prolog implementation with ID PrologImplementationID.\n",
       "\n",
       "    Code in the same cell is executed with the previous implementation.\n",
       "\n",
       "    Needs to be the only goal of a query.\n",
       "\n",
       "--------------------------------------------------------------------------------\n",
       "\n",
       "jupyter:trace(+Goal)\n",
       "\n",
       "    Prints the trace of the goal Goal.\n",
       "\n",
       "    By default, no port is leashed so that no user interaction is requested.\n",
       "    All previously set breakpoints are still active.\n",
       "\n",
       "    Needs to be the only goal of a query in order to work as expected.\n",
       "\n",
       "--------------------------------------------------------------------------------\n",
       "\n",
       "jupyter:update_completion_data\n",
       "\n",
       "    Updates the predicate data used for code completion using Tab.\n",
       "\n",
       "    This is done by retrieving all built-in and exported predicates.\n",
       "    Needed to use completion for predicates from a newly loaded module.\n",
       "\n",
       "    Needs to be the only goal of a query.</pre>"
      ],
      "text/plain": [
       "jupyter:cut or cut\n",
       "\n",
       "    Cuts off the choicepoints of the latest active query.\n",
       "\n",
       "    In general, the previous query is the active one.\n",
       "    However, the previous active query can be activated again.\n",
       "    This can be done by cutting off choicepoints with jupyter:cut/0.\n",
       "    This is also the case if a retry/0 encounters no further solutions.\n",
       "\n",
       "    A further retry/0 call causes backtracking of the previous active goal.\n",
       "\n",
       "    Needs to be the only goal of a query.\n",
       "\n",
       "--------------------------------------------------------------------------------\n",
       "\n",
       "jupyter:halt or halt\n",
       "\n",
       "    Shuts down the running Prolog process.\n",
       "\n",
       "    The next time code is to be executed, a new process is started.\n",
       "    Everything defined in the database before does not exist anymore.\n",
       "\n",
       "    Corresponds to the functionality of halt/0.\n",
       "    Has the same effect as interrupting or restarting the Jupyter kernel.\n",
       "\n",
       "--------------------------------------------------------------------------------\n",
       "\n",
       "jupyter:help\n",
       "\n",
       "    Outputs the documentation for all predicates from module jupyter.\n",
       "\n",
       "--------------------------------------------------------------------------------\n",
       "\n",
       "jupyter:print_query_time\n",
       "\n",
       "    Prints the latest previous query and its runtime in milliseconds.\n",
       "\n",
       "--------------------------------------------------------------------------------\n",
       "\n",
       "jupyter:print_queries(+Ids)\n",
       "\n",
       "    Prints previous queries which were exectued in requests with IDs in Ids.\n",
       "\n",
       "    Any $Var terms might be replaced by the variable's name.\n",
       "    This is the case if a previous query with ID in Ids contains Var.\n",
       "    Otherwise, $Var is not replaced.\n",
       "\n",
       "--------------------------------------------------------------------------------\n",
       "\n",
       "jupyter:print_sld_tree(+Goal)\n",
       "\n",
       "    Executes the goal Goal and prints its SLD tree.\n",
       "\n",
       "    Needs to be the only goal of a query.\n",
       "\n",
       "--------------------------------------------------------------------------------\n",
       "\n",
       "jupyter:print_stack\n",
       "\n",
       "    Prints the current stack used for jupyter:retry/0 and jupyter:cut/0.\n",
       "    The active goal is marked by a preceding '->'.\n",
       "\n",
       "    Needs to be the only goal of a query.\n",
       "\n",
       "--------------------------------------------------------------------------------\n",
       "\n",
       "jupyter:print_table(+Goal)\n",
       "\n",
       "    Computes all results of the goal Goal with findall/3.\n",
       "    These are printed in a table.\n",
       "\n",
       "    Needs to be the only goal of a query.\n",
       "\n",
       "    Example: jupyter:print_table(prolog_flag(FlagName, Value)).\n",
       "\n",
       "--------------------------------------------------------------------------------\n",
       "\n",
       "jupyter:print_table(+ValuesLists, +VariableNames)\n",
       "\n",
       "    Prints a table of the values in ValuesLists.\n",
       "\n",
       "    ValuesLists is a list of lists of the same length.\n",
       "    Each list corresponds to one line of the table.\n",
       "\n",
       "    VariableNames is used to fill the header of the table.\n",
       "    If VariableNames=[], capital letters are used.\n",
       "    Otherwise, VariableNames needs to be a list of ground terms.\n",
       "    It needs to be of the same length as the values lists.\n",
       "\n",
       "    Needs to be the only goal of a query.\n",
       "\n",
       "    Can be used with a predicate like findall/3, but not directly.\n",
       "    Instead, a previous binding can be accessed with a $Var term.\n",
       "\n",
       "    Examples:\n",
       "        jupyter:print_table([[10,100],[20,400],[30,900]], ['X', 'Y']).\n",
       "        jupyter:print_table($ResultLists, []).\n",
       "\n",
       "--------------------------------------------------------------------------------\n",
       "\n",
       "jupyter:print_transition_graph(+PredSpec, +FromIndex, +ToIndex, +LabelIndex)\n",
       "\n",
       "    Finds all solutions of the predicate with specificaion PredSpec.\n",
       "    Prints a graph interpreting the solutions as transitions.\n",
       "\n",
       "    PredSpec needs to be of the form PredName/PredArity.\n",
       "    Optionally, it can be module name expanded.\n",
       "\n",
       "    FromIndex and ToIndex point to predicate arguments used as nodes.\n",
       "    LabelIndex points to the argument providing a label for an edge.\n",
       "    If LabelIndex=0, no label is shown.\n",
       "\n",
       "    Needs to be the only goal of a query.\n",
       "\n",
       "--------------------------------------------------------------------------------\n",
       "\n",
       "jupyter:print_variable_bindings\n",
       "\n",
       "    Prints variable bindings from previous queries.\n",
       "    For each variable, the latest value it was bound to is shown.\n",
       "\n",
       "    The variable value can be accessed with a $Var term by any query.\n",
       "    In that case, the term is replaced by the value.\n",
       "    If there is no previous value, an error message is printed.\n",
       "\n",
       "--------------------------------------------------------------------------------\n",
       "\n",
       "jupyter:retry or retry\n",
       "\n",
       "    Causes backtracking of the latest active query.\n",
       "\n",
       "    In general, the previous query is the active one.\n",
       "    However, the previous active query can be activated again.\n",
       "    This can be done by cutting off choicepoints with jupyter:cut/0.\n",
       "    This is also the case if a retry/0 encounters no further solutions.\n",
       "\n",
       "    Needs to be the only goal of a query.\n",
       "\n",
       "--------------------------------------------------------------------------------\n",
       "\n",
       "jupyter:set_prolog_impl(+PrologImplementationID)\n",
       "\n",
       "    Activates the Prolog implementation with ID PrologImplementationID.\n",
       "\n",
       "    Code in the same cell is executed with the previous implementation.\n",
       "\n",
       "    Needs to be the only goal of a query.\n",
       "\n",
       "--------------------------------------------------------------------------------\n",
       "\n",
       "jupyter:trace(+Goal)\n",
       "\n",
       "    Prints the trace of the goal Goal.\n",
       "\n",
       "    By default, no port is leashed so that no user interaction is requested.\n",
       "    All previously set breakpoints are still active.\n",
       "\n",
       "    Needs to be the only goal of a query in order to work as expected.\n",
       "\n",
       "--------------------------------------------------------------------------------\n",
       "\n",
       "jupyter:update_completion_data\n",
       "\n",
       "    Updates the predicate data used for code completion using Tab.\n",
       "\n",
       "    This is done by retrieving all built-in and exported predicates.\n",
       "    Needed to use completion for predicates from a newly loaded module.\n",
       "\n",
       "    Needs to be the only goal of a query."
      ]
     },
     "metadata": {},
     "output_type": "display_data"
    },
    {
     "data": {
      "text/latex": [
       "true"
      ],
      "text/markdown": [
       "<pre style=\"font-family: Menlo, Consolas, 'DejaVu Sans Mono', monospace; font-size: 13px; line-height: 1.3077;font-weight:bold;\">true</pre>"
      ],
      "text/plain": [
       "true"
      ]
     },
     "metadata": {},
     "output_type": "display_data"
    }
   ],
   "source": [
    "jupyter:help"
   ]
  },
  {
   "cell_type": "markdown",
   "metadata": {
    "tags": []
   },
   "source": [
    "### Resetting the Prolog State <a id='reset_state'></a>"
   ]
  },
  {
   "cell_type": "markdown",
   "metadata": {},
   "source": [
    "All code is executed by a Prolog server.<br>\n",
    "As long as the server is running, the database state with all potential side effects such as clause assertions is in effect.<br>\n",
    "However, the user might want to undo all those and reset everything to an initial state.<br>\n",
    "There are several ways to do this.<br>\n",
    "\n",
    "The most natural and Prolog-like way is to call the built-in predicate `halt` or the Jupyter version `jupyter:halt`.<br>\n",
    "It should be noted that this predicate needs to be the only one of a query so that it can be determined as a special query and handled correctly.<br>\n",
    "If it does work as expected, a success message is output.<br>\n",
    "\n",
    "Additionally, in JupyterLab as well as Jupyter Notebook, there are buttons for interrupting the kernel and restarting it.<br>\n",
    "The same can also be achieved by pressing *I+I* and *0+0* respectively.<br>\n",
    "All of these options cause the Prolog server to be stopped.<br>\n",
    "The next time code is executed, a message about the restart of the server is output to let the user know that everything defined so far has been undone.<br>\n",
    "\n",
    "Restarting the server is especially useful when all cells of a notebook are to be run and not all of them are to work on the same Prolog database."
   ]
  },
  {
   "cell_type": "code",
   "execution_count": 41,
   "metadata": {},
   "outputs": [
    {
     "data": {
      "text/latex": [
       "% Successfully halted"
      ],
      "text/markdown": [
       "<pre style=\"font-family: Menlo, Consolas, 'DejaVu Sans Mono', monospace; font-size: 13px; line-height: 1.3077;\">% Successfully halted</pre>"
      ],
      "text/plain": [
       "% Successfully halted"
      ]
     },
     "metadata": {},
     "output_type": "display_data"
    }
   ],
   "source": [
    "halt."
   ]
  },
  {
   "cell_type": "markdown",
   "metadata": {},
   "source": [
    "After the server restart, the previously defined predicate `app/4` does not exist anymore."
   ]
  },
  {
   "cell_type": "code",
   "execution_count": null,
   "metadata": {},
   "outputs": [
    {
     "data": {
      "text/latex": [
       "% The Prolog server was restarted"
      ],
      "text/markdown": [
       "<pre style=\"font-family: Menlo, Consolas, 'DejaVu Sans Mono', monospace; font-size: 13px; line-height: 1.3077;color:red\">% The Prolog server was restarted</pre>"
      ],
      "text/plain": [
       "% The Prolog server was restarted"
      ]
     },
     "metadata": {},
     "output_type": "display_data"
    },
    {
     "data": {
      "text/latex": [
       "ERROR: call/1: Unknown procedure: app/4\\\\\n",
       " "
      ],
      "text/markdown": [
       "<pre style=\"font-family: Menlo, Consolas, 'DejaVu Sans Mono', monospace; font-size: 13px; line-height: 1.3077;color:red; font-weight:bold;\">ERROR: call/1: Unknown procedure: app/4\n",
       "</pre>"
      ],
      "text/plain": [
       "ERROR: call/1: Unknown procedure: app/4\n"
      ]
     },
     "metadata": {},
     "output_type": "display_data"
    }
   ],
   "source": [
    "app([1,2], [3,4], [5,6], R)."
   ]
  },
  {
   "cell_type": "markdown",
   "metadata": {
    "tags": []
   },
   "source": [
    "### Accessing Previous Results <a id='previous_results'></a>"
   ]
  },
  {
   "cell_type": "markdown",
   "metadata": {},
   "source": [
    "SWI-Prolog provides functionality of reusing top-level bindings.<br>\n",
    "Roughly, when a top-level goal succeeds, its bindings are asserted in a database.<br>\n",
    "By using `$Var` in a top-level query, the latest binding for the variable `Var` can be accessed.<br>\n",
    "Additionally, there is the predicate `jupyter:print_variable_bindings/0` that outputs all stored variable bindings.<br>"
   ]
  },
  {
   "cell_type": "code",
   "execution_count": 43,
   "metadata": {},
   "outputs": [
    {
     "data": {
      "text/latex": [
       "% Successfully halted"
      ],
      "text/markdown": [
       "<pre style=\"font-family: Menlo, Consolas, 'DejaVu Sans Mono', monospace; font-size: 13px; line-height: 1.3077;\">% Successfully halted</pre>"
      ],
      "text/plain": [
       "% Successfully halted"
      ]
     },
     "metadata": {},
     "output_type": "display_data"
    }
   ],
   "source": [
    "halt."
   ]
  },
  {
   "cell_type": "code",
   "execution_count": 44,
   "metadata": {},
   "outputs": [
    {
     "data": {
      "text/latex": [
       "% The Prolog server was restarted"
      ],
      "text/markdown": [
       "<pre style=\"font-family: Menlo, Consolas, 'DejaVu Sans Mono', monospace; font-size: 13px; line-height: 1.3077;color:red\">% The Prolog server was restarted</pre>"
      ],
      "text/plain": [
       "% The Prolog server was restarted"
      ]
     },
     "metadata": {},
     "output_type": "display_data"
    },
    {
     "data": {
      "text/latex": [
       "X = 1"
      ],
      "text/markdown": [
       "<pre style=\"font-family: Menlo, Consolas, 'DejaVu Sans Mono', monospace; font-size: 13px; line-height: 1.3077;font-weight:bold;\">X = 1</pre>"
      ],
      "text/plain": [
       "X = 1"
      ]
     },
     "metadata": {},
     "output_type": "display_data"
    }
   ],
   "source": [
    "X = 1."
   ]
  },
  {
   "cell_type": "code",
   "execution_count": 45,
   "metadata": {},
   "outputs": [
    {
     "data": {
      "text/latex": [
       "Y = 3,\\\\\n",
       " X = 1"
      ],
      "text/markdown": [
       "<pre style=\"font-family: Menlo, Consolas, 'DejaVu Sans Mono', monospace; font-size: 13px; line-height: 1.3077;font-weight:bold;\">Y = 3,\n",
       "X = 1</pre>"
      ],
      "text/plain": [
       "Y = 3,\n",
       "X = 1"
      ]
     },
     "metadata": {},
     "output_type": "display_data"
    }
   ],
   "source": [
    "Y is $X + 2."
   ]
  },
  {
   "cell_type": "code",
   "execution_count": 46,
   "metadata": {
    "tags": []
   },
   "outputs": [
    {
     "data": {
      "text/latex": [
       "$X =        1\\\\\n",
       " $Y =        3"
      ],
      "text/markdown": [
       "<pre style=\"font-family: Menlo, Consolas, 'DejaVu Sans Mono', monospace; font-size: 13px; line-height: 1.3077;\">$X =        1\n",
       "$Y =        3</pre>"
      ],
      "text/plain": [
       "$X =        1\n",
       "$Y =        3"
      ]
     },
     "metadata": {},
     "output_type": "display_data"
    },
    {
     "data": {
      "text/latex": [
       "true"
      ],
      "text/markdown": [
       "<pre style=\"font-family: Menlo, Consolas, 'DejaVu Sans Mono', monospace; font-size: 13px; line-height: 1.3077;font-weight:bold;\">true</pre>"
      ],
      "text/plain": [
       "true"
      ]
     },
     "metadata": {},
     "output_type": "display_data"
    }
   ],
   "source": [
    "jupyter:print_variable_bindings."
   ]
  },
  {
   "cell_type": "markdown",
   "metadata": {},
   "source": [
    "Further, all executed queries are stored internally.<br>\n",
    "When writing a new predicate, a user might test its subgoals gradually in different cells,\n",
    "potentially using `$Var` terms to access previous values.<br>\n",
    "Once all the parts are written, the predicate `jupyter:print_queries(Ids)` can be called to access the previous queries from calls with IDs in the list Ids.<br>\n",
    "They are printed in a way that they can easily be copied to a cell and executed right away or expanded with a head to define a predicate.<br>\n",
    "If a query contains a `$Var` term and one of the previously printed queries contains the variable `Var`, the term is replaced by the variable name.<br>"
   ]
  },
  {
   "cell_type": "code",
   "execution_count": 47,
   "metadata": {},
   "outputs": [
    {
     "data": {
      "text/latex": [
       "Member = 10"
      ],
      "text/markdown": [
       "<pre style=\"font-family: Menlo, Consolas, 'DejaVu Sans Mono', monospace; font-size: 13px; line-height: 1.3077;font-weight:bold;\">Member = 10</pre>"
      ],
      "text/plain": [
       "Member = 10"
      ]
     },
     "metadata": {},
     "output_type": "display_data"
    }
   ],
   "source": [
    "member(Member, [10, 20, 30])."
   ]
  },
  {
   "cell_type": "code",
   "execution_count": 48,
   "metadata": {},
   "outputs": [
    {
     "data": {
      "text/latex": [
       "Square = 100,\\\\\n",
       " Member = 10"
      ],
      "text/markdown": [
       "<pre style=\"font-family: Menlo, Consolas, 'DejaVu Sans Mono', monospace; font-size: 13px; line-height: 1.3077;font-weight:bold;\">Square = 100,\n",
       "Member = 10</pre>"
      ],
      "text/plain": [
       "Square = 100,\n",
       "Member = 10"
      ]
     },
     "metadata": {},
     "output_type": "display_data"
    }
   ],
   "source": [
    "Square is $Member * $Member."
   ]
  },
  {
   "cell_type": "code",
   "execution_count": 49,
   "metadata": {},
   "outputs": [
    {
     "data": {
      "text/latex": [
       "member(Member,[10,20,30]),\\\\\n",
       " Square is Member*Member."
      ],
      "text/markdown": [
       "<pre style=\"font-family: Menlo, Consolas, 'DejaVu Sans Mono', monospace; font-size: 13px; line-height: 1.3077;\">member(Member,[10,20,30]),\n",
       "Square is Member*Member.</pre>"
      ],
      "text/plain": [
       "member(Member,[10,20,30]),\n",
       "Square is Member*Member."
      ]
     },
     "metadata": {},
     "output_type": "display_data"
    },
    {
     "data": {
      "text/latex": [
       "true"
      ],
      "text/markdown": [
       "<pre style=\"font-family: Menlo, Consolas, 'DejaVu Sans Mono', monospace; font-size: 13px; line-height: 1.3077;font-weight:bold;\">true</pre>"
      ],
      "text/plain": [
       "true"
      ]
     },
     "metadata": {},
     "output_type": "display_data"
    }
   ],
   "source": [
    "jupyter:print_queries([47, 48])."
   ]
  },
  {
   "cell_type": "markdown",
   "metadata": {
    "tags": []
   },
   "source": [
    "### Structured Output <a id='structured_output'></a>"
   ]
  },
  {
   "cell_type": "markdown",
   "metadata": {},
   "source": [
    "There are two special predicates to output tables: `jupyter:print_table/1` and `jupyter:print_table/2`."
   ]
  },
  {
   "cell_type": "markdown",
   "metadata": {},
   "source": [
    "The predicate `jupyter:print_table(Goal)` can be used to compute all results of the goal `Goal` with `findall/3` and display them in a table.<br>\n",
    "The table contains a column for each variable occurring in it and a line for each result.<br>"
   ]
  },
  {
   "cell_type": "code",
   "execution_count": 50,
   "metadata": {},
   "outputs": [
    {
     "data": {
      "text/markdown": [
       "Member | Square | \n",
       ":- | :- | \n",
       "10 | 100 | \n",
       "20 | 400 | "
      ],
      "text/plain": [
       "Member | Square | \n",
       ":- | :- | \n",
       "10 | 100 | \n",
       "20 | 400 | "
      ]
     },
     "metadata": {},
     "output_type": "display_data"
    },
    {
     "data": {
      "text/latex": [
       "true"
      ],
      "text/markdown": [
       "<pre style=\"font-family: Menlo, Consolas, 'DejaVu Sans Mono', monospace; font-size: 13px; line-height: 1.3077;font-weight:bold;\">true</pre>"
      ],
      "text/plain": [
       "true"
      ]
     },
     "metadata": {},
     "output_type": "display_data"
    }
   ],
   "source": [
    "jupyter:print_table((member(Member, [10,20]), Square is Member*Member))."
   ]
  },
  {
   "cell_type": "markdown",
   "metadata": {},
   "source": [
    "In order to fill a table with other data than results of `findall/3`, there is the predicate `jupyter:print_table(ValuesLists, VariableNames)`.<br>\n",
    "`ValuesLists` is expected to be a list of lists where each of this lists corresponds to one line of the table.<br>\n",
    "Therefore, all the lists need to be of the same length.<br>\n",
    "Furthermore, `VariableNames` is used to provide the column headers and needs to be a list of ground terms of the same length as well unless it equals `[]`.<br>\n",
    "In the latter case, the headers contain capital letters starting from `A`.<br>"
   ]
  },
  {
   "cell_type": "code",
   "execution_count": 51,
   "metadata": {},
   "outputs": [
    {
     "data": {
      "text/markdown": [
       "A | B | \n",
       ":- | :- | \n",
       "10 | 100 | \n",
       "20 | 400 | \n",
       "30 | 900 | "
      ],
      "text/plain": [
       "A | B | \n",
       ":- | :- | \n",
       "10 | 100 | \n",
       "20 | 400 | \n",
       "30 | 900 | "
      ]
     },
     "metadata": {},
     "output_type": "display_data"
    },
    {
     "data": {
      "text/latex": [
       "true"
      ],
      "text/markdown": [
       "<pre style=\"font-family: Menlo, Consolas, 'DejaVu Sans Mono', monospace; font-size: 13px; line-height: 1.3077;font-weight:bold;\">true</pre>"
      ],
      "text/plain": [
       "true"
      ]
     },
     "metadata": {},
     "output_type": "display_data"
    }
   ],
   "source": [
    "jupyter:print_table([[10,100],[20,400],[30,900]], [])."
   ]
  },
  {
   "cell_type": "markdown",
   "metadata": {},
   "source": [
    "It needs to be noted that both of the predicates do not work properly unless they are the only goal in a query.<br>\n",
    "Therefore, the value for `ValuesLists` cannot be computed in the same query.<br>\n",
    "However, the mechanism of reusing bindings from previous queries can be used.<br>"
   ]
  },
  {
   "cell_type": "code",
   "execution_count": 52,
   "metadata": {},
   "outputs": [
    {
     "data": {
      "text/latex": [
       "ResultLists = [[10,100],[20,400]]"
      ],
      "text/markdown": [
       "<pre style=\"font-family: Menlo, Consolas, 'DejaVu Sans Mono', monospace; font-size: 13px; line-height: 1.3077;font-weight:bold;\">ResultLists = [[10,100],[20,400]]</pre>"
      ],
      "text/plain": [
       "ResultLists = [[10,100],[20,400]]"
      ]
     },
     "metadata": {},
     "output_type": "display_data"
    }
   ],
   "source": [
    "findall([M, S], (member(M, [10,20]), S is M*M), ResultLists)."
   ]
  },
  {
   "cell_type": "code",
   "execution_count": 53,
   "metadata": {},
   "outputs": [
    {
     "data": {
      "text/markdown": [
       "Member | Square | \n",
       ":- | :- | \n",
       "10 | 100 | \n",
       "20 | 400 | "
      ],
      "text/plain": [
       "Member | Square | \n",
       ":- | :- | \n",
       "10 | 100 | \n",
       "20 | 400 | "
      ]
     },
     "metadata": {},
     "output_type": "display_data"
    },
    {
     "data": {
      "text/latex": [
       "true"
      ],
      "text/markdown": [
       "<pre style=\"font-family: Menlo, Consolas, 'DejaVu Sans Mono', monospace; font-size: 13px; line-height: 1.3077;font-weight:bold;\">true</pre>"
      ],
      "text/plain": [
       "true"
      ]
     },
     "metadata": {},
     "output_type": "display_data"
    }
   ],
   "source": [
    "jupyter:print_table($ResultLists, ['Member', 'Square'])."
   ]
  },
  {
   "cell_type": "markdown",
   "metadata": {
    "tags": []
   },
   "source": [
    "### Printing SLD Trees <a id='sld_trees'></a> "
   ]
  },
  {
   "cell_type": "markdown",
   "metadata": {},
   "source": [
    "There is the predicate `jupyter:print_sld_tree(Goal)` with which the goal Goal is executed and kind of a SLD tree is output.<br>\n",
    "In order to be recognized as a special predicate, it needs to be the only goal of a query."
   ]
  },
  {
   "cell_type": "code",
   "execution_count": 54,
   "metadata": {},
   "outputs": [
    {
     "data": {
      "text/latex": [
       "% Asserting clauses for user:app/3\\\\\n",
       " "
      ],
      "text/markdown": [
       "<pre style=\"font-family: Menlo, Consolas, 'DejaVu Sans Mono', monospace; font-size: 13px; line-height: 1.3077;\">% Asserting clauses for user:app/3\n",
       "</pre>"
      ],
      "text/plain": [
       "% Asserting clauses for user:app/3\n"
      ]
     },
     "metadata": {},
     "output_type": "display_data"
    },
    {
     "data": {
      "text/latex": [
       "% Asserting clauses for user:app/4\\\\\n",
       " "
      ],
      "text/markdown": [
       "<pre style=\"font-family: Menlo, Consolas, 'DejaVu Sans Mono', monospace; font-size: 13px; line-height: 1.3077;\">% Asserting clauses for user:app/4\n",
       "</pre>"
      ],
      "text/plain": [
       "% Asserting clauses for user:app/4\n"
      ]
     },
     "metadata": {},
     "output_type": "display_data"
    }
   ],
   "source": [
    "app([], Res, Res) :- !.\n",
    "app([Head|Tail], List, [Head|Res]) :-\n",
    "  app(Tail, List, Res).\n",
    "\n",
    "app(L1, L2, L3, Res) :-\n",
    "  app(L2, L3, R1),\n",
    "  app(L1, R1, Res)."
   ]
  },
  {
   "cell_type": "code",
   "execution_count": 55,
   "metadata": {},
   "outputs": [
    {
     "data": {
      "image/svg+xml": [
       "<?xml version=\"1.0\" encoding=\"UTF-8\" standalone=\"no\"?>\n",
       "<!DOCTYPE svg PUBLIC \"-//W3C//DTD SVG 1.1//EN\"\n",
       " \"http://www.w3.org/Graphics/SVG/1.1/DTD/svg11.dtd\">\n",
       "<!-- Generated by graphviz version 2.43.0 (0)\n",
       " -->\n",
       "<!-- Title: %3 Pages: 1 -->\n",
       "<svg width=\"334pt\" height=\"188pt\"\n",
       " viewBox=\"0.00 0.00 334.04 188.00\" xmlns=\"http://www.w3.org/2000/svg\" xmlns:xlink=\"http://www.w3.org/1999/xlink\">\n",
       "<g id=\"graph0\" class=\"graph\" transform=\"scale(1 1) rotate(0) translate(4 184)\">\n",
       "<title>%3</title>\n",
       "<polygon fill=\"white\" stroke=\"transparent\" points=\"-4,4 -4,-184 330.04,-184 330.04,4 -4,4\"/>\n",
       "<!-- 1 -->\n",
       "<g id=\"node1\" class=\"node\">\n",
       "<title>1</title>\n",
       "<ellipse fill=\"none\" stroke=\"black\" cx=\"158.79\" cy=\"-162\" rx=\"87.99\" ry=\"18\"/>\n",
       "<text text-anchor=\"middle\" x=\"158.79\" y=\"-158.3\" font-family=\"Times,serif\" font-size=\"14.00\">app([1],[2],[3],A)</text>\n",
       "</g>\n",
       "<!-- 2 -->\n",
       "<g id=\"node2\" class=\"node\">\n",
       "<title>2</title>\n",
       "<ellipse fill=\"none\" stroke=\"black\" cx=\"72.79\" cy=\"-90\" rx=\"72.59\" ry=\"18\"/>\n",
       "<text text-anchor=\"middle\" x=\"72.79\" y=\"-86.3\" font-family=\"Times,serif\" font-size=\"14.00\">app([2],[3],B)</text>\n",
       "</g>\n",
       "<!-- 1&#45;&gt;2 -->\n",
       "<g id=\"edge1\" class=\"edge\">\n",
       "<title>1&#45;&gt;2</title>\n",
       "<path fill=\"none\" stroke=\"black\" d=\"M138.41,-144.41C127.27,-135.34 113.3,-123.97 101.12,-114.06\"/>\n",
       "<polygon fill=\"black\" stroke=\"black\" points=\"102.99,-111.07 93.03,-107.47 98.57,-116.5 102.99,-111.07\"/>\n",
       "</g>\n",
       "<!-- 4 -->\n",
       "<g id=\"node4\" class=\"node\">\n",
       "<title>4</title>\n",
       "<ellipse fill=\"none\" stroke=\"black\" cx=\"244.79\" cy=\"-90\" rx=\"81.49\" ry=\"18\"/>\n",
       "<text text-anchor=\"middle\" x=\"244.79\" y=\"-86.3\" font-family=\"Times,serif\" font-size=\"14.00\">app([1],[2,3],A)</text>\n",
       "</g>\n",
       "<!-- 1&#45;&gt;4 -->\n",
       "<g id=\"edge3\" class=\"edge\">\n",
       "<title>1&#45;&gt;4</title>\n",
       "<path fill=\"none\" stroke=\"black\" d=\"M179.17,-144.41C190.31,-135.34 204.28,-123.97 216.47,-114.06\"/>\n",
       "<polygon fill=\"black\" stroke=\"black\" points=\"219.01,-116.5 224.56,-107.47 214.59,-111.07 219.01,-116.5\"/>\n",
       "</g>\n",
       "<!-- 3 -->\n",
       "<g id=\"node3\" class=\"node\">\n",
       "<title>3</title>\n",
       "<ellipse fill=\"none\" stroke=\"black\" cx=\"72.79\" cy=\"-18\" rx=\"66.89\" ry=\"18\"/>\n",
       "<text text-anchor=\"middle\" x=\"72.79\" y=\"-14.3\" font-family=\"Times,serif\" font-size=\"14.00\">app([],[3],C)</text>\n",
       "</g>\n",
       "<!-- 2&#45;&gt;3 -->\n",
       "<g id=\"edge2\" class=\"edge\">\n",
       "<title>2&#45;&gt;3</title>\n",
       "<path fill=\"none\" stroke=\"black\" d=\"M72.79,-71.7C72.79,-63.98 72.79,-54.71 72.79,-46.11\"/>\n",
       "<polygon fill=\"black\" stroke=\"black\" points=\"76.29,-46.1 72.79,-36.1 69.29,-46.1 76.29,-46.1\"/>\n",
       "</g>\n",
       "<!-- 5 -->\n",
       "<g id=\"node5\" class=\"node\">\n",
       "<title>5</title>\n",
       "<ellipse fill=\"none\" stroke=\"black\" cx=\"244.79\" cy=\"-18\" rx=\"76.09\" ry=\"18\"/>\n",
       "<text text-anchor=\"middle\" x=\"244.79\" y=\"-14.3\" font-family=\"Times,serif\" font-size=\"14.00\">app([],[2,3],D)</text>\n",
       "</g>\n",
       "<!-- 4&#45;&gt;5 -->\n",
       "<g id=\"edge4\" class=\"edge\">\n",
       "<title>4&#45;&gt;5</title>\n",
       "<path fill=\"none\" stroke=\"black\" d=\"M244.79,-71.7C244.79,-63.98 244.79,-54.71 244.79,-46.11\"/>\n",
       "<polygon fill=\"black\" stroke=\"black\" points=\"248.29,-46.1 244.79,-36.1 241.29,-46.1 248.29,-46.1\"/>\n",
       "</g>\n",
       "</g>\n",
       "</svg>\n"
      ],
      "text/plain": [
       "digraph {\n",
       "    \"1\" [label=\"app([1],[2],[3],A)\"]\n",
       "    \"2\" [label=\"app([2],[3],B)\"]\n",
       "    \"3\" [label=\"app([],[3],C)\"]\n",
       "    \"4\" [label=\"app([1],[2,3],A)\"]\n",
       "    \"5\" [label=\"app([],[2,3],D)\"]\n",
       "    \"1\" -> \"2\"\n",
       "    \"2\" -> \"3\"\n",
       "    \"1\" -> \"4\"\n",
       "    \"4\" -> \"5\"\n",
       "}"
      ]
     },
     "metadata": {},
     "output_type": "display_data"
    },
    {
     "data": {
      "text/latex": [
       "R = [1,2,3]"
      ],
      "text/markdown": [
       "<pre style=\"font-family: Menlo, Consolas, 'DejaVu Sans Mono', monospace; font-size: 13px; line-height: 1.3077;font-weight:bold;\">R = [1,2,3]</pre>"
      ],
      "text/plain": [
       "R = [1,2,3]"
      ]
     },
     "metadata": {},
     "output_type": "display_data"
    }
   ],
   "source": [
    "jupyter:print_sld_tree(app([1], [2], [3], R))."
   ]
  },
  {
   "cell_type": "markdown",
   "metadata": {
    "tags": []
   },
   "source": [
    "### Creating Transition Graphs <a id='transition_graphs'></a> "
   ]
  },
  {
   "cell_type": "markdown",
   "metadata": {},
   "source": [
    "There is another predicate with which a graph can be created: `jupyter:print_transition_graph(PredSpec, FromIndex, ToIndex, LabelIndex)`.<br>\n",
    "It computes all solutions of the predicate with specification `PredSpec` and uses them to create the graph.<br>\n",
    "\n",
    "`PredSpec` needs to be of the form `PredName/PredArity` or `Module:PredName/PredArity`.<br>\n",
    "`FromIndex` and `ToIndex` point to predicate arguments used as nodes.<br>\n",
    "`LabelIndex` points to the argument providing a label for an edge.<br>\n",
    "If `LabelIndex`=0, no label is shown.<br>\n",
    "\n",
    "In order to be recognized as a special predicate, it needs to be the only goal of a query."
   ]
  },
  {
   "cell_type": "code",
   "execution_count": 56,
   "metadata": {},
   "outputs": [
    {
     "data": {
      "text/latex": [
       "% Asserting clauses for user:edge/3\\\\\n",
       " "
      ],
      "text/markdown": [
       "<pre style=\"font-family: Menlo, Consolas, 'DejaVu Sans Mono', monospace; font-size: 13px; line-height: 1.3077;\">% Asserting clauses for user:edge/3\n",
       "</pre>"
      ],
      "text/plain": [
       "% Asserting clauses for user:edge/3\n"
      ]
     },
     "metadata": {},
     "output_type": "display_data"
    }
   ],
   "source": [
    "edge(a, 4, b).\n",
    "edge(a, 3, c).\n",
    "edge(b, 9, c)."
   ]
  },
  {
   "cell_type": "code",
   "execution_count": 57,
   "metadata": {},
   "outputs": [
    {
     "data": {
      "image/svg+xml": [
       "<?xml version=\"1.0\" encoding=\"UTF-8\" standalone=\"no\"?>\n",
       "<!DOCTYPE svg PUBLIC \"-//W3C//DTD SVG 1.1//EN\"\n",
       " \"http://www.w3.org/Graphics/SVG/1.1/DTD/svg11.dtd\">\n",
       "<!-- Generated by graphviz version 2.43.0 (0)\n",
       " -->\n",
       "<!-- Title: %3 Pages: 1 -->\n",
       "<svg width=\"109pt\" height=\"218pt\"\n",
       " viewBox=\"0.00 0.00 109.00 218.00\" xmlns=\"http://www.w3.org/2000/svg\" xmlns:xlink=\"http://www.w3.org/1999/xlink\">\n",
       "<g id=\"graph0\" class=\"graph\" transform=\"scale(1 1) rotate(0) translate(4 214)\">\n",
       "<title>%3</title>\n",
       "<polygon fill=\"white\" stroke=\"transparent\" points=\"-4,4 -4,-214 105,-214 105,4 -4,4\"/>\n",
       "<!-- a -->\n",
       "<g id=\"node1\" class=\"node\">\n",
       "<title>a</title>\n",
       "<ellipse fill=\"none\" stroke=\"black\" cx=\"74\" cy=\"-192\" rx=\"27\" ry=\"18\"/>\n",
       "<text text-anchor=\"middle\" x=\"74\" y=\"-188.3\" font-family=\"Times,serif\" font-size=\"14.00\">a</text>\n",
       "</g>\n",
       "<!-- b -->\n",
       "<g id=\"node2\" class=\"node\">\n",
       "<title>b</title>\n",
       "<ellipse fill=\"none\" stroke=\"black\" cx=\"27\" cy=\"-105\" rx=\"27\" ry=\"18\"/>\n",
       "<text text-anchor=\"middle\" x=\"27\" y=\"-101.3\" font-family=\"Times,serif\" font-size=\"14.00\">b</text>\n",
       "</g>\n",
       "<!-- a&#45;&gt;b -->\n",
       "<g id=\"edge1\" class=\"edge\">\n",
       "<title>a&#45;&gt;b</title>\n",
       "<path fill=\"none\" stroke=\"black\" d=\"M64.94,-174.61C58.13,-162.3 48.69,-145.23 40.93,-131.19\"/>\n",
       "<polygon fill=\"black\" stroke=\"black\" points=\"43.78,-129.11 35.87,-122.05 37.65,-132.5 43.78,-129.11\"/>\n",
       "<text text-anchor=\"middle\" x=\"59\" y=\"-144.8\" font-family=\"Times,serif\" font-size=\"14.00\">4</text>\n",
       "</g>\n",
       "<!-- c -->\n",
       "<g id=\"node3\" class=\"node\">\n",
       "<title>c</title>\n",
       "<ellipse fill=\"none\" stroke=\"black\" cx=\"58\" cy=\"-18\" rx=\"27\" ry=\"18\"/>\n",
       "<text text-anchor=\"middle\" x=\"58\" y=\"-14.3\" font-family=\"Times,serif\" font-size=\"14.00\">c</text>\n",
       "</g>\n",
       "<!-- a&#45;&gt;c -->\n",
       "<g id=\"edge2\" class=\"edge\">\n",
       "<title>a&#45;&gt;c</title>\n",
       "<path fill=\"none\" stroke=\"black\" d=\"M72.41,-173.88C69.63,-144 63.87,-82.11 60.54,-46.27\"/>\n",
       "<polygon fill=\"black\" stroke=\"black\" points=\"64,-45.68 59.59,-36.05 57.03,-46.33 64,-45.68\"/>\n",
       "<text text-anchor=\"middle\" x=\"72\" y=\"-101.3\" font-family=\"Times,serif\" font-size=\"14.00\">3</text>\n",
       "</g>\n",
       "<!-- b&#45;&gt;c -->\n",
       "<g id=\"edge3\" class=\"edge\">\n",
       "<title>b&#45;&gt;c</title>\n",
       "<path fill=\"none\" stroke=\"black\" d=\"M33.12,-87.21C37.5,-75.22 43.47,-58.85 48.46,-45.16\"/>\n",
       "<polygon fill=\"black\" stroke=\"black\" points=\"51.75,-46.35 51.89,-35.76 45.17,-43.95 51.75,-46.35\"/>\n",
       "<text text-anchor=\"middle\" x=\"50\" y=\"-57.8\" font-family=\"Times,serif\" font-size=\"14.00\">9</text>\n",
       "</g>\n",
       "</g>\n",
       "</svg>\n"
      ],
      "text/plain": [
       "digraph {\n",
       "    \"a\" -> \"b\" [label=\"4\"]\n",
       "    \"a\" -> \"c\" [label=\"3\"]\n",
       "    \"b\" -> \"c\" [label=\"9\"]\n",
       "}"
      ]
     },
     "metadata": {},
     "output_type": "display_data"
    },
    {
     "data": {
      "text/latex": [
       "true"
      ],
      "text/markdown": [
       "<pre style=\"font-family: Menlo, Consolas, 'DejaVu Sans Mono', monospace; font-size: 13px; line-height: 1.3077;font-weight:bold;\">true</pre>"
      ],
      "text/plain": [
       "true"
      ]
     },
     "metadata": {},
     "output_type": "display_data"
    }
   ],
   "source": [
    "jupyter:print_transition_graph(edge/3, 1, 3, 2)."
   ]
  },
  {
   "cell_type": "code",
   "execution_count": 58,
   "metadata": {},
   "outputs": [
    {
     "data": {
      "text/latex": [
       "% Asserting clauses for user:two_way_edge/3\\\\\n",
       " "
      ],
      "text/markdown": [
       "<pre style=\"font-family: Menlo, Consolas, 'DejaVu Sans Mono', monospace; font-size: 13px; line-height: 1.3077;\">% Asserting clauses for user:two_way_edge/3\n",
       "</pre>"
      ],
      "text/plain": [
       "% Asserting clauses for user:two_way_edge/3\n"
      ]
     },
     "metadata": {},
     "output_type": "display_data"
    },
    {
     "data": {
      "image/svg+xml": [
       "<?xml version=\"1.0\" encoding=\"UTF-8\" standalone=\"no\"?>\n",
       "<!DOCTYPE svg PUBLIC \"-//W3C//DTD SVG 1.1//EN\"\n",
       " \"http://www.w3.org/Graphics/SVG/1.1/DTD/svg11.dtd\">\n",
       "<!-- Generated by graphviz version 2.43.0 (0)\n",
       " -->\n",
       "<!-- Title: %3 Pages: 1 -->\n",
       "<svg width=\"94pt\" height=\"188pt\"\n",
       " viewBox=\"0.00 0.00 94.00 188.00\" xmlns=\"http://www.w3.org/2000/svg\" xmlns:xlink=\"http://www.w3.org/1999/xlink\">\n",
       "<g id=\"graph0\" class=\"graph\" transform=\"scale(1 1) rotate(0) translate(4 184)\">\n",
       "<title>%3</title>\n",
       "<polygon fill=\"white\" stroke=\"transparent\" points=\"-4,4 -4,-184 90,-184 90,4 -4,4\"/>\n",
       "<!-- a -->\n",
       "<g id=\"node1\" class=\"node\">\n",
       "<title>a</title>\n",
       "<ellipse fill=\"none\" stroke=\"black\" cx=\"59\" cy=\"-162\" rx=\"27\" ry=\"18\"/>\n",
       "<text text-anchor=\"middle\" x=\"59\" y=\"-158.3\" font-family=\"Times,serif\" font-size=\"14.00\">a</text>\n",
       "</g>\n",
       "<!-- b -->\n",
       "<g id=\"node2\" class=\"node\">\n",
       "<title>b</title>\n",
       "<ellipse fill=\"none\" stroke=\"black\" cx=\"27\" cy=\"-90\" rx=\"27\" ry=\"18\"/>\n",
       "<text text-anchor=\"middle\" x=\"27\" y=\"-86.3\" font-family=\"Times,serif\" font-size=\"14.00\">b</text>\n",
       "</g>\n",
       "<!-- a&#45;&gt;b -->\n",
       "<g id=\"edge1\" class=\"edge\">\n",
       "<title>a&#45;&gt;b</title>\n",
       "<path fill=\"none\" stroke=\"black\" d=\"M46.38,-145.81C41.61,-137.57 36.55,-127.15 32.59,-117.62\"/>\n",
       "<polygon fill=\"black\" stroke=\"black\" points=\"35.8,-116.2 28.93,-108.13 29.27,-118.72 35.8,-116.2\"/>\n",
       "</g>\n",
       "<!-- c -->\n",
       "<g id=\"node3\" class=\"node\">\n",
       "<title>c</title>\n",
       "<ellipse fill=\"none\" stroke=\"black\" cx=\"59\" cy=\"-18\" rx=\"27\" ry=\"18\"/>\n",
       "<text text-anchor=\"middle\" x=\"59\" y=\"-14.3\" font-family=\"Times,serif\" font-size=\"14.00\">c</text>\n",
       "</g>\n",
       "<!-- a&#45;&gt;c -->\n",
       "<g id=\"edge2\" class=\"edge\">\n",
       "<title>a&#45;&gt;c</title>\n",
       "<path fill=\"none\" stroke=\"black\" d=\"M52.82,-144.31C52.49,-133.88 53.54,-120.17 54,-108 54.6,-92.01 54.6,-87.99 54,-72 53.68,-63.44 53.06,-54.12 52.84,-45.72\"/>\n",
       "<polygon fill=\"black\" stroke=\"black\" points=\"56.34,-45.68 52.82,-35.69 49.34,-45.7 56.34,-45.68\"/>\n",
       "</g>\n",
       "<!-- b&#45;&gt;a -->\n",
       "<g id=\"edge4\" class=\"edge\">\n",
       "<title>b&#45;&gt;a</title>\n",
       "<path fill=\"none\" stroke=\"black\" d=\"M39.63,-106.2C44.37,-114.4 49.4,-124.75 53.35,-134.24\"/>\n",
       "<polygon fill=\"black\" stroke=\"black\" points=\"50.13,-135.63 57.01,-143.7 56.66,-133.11 50.13,-135.63\"/>\n",
       "</g>\n",
       "<!-- b&#45;&gt;c -->\n",
       "<g id=\"edge3\" class=\"edge\">\n",
       "<title>b&#45;&gt;c</title>\n",
       "<path fill=\"none\" stroke=\"black\" d=\"M28.99,-71.7C32.05,-63.07 36.7,-52.5 41.53,-43.1\"/>\n",
       "<polygon fill=\"black\" stroke=\"black\" points=\"44.67,-44.66 46.37,-34.2 38.52,-41.32 44.67,-44.66\"/>\n",
       "</g>\n",
       "<!-- c&#45;&gt;a -->\n",
       "<g id=\"edge5\" class=\"edge\">\n",
       "<title>c&#45;&gt;a</title>\n",
       "<path fill=\"none\" stroke=\"black\" d=\"M68.25,-35.22C70.46,-45.7 71.53,-59.64 72,-72 72.6,-87.99 72.6,-92.01 72,-108 71.67,-116.69 71.04,-126.16 69.93,-134.66\"/>\n",
       "<polygon fill=\"black\" stroke=\"black\" points=\"66.44,-134.34 68.25,-144.78 73.34,-135.49 66.44,-134.34\"/>\n",
       "</g>\n",
       "<!-- c&#45;&gt;b -->\n",
       "<g id=\"edge6\" class=\"edge\">\n",
       "<title>c&#45;&gt;b</title>\n",
       "<path fill=\"none\" stroke=\"black\" d=\"M57.07,-36.13C54.02,-44.77 49.34,-55.4 44.49,-64.86\"/>\n",
       "<polygon fill=\"black\" stroke=\"black\" points=\"41.32,-63.35 39.62,-73.81 47.47,-66.7 41.32,-63.35\"/>\n",
       "</g>\n",
       "</g>\n",
       "</svg>\n"
      ],
      "text/plain": [
       "digraph {\n",
       "    \"a\" -> \"b\"\n",
       "    \"a\" -> \"c\"\n",
       "    \"b\" -> \"c\"\n",
       "    \"b\" -> \"a\"\n",
       "    \"c\" -> \"a\"\n",
       "    \"c\" -> \"b\"\n",
       "}"
      ]
     },
     "metadata": {},
     "output_type": "display_data"
    },
    {
     "data": {
      "text/latex": [
       "true"
      ],
      "text/markdown": [
       "<pre style=\"font-family: Menlo, Consolas, 'DejaVu Sans Mono', monospace; font-size: 13px; line-height: 1.3077;font-weight:bold;\">true</pre>"
      ],
      "text/plain": [
       "true"
      ]
     },
     "metadata": {},
     "output_type": "display_data"
    }
   ],
   "source": [
    "two_way_edge(N1, L, N2) :- edge(N1, L, N2).\n",
    "two_way_edge(N1, L, N2) :- edge(N2, L, N1).\n",
    "\n",
    "?- jupyter:print_transition_graph(two_way_edge/3, 1, 3, 0)."
   ]
  },
  {
   "cell_type": "markdown",
   "metadata": {},
   "source": [
    "### Changing the Prolog Implementation <a id='changing_prolog_implementation'></a> "
   ]
  },
  {
   "cell_type": "markdown",
   "metadata": {},
   "source": [
    "If implementation specific data is configured for more than one Prolog implementation (see [Kernel Configuration](#kernel_configuration)), the active Prolog implementation used for code execution can be changed with `jupyter:set_prolog_impl(+PrologImplementationID)`.<br>\n",
    "It needs to be noted that the implementation is changed after all code of the cell has been executed.<br>\n",
    "Therefore, any code following a `jupyter:set_prolog_impl/1` query in the same cell is still executed with the previous active implementation.\n",
    "\n",
    "The server for the previously used implementation is kept running so that when changing back, the state has not changed.<br>\n",
    "For example, the previous variable bindings still exist.<br>\n",
    "When the Jupyter kernel is interrupted, all running Prolog servers are killed and need to be restarted the next time code is executed.<br>\n",
    "In order to restart a single Prolog process, `jupyter:halt/0` can be used (see [Reset the Prolog State](#reset_state))."
   ]
  },
  {
   "cell_type": "code",
   "execution_count": 59,
   "metadata": {},
   "outputs": [
    {
     "data": {
      "text/latex": [
       "% Successfully halted"
      ],
      "text/markdown": [
       "<pre style=\"font-family: Menlo, Consolas, 'DejaVu Sans Mono', monospace; font-size: 13px; line-height: 1.3077;\">% Successfully halted</pre>"
      ],
      "text/plain": [
       "% Successfully halted"
      ]
     },
     "metadata": {},
     "output_type": "display_data"
    }
   ],
   "source": [
    "halt."
   ]
  },
  {
   "cell_type": "code",
   "execution_count": 60,
   "metadata": {},
   "outputs": [
    {
     "data": {
      "text/latex": [
       "% The Prolog server was restarted"
      ],
      "text/markdown": [
       "<pre style=\"font-family: Menlo, Consolas, 'DejaVu Sans Mono', monospace; font-size: 13px; line-height: 1.3077;color:red\">% The Prolog server was restarted</pre>"
      ],
      "text/plain": [
       "% The Prolog server was restarted"
      ]
     },
     "metadata": {},
     "output_type": "display_data"
    },
    {
     "data": {
      "text/latex": [
       "X = [1,2,3]"
      ],
      "text/markdown": [
       "<pre style=\"font-family: Menlo, Consolas, 'DejaVu Sans Mono', monospace; font-size: 13px; line-height: 1.3077;font-weight:bold;\">X = [1,2,3]</pre>"
      ],
      "text/plain": [
       "X = [1,2,3]"
      ]
     },
     "metadata": {},
     "output_type": "display_data"
    }
   ],
   "source": [
    "X = [1,2,3]."
   ]
  },
  {
   "cell_type": "code",
   "execution_count": null,
   "metadata": {},
   "outputs": [
    {
     "data": {
      "text/latex": [
       "false"
      ],
      "text/markdown": [
       "<pre style=\"font-family: Menlo, Consolas, 'DejaVu Sans Mono', monospace; font-size: 13px; line-height: 1.3077;color:red; font-weight:bold;\">false</pre>"
      ],
      "text/plain": [
       "false"
      ]
     },
     "metadata": {},
     "output_type": "display_data"
    }
   ],
   "source": [
    "append([1], [2], [1,2,3])."
   ]
  },
  {
   "cell_type": "code",
   "execution_count": 62,
   "metadata": {},
   "outputs": [
    {
     "data": {
      "text/latex": [
       "$X =        [1,2,3]"
      ],
      "text/markdown": [
       "<pre style=\"font-family: Menlo, Consolas, 'DejaVu Sans Mono', monospace; font-size: 13px; line-height: 1.3077;\">$X =        [1,2,3]</pre>"
      ],
      "text/plain": [
       "$X =        [1,2,3]"
      ]
     },
     "metadata": {},
     "output_type": "display_data"
    },
    {
     "data": {
      "text/latex": [
       "true"
      ],
      "text/markdown": [
       "<pre style=\"font-family: Menlo, Consolas, 'DejaVu Sans Mono', monospace; font-size: 13px; line-height: 1.3077;font-weight:bold;\">true</pre>"
      ],
      "text/plain": [
       "true"
      ]
     },
     "metadata": {},
     "output_type": "display_data"
    }
   ],
   "source": [
    "?- jupyter:print_variable_bindings."
   ]
  },
  {
   "cell_type": "markdown",
   "metadata": {},
   "source": [
    "After changing to SICStus Prolog, the success and failure output is different and there are no previous variable bindings."
   ]
  },
  {
   "cell_type": "code",
   "execution_count": 63,
   "metadata": {},
   "outputs": [
    {
     "data": {
      "text/latex": [
       "true"
      ],
      "text/markdown": [
       "<pre style=\"font-family: Menlo, Consolas, 'DejaVu Sans Mono', monospace; font-size: 13px; line-height: 1.3077;font-weight:bold;\">true</pre>"
      ],
      "text/plain": [
       "true"
      ]
     },
     "metadata": {},
     "output_type": "display_data"
    }
   ],
   "source": [
    "jupyter:set_prolog_impl(sicstus)."
   ]
  },
  {
   "cell_type": "code",
   "execution_count": null,
   "metadata": {},
   "outputs": [
    {
     "data": {
      "text/latex": [
       "no"
      ],
      "text/markdown": [
       "<pre style=\"font-family: Menlo, Consolas, 'DejaVu Sans Mono', monospace; font-size: 13px; line-height: 1.3077;color:red; font-weight:bold;\">no</pre>"
      ],
      "text/plain": [
       "no"
      ]
     },
     "metadata": {},
     "output_type": "display_data"
    }
   ],
   "source": [
    "append([1], [2], [1,2,3])."
   ]
  },
  {
   "cell_type": "code",
   "execution_count": 65,
   "metadata": {},
   "outputs": [
    {
     "data": {
      "text/latex": [
       "No previous variable bindings"
      ],
      "text/markdown": [
       "<pre style=\"font-family: Menlo, Consolas, 'DejaVu Sans Mono', monospace; font-size: 13px; line-height: 1.3077;\">No previous variable bindings</pre>"
      ],
      "text/plain": [
       "No previous variable bindings"
      ]
     },
     "metadata": {},
     "output_type": "display_data"
    },
    {
     "data": {
      "text/latex": [
       "yes"
      ],
      "text/markdown": [
       "<pre style=\"font-family: Menlo, Consolas, 'DejaVu Sans Mono', monospace; font-size: 13px; line-height: 1.3077;font-weight:bold;\">yes</pre>"
      ],
      "text/plain": [
       "yes"
      ]
     },
     "metadata": {},
     "output_type": "display_data"
    }
   ],
   "source": [
    "jupyter:print_variable_bindings."
   ]
  },
  {
   "cell_type": "markdown",
   "metadata": {},
   "source": [
    "Changing back to SWI-Prolog, the previous state has not been changed.<br>\n",
    "For example, the variable bindings still exist."
   ]
  },
  {
   "cell_type": "code",
   "execution_count": 66,
   "metadata": {},
   "outputs": [
    {
     "data": {
      "text/latex": [
       "yes"
      ],
      "text/markdown": [
       "<pre style=\"font-family: Menlo, Consolas, 'DejaVu Sans Mono', monospace; font-size: 13px; line-height: 1.3077;font-weight:bold;\">yes</pre>"
      ],
      "text/plain": [
       "yes"
      ]
     },
     "metadata": {},
     "output_type": "display_data"
    }
   ],
   "source": [
    "jupyter:set_prolog_impl(swi)."
   ]
  },
  {
   "cell_type": "code",
   "execution_count": 67,
   "metadata": {},
   "outputs": [
    {
     "data": {
      "text/latex": [
       "$X =        [1,2,3]"
      ],
      "text/markdown": [
       "<pre style=\"font-family: Menlo, Consolas, 'DejaVu Sans Mono', monospace; font-size: 13px; line-height: 1.3077;\">$X =        [1,2,3]</pre>"
      ],
      "text/plain": [
       "$X =        [1,2,3]"
      ]
     },
     "metadata": {},
     "output_type": "display_data"
    },
    {
     "data": {
      "text/latex": [
       "true"
      ],
      "text/markdown": [
       "<pre style=\"font-family: Menlo, Consolas, 'DejaVu Sans Mono', monospace; font-size: 13px; line-height: 1.3077;font-weight:bold;\">true</pre>"
      ],
      "text/plain": [
       "true"
      ]
     },
     "metadata": {},
     "output_type": "display_data"
    }
   ],
   "source": [
    "jupyter:print_variable_bindings."
   ]
  }
 ],
 "metadata": {
  "celltoolbar": "Slideshow",
  "kernelspec": {
   "display_name": "Prolog",
   "language": "prolog",
   "name": "prolog_kernel"
  },
  "language_info": {
   "codemirror_mode": "prolog",
   "file_extension": ".pl",
   "mimetype": "text/x-prolog",
   "name": "Prolog"
  },
  "toc-autonumbering": false,
  "toc-showmarkdowntxt": false
 },
 "nbformat": 4,
 "nbformat_minor": 4
}
