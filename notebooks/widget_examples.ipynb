{
 "cells": [
  {
   "cell_type": "markdown",
   "metadata": {},
   "source": [
    "# Logtalk Widget Examples\n",
    "\n",
    "This notebook demonstrates the data input widget capabilities of the Logtalk Jupyter kernel.\n",
    "\n",
    "## HTML/JavaScript Widgets\n",
    "\n",
    "The Logtalk kernel supports interactive HTML/JavaScript widgets for data input."
   ]
  },
  {
   "cell_type": "code",
   "execution_count": 1,
   "metadata": {
    "vscode": {
     "languageId": "logtalk"
    }
   },
   "outputs": [
    {
     "data": {
      "text/plain": [
       "Logtalk 3.93.0-b01\n",
       "SWI-Prolog 9.3.25\n",
       "Logtalk Jupyter kernel 0.32.0-beta"
      ]
     },
     "metadata": {},
     "output_type": "display_data"
    },
    {
     "data": {
      "text/plain": [
       "\u001b[1mtrue"
      ]
     },
     "metadata": {},
     "output_type": "display_data"
    }
   ],
   "source": [
    "%versions"
   ]
  },
  {
   "cell_type": "markdown",
   "metadata": {},
   "source": [
    "### Text Input Widget\n",
    "\n",
    "Create a simple text input widget:"
   ]
  },
  {
   "cell_type": "code",
   "execution_count": 2,
   "metadata": {
    "vscode": {
     "languageId": "logtalk"
    }
   },
   "outputs": [
    {
     "data": {
      "text/html": [
       "<div class=\"logtalk-input-group\"><label class=\"logtalk-widget-label\" for=\"name_input\">Enter your name:</label><br><input type=\"text\" id=\"name_input\" class=\"logtalk-widget-input\" value=\"John Doe\" onchange=\"fetch('http://127.0.0.1:8998', {\tmethod: 'POST',\theaders: {'Content-Type': 'application/json'},\tbody: JSON.stringify({type: 'text', id: 'name_input', value: String(this.value)})}).then(response => response.json()).then(data => console.log('Response:', data))\" style=\"margin: 5px; padding: 5px; border: 1px solid #ccc; border-radius: 3px;\"/></div>"
      ]
     },
     "metadata": {},
     "output_type": "display_data"
    },
    {
     "data": {
      "text/plain": [
       "\u001b[1mtrue"
      ]
     },
     "metadata": {},
     "output_type": "display_data"
    },
    {
     "data": {
      "text/plain": [
       "\u001b[1mtrue"
      ]
     },
     "metadata": {},
     "output_type": "display_data"
    }
   ],
   "source": [
    "jupyter::create_text_input(name_input, 'Enter your name:', 'John Doe')."
   ]
  },
  {
   "cell_type": "markdown",
   "metadata": {},
   "source": [
    "Get the value from the widget:"
   ]
  },
  {
   "cell_type": "code",
   "execution_count": 3,
   "metadata": {
    "vscode": {
     "languageId": "logtalk"
    }
   },
   "outputs": [
    {
     "data": {
      "text/markdown": [
       "Name | Type | Value | \n",
       ":- | :- | :- | \n",
       "name_input | text_input | 'John' | "
      ],
      "text/plain": [
       "Name | Type | Value | \n",
       ":- | :- | :- | \n",
       "name_input | text_input | 'John' | "
      ]
     },
     "metadata": {},
     "output_type": "display_data"
    },
    {
     "data": {
      "text/plain": [
       "\u001b[1mtrue"
      ]
     },
     "metadata": {},
     "output_type": "display_data"
    }
   ],
   "source": [
    "%%table\n",
    "jupyter_widget_handling << widget_state(Name, Type, Value)."
   ]
  },
  {
   "cell_type": "code",
   "execution_count": 4,
   "metadata": {
    "vscode": {
     "languageId": "logtalk"
    }
   },
   "outputs": [
    {
     "data": {
      "text/plain": [
       "\u001b[1mName = 'John'"
      ]
     },
     "metadata": {},
     "output_type": "display_data"
    }
   ],
   "source": [
    "jupyter_widget_handling::get_widget_value(name_input, Name)."
   ]
  },
  {
   "cell_type": "markdown",
   "metadata": {},
   "source": [
    "### Number Input Widget\n",
    "\n",
    "Create a number input with constraints:"
   ]
  },
  {
   "cell_type": "code",
   "execution_count": 5,
   "metadata": {
    "vscode": {
     "languageId": "logtalk"
    }
   },
   "outputs": [
    {
     "data": {
      "text/html": [
       "<div class=\"logtalk-input-group\"><label class=\"logtalk-widget-label\" for=\"age_input\">Enter your age:</label><br><input type=\"number\" id=\"age_input\" class=\"logtalk-widget-input\" value=\"25\" min=\"0\" max=\"120\" step=\"1\" onchange=\"fetch('http://127.0.0.1:8998', {\tmethod: 'POST',\theaders: {'Content-Type': 'application/json'},\tbody: JSON.stringify({type: 'number', id: 'age_input', value: Number.isFinite(parseFloat(this.value)) ? parseFloat(this.value) : 0})}).then(response => response.json()).then(data => console.log('Response:', data))\" style=\"margin: 5px; padding: 5px; border: 1px solid #ccc; border-radius: 3px;\"/></div>"
      ]
     },
     "metadata": {},
     "output_type": "display_data"
    },
    {
     "data": {
      "text/plain": [
       "\u001b[1mtrue"
      ]
     },
     "metadata": {},
     "output_type": "display_data"
    }
   ],
   "source": [
    "jupyter::create_number_input(age_input, 'Enter your age:', 25, [min(0), max(120), step(1)])."
   ]
  },
  {
   "cell_type": "code",
   "execution_count": 6,
   "metadata": {
    "vscode": {
     "languageId": "logtalk"
    }
   },
   "outputs": [
    {
     "data": {
      "text/plain": [
       "\u001b[1mAge = 25"
      ]
     },
     "metadata": {},
     "output_type": "display_data"
    }
   ],
   "source": [
    "jupyter::get_widget_value(age_input, Age)."
   ]
  },
  {
   "cell_type": "code",
   "execution_count": 7,
   "metadata": {
    "vscode": {
     "languageId": "logtalk"
    }
   },
   "outputs": [
    {
     "data": {
      "text/plain": [
       "=== Widget Debug Information ===\n",
       "Widget name_input: Type=text_input, Value=John\n",
       "Widget age_input: Type=number_input, Value=25\n",
       "=== End Widget Debug ==="
      ]
     },
     "metadata": {},
     "output_type": "display_data"
    },
    {
     "data": {
      "text/plain": [
       "\u001b[1mtrue"
      ]
     },
     "metadata": {},
     "output_type": "display_data"
    }
   ],
   "source": [
    "jupyter_widget_handling::widgets."
   ]
  },
  {
   "cell_type": "markdown",
   "metadata": {},
   "source": [
    "### Slider Widget\n",
    "\n",
    "Create a slider for selecting values in a range:"
   ]
  },
  {
   "cell_type": "code",
   "execution_count": 8,
   "metadata": {
    "vscode": {
     "languageId": "logtalk"
    }
   },
   "outputs": [
    {
     "data": {
      "text/html": [
       "<div class=\"logtalk-input-group\"><label class=\"logtalk-widget-label\" for=\"temperature_slider\">Temperature (°C): <span class=\"logtalk-widget-value\" id=\"temperature_slider_value\">20</span></label><br><input type=\"range\" id=\"temperature_slider\" class=\"logtalk-widget-slider\" min=\"-10\" max=\"40\" value=\"20\" oninput=\"document.getElementById('temperature_slider_value').textContent = this.value\" onchange=\"fetch('http://127.0.0.1:8998', {\tmethod: 'POST',\theaders: {'Content-Type': 'application/json'},\tbody: JSON.stringify({type: 'slider', id: 'temperature_slider', value: parseInt(this.value)})}).then(response => response.json()).then(data => console.log('Response:', data))\" style=\"margin: 5px; width: 200px;\"/></div>"
      ]
     },
     "metadata": {},
     "output_type": "display_data"
    },
    {
     "data": {
      "text/plain": [
       "\u001b[1mtrue"
      ]
     },
     "metadata": {},
     "output_type": "display_data"
    }
   ],
   "source": [
    "jupyter::create_slider(temperature_slider, 'Temperature (°C)', -10, 40, 20)."
   ]
  },
  {
   "cell_type": "code",
   "execution_count": 9,
   "metadata": {
    "vscode": {
     "languageId": "logtalk"
    }
   },
   "outputs": [
    {
     "data": {
      "text/plain": [
       "\u001b[1mTemperature = 20"
      ]
     },
     "metadata": {},
     "output_type": "display_data"
    }
   ],
   "source": [
    "jupyter::get_widget_value(temperature_slider, Temperature)."
   ]
  },
  {
   "cell_type": "markdown",
   "metadata": {},
   "source": [
    "### Dropdown Widget\n",
    "\n",
    "Create a dropdown selection:"
   ]
  },
  {
   "cell_type": "code",
   "execution_count": 10,
   "metadata": {
    "vscode": {
     "languageId": "logtalk"
    }
   },
   "outputs": [
    {
     "data": {
      "text/html": [
       "<div class=\"logtalk-input-group\"><label class=\"logtalk-widget-label\" for=\"color_select\">Choose a color:</label><br><select id=\"color_select\" class=\"logtalk-widget-select\" onchange=\"fetch('http://127.0.0.1:8998', {\tmethod: 'POST',\theaders: {'Content-Type': 'application/json'},\tbody: JSON.stringify({type: 'dropdown', id: 'color_select', value: String(this.value)})}).then(response => response.json()).then(data => console.log('Response:', data))\" style=\"margin: 5px; padding: 5px; border: 1px solid #ccc; border-radius: 3px;\"><option value=\"red\">red</option><option value=\"green\">green</option><option value=\"blue\">blue</option><option value=\"yellow\">yellow</option><option value=\"purple\">purple</option></select></div>"
      ]
     },
     "metadata": {},
     "output_type": "display_data"
    },
    {
     "data": {
      "text/plain": [
       "\u001b[1mtrue"
      ]
     },
     "metadata": {},
     "output_type": "display_data"
    },
    {
     "data": {
      "text/plain": [
       "\u001b[1mtrue"
      ]
     },
     "metadata": {},
     "output_type": "display_data"
    }
   ],
   "source": [
    "jupyter::create_dropdown(color_select, 'Choose a color:', [red, green, blue, yellow, purple])."
   ]
  },
  {
   "cell_type": "code",
   "execution_count": 11,
   "metadata": {
    "vscode": {
     "languageId": "logtalk"
    }
   },
   "outputs": [
    {
     "data": {
      "text/plain": [
       "\u001b[1mColor = yellow"
      ]
     },
     "metadata": {},
     "output_type": "display_data"
    }
   ],
   "source": [
    "jupyter::get_widget_value(color_select, Color)."
   ]
  },
  {
   "cell_type": "markdown",
   "metadata": {},
   "source": [
    "### Checkbox Widget\n",
    "\n",
    "Create a checkbox for boolean input:"
   ]
  },
  {
   "cell_type": "code",
   "execution_count": 12,
   "metadata": {
    "vscode": {
     "languageId": "logtalk"
    }
   },
   "outputs": [
    {
     "data": {
      "text/html": [
       "<div class=\"logtalk-input-group\"><input type=\"checkbox\" id=\"newsletter_checkbox\" class=\"logtalk-widget-checkbox\"  onclick=\"fetch('http://127.0.0.1:8998', {\tmethod: 'POST',\theaders: {'Content-Type': 'application/json'},\tbody: JSON.stringify({type: 'checkbox', id: 'newsletter_checkbox', value: Boolean(this.checked)})}).then(response => response.json()).then(data => console.log('Response:', data))\" style=\"margin: 5px;\"/><label class=\"logtalk-widget-label\" for=\"newsletter_checkbox\">Subscribe to newsletter</label></div>"
      ]
     },
     "metadata": {},
     "output_type": "display_data"
    },
    {
     "data": {
      "text/plain": [
       "\u001b[1mtrue"
      ]
     },
     "metadata": {},
     "output_type": "display_data"
    }
   ],
   "source": [
    "jupyter::create_checkbox(newsletter_checkbox, 'Subscribe to newsletter', false)."
   ]
  },
  {
   "cell_type": "code",
   "execution_count": 13,
   "metadata": {
    "vscode": {
     "languageId": "logtalk"
    }
   },
   "outputs": [
    {
     "data": {
      "text/plain": [
       "\u001b[1mColor = false"
      ]
     },
     "metadata": {},
     "output_type": "display_data"
    }
   ],
   "source": [
    "jupyter::get_widget_value(newsletter_checkbox, Color)."
   ]
  },
  {
   "cell_type": "markdown",
   "metadata": {},
   "source": [
    "### Button Widget\n",
    "\n",
    "Create a clickable button:"
   ]
  },
  {
   "cell_type": "code",
   "execution_count": 14,
   "metadata": {
    "vscode": {
     "languageId": "logtalk"
    }
   },
   "outputs": [
    {
     "data": {
      "text/html": [
       "<div class=\"logtalk-input-group\"><button id=\"action_button\" class=\"logtalk-widget-button\" onclick=\"fetch('http://127.0.0.1:8998', {\tmethod: 'POST',\theaders: {'Content-Type': 'application/json'},\tbody: JSON.stringify({type: 'button', id: 'action_button', value: 'clicked'})}).then(response => response.json()).then(data => console.log('Response:', data))\" style=\"margin: 5px; padding: 8px 16px; background-color: #007cba; color: white; border: none; border-radius: 3px; cursor: pointer;\">Click Me!</button></div>"
      ]
     },
     "metadata": {},
     "output_type": "display_data"
    },
    {
     "data": {
      "text/plain": [
       "\u001b[1mtrue"
      ]
     },
     "metadata": {},
     "output_type": "display_data"
    },
    {
     "data": {
      "text/plain": [
       "\u001b[1mtrue"
      ]
     },
     "metadata": {},
     "output_type": "display_data"
    }
   ],
   "source": [
    "jupyter::create_button(action_button, 'Click Me!')."
   ]
  },
  {
   "cell_type": "markdown",
   "metadata": {},
   "source": [
    "## Form-Based Input System\n",
    "\n",
    "For more complex data collection, use the form-based input system:"
   ]
  },
  {
   "cell_type": "markdown",
   "metadata": {},
   "source": [
    "### Simple Contact Form\n",
    "\n",
    "Create a form with multiple field types:"
   ]
  },
  {
   "cell_type": "code",
   "execution_count": null,
   "metadata": {
    "vscode": {
     "languageId": "logtalk"
    }
   },
   "outputs": [],
   "source": []
  },
  {
   "cell_type": "code",
   "execution_count": null,
   "metadata": {
    "vscode": {
     "languageId": "logtalk"
    }
   },
   "outputs": [],
   "source": [
    "jupyter::create_input_form(contact_form, [\n",
    "    text_field(name, 'Full Name:', ''),\n",
    "    email_field(email, 'Email Address:', ''),\n",
    "    number_field(age, 'Age:', 0),\n",
    "    select_field(country, 'Country:', [usa, canada, uk, germany, france], usa),\n",
    "    textarea_field(message, 'Message:', '', 4),\n",
    "    checkbox_field(newsletter, 'Subscribe to newsletter', false)\n",
    "], [\n",
    "    title('Contact Information'),\n",
    "    submit_label('Submit Form'),\n",
    "    cancel_label('Cancel')\n",
    "])."
   ]
  },
  {
   "cell_type": "markdown",
   "metadata": {},
   "source": [
    "Retrieve the form data after submission:"
   ]
  },
  {
   "cell_type": "code",
   "execution_count": null,
   "metadata": {
    "vscode": {
     "languageId": "logtalk"
    }
   },
   "outputs": [],
   "source": [
    "jupyter::get_form_data(contact_form, ContactData)."
   ]
  },
  {
   "cell_type": "markdown",
   "metadata": {},
   "source": [
    "## Processing Widget Data\n",
    "\n",
    "You can use widget values in Logtalk predicates:"
   ]
  },
  {
   "cell_type": "code",
   "execution_count": null,
   "metadata": {
    "vscode": {
     "languageId": "logtalk"
    }
   },
   "outputs": [],
   "source": [
    "% Define a predicate that uses widget values\n",
    "jupyter::get_widget_value(name_input, Name),\n",
    "jupyter::get_widget_value(age_input, Age),\n",
    "jupyter::get_widget_value(color_select, Color),\n",
    "format('User ~w is ~w years old and likes ~w~n', [Name, Age, Color])."
   ]
  },
  {
   "cell_type": "markdown",
   "metadata": {},
   "source": [
    "## Interactive Data Collection\n",
    "\n",
    "Create a more complex example that collects survey data:"
   ]
  },
  {
   "cell_type": "code",
   "execution_count": null,
   "metadata": {
    "vscode": {
     "languageId": "logtalk"
    }
   },
   "outputs": [],
   "source": [
    "% Create a survey form\n",
    "jupyter::create_input_form(survey_form, [\n",
    "    text_field(participant_id, 'Participant ID:', ''),\n",
    "    select_field(experience, 'Programming Experience:', [beginner, intermediate, advanced], beginner),\n",
    "    number_field(years_coding, 'Years of Coding:', 0),\n",
    "    select_field(favorite_language, 'Favorite Language:', [python, java, javascript, prolog, logtalk], python),\n",
    "    textarea_field(comments, 'Additional Comments:', '', 3)\n",
    "], [\n",
    "    title('Programming Survey'),\n",
    "    submit_label('Submit Survey')\n",
    "])."
   ]
  },
  {
   "cell_type": "code",
   "execution_count": null,
   "metadata": {
    "vscode": {
     "languageId": "logtalk"
    }
   },
   "outputs": [],
   "source": [
    "% Process survey results\n",
    "jupyter::get_form_data(survey_form, SurveyData)."
   ]
  },
  {
   "cell_type": "code",
   "execution_count": null,
   "metadata": {},
   "outputs": [],
   "source": []
  }
 ],
 "metadata": {
  "kernelspec": {
   "display_name": "Logtalk",
   "language": "logtalk",
   "name": "logtalk_kernel"
  },
  "language_info": {
   "codemirror_mode": "logtalk",
   "file_extension": ".lgt",
   "mimetype": "text/x-logtalk",
   "name": "Logtalk"
  },
  "widgets": {
   "application/vnd.jupyter.widget-state+json": {
    "state": {},
    "version_major": 2,
    "version_minor": 0
   }
  }
 },
 "nbformat": 4,
 "nbformat_minor": 4
}
