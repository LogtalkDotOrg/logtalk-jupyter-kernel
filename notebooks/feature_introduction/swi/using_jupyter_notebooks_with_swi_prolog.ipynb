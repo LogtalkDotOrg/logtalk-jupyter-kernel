{
 "cells": [
  {
   "cell_type": "markdown",
   "metadata": {
    "slideshow": {
     "slide_type": "slide"
    },
    "tags": []
   },
   "source": [
    "# Using Jupyter Notebooks with SWI-Prolog"
   ]
  },
  {
   "cell_type": "markdown",
   "metadata": {
    "jp-MarkdownHeadingCollapsed": true,
    "slideshow": {
     "slide_type": "fragment"
    },
    "tags": []
   },
   "source": [
    "This notebook gives an introduction to the usage of SWI-Prolog in a Jupyter notebook with the\n",
    "Logtalk Jupyter Kernel [*Hercutalk*](https://github.com/LogtalkDotOrg/prolog-jupyter-kernel).<br>\n",
    "\n",
    "The main requirement for the Logtalk Jupyter kernel was for the usage to replicate the REPL as closely as possible.<br>\n",
    "Therefore, any code to be executed needs to be **valid Prolog code** and the output mostly resembles the console output.<br>\n",
    "Additionally, some Jupyter specific messages are printed such as information about the Prolog server (which is responsible for code execution) being halted or restarted.<br>\n",
    "\n",
    "A code cell can contain **multiple Prolog terms**.<br>\n",
    "Each of these terms can be a clause definition, directive, or query.<br>\n",
    "Any variable bindings or other output produced by the terms is displayed in the cell's output.<br>\n",
    "\n",
    "A main difference compared to the usage in a console is that no user interaction is possible.<br>\n",
    "Therefore, [computing further solutions](#multiple_solutions) for a goal needs to be handled differently.<br>\n",
    "Additionally, [debugging](#debugging) cannot be executed as usual.<br>\n",
    "A major advantage over using a Prolog REPL is that [predicate (re-)definition](#predicate_definition) is more straightforward.<br>\n",
    "Another convenience the kernel provides is that if the last term of a cell is missing the **terminating full-stop**, the code can be executed anyway. <br>\n",
    "\n",
    "Note that if a term **does not terminate**, the server gets stuck and no result at all can be displayed.<br>\n",
    "In that case, a server restart is required by interrupting or restarting the kernel."
   ]
  },
  {
   "cell_type": "markdown",
   "metadata": {
    "tags": []
   },
   "source": [
    "## Kernel Configuration <a id='kernel_configuration'></a>"
   ]
  },
  {
   "cell_type": "markdown",
   "metadata": {},
   "source": [
    "The Prolog backend with which the Logtalk Jupyter kernel executes code can be configured (see the [configuration options of the Prolog kernel](https://github.com/LogtalkDotOrg/logtalk-jupyter-kernel#configuration)).<br>\n",
    "Without any configuration, code cells are executed with **SWI-Prolog by default**.<br>\n",
    "\n",
    "In addition to configuring the Prolog backend, it can be changed on the fly with `jupyter::set_prolog_backend(+Backend)` (see [Change the Prolog Implementation](#changing_prolog_implementation)).<br>\n",
    "In order for this to work, implementation specific data needs to be configured for more than one Prolog backend.\n",
    "\n",
    "For an example of the usage of the kernel with **SICStus Prolog**, see [using_jupyter_notebooks_with_sicstus_prolog.ipynb](../sicstus/using_jupyter_notebooks_with_sicstus_prolog.ipynb)."
   ]
  },
  {
   "cell_type": "markdown",
   "metadata": {},
   "source": [
    "## Overview"
   ]
  },
  {
   "cell_type": "markdown",
   "metadata": {},
   "source": [
    "This notebook is structured by the features the Prolog kernel provides.<br>\n",
    "For each of them, examples are provided which show some possible use cases.<br>\n",
    "Furthermore, possible peculiarities are explained.\n",
    "\n",
    "Some of the features correspond to particularities of Prolog that stem from using SLD-resolution as its execution mechanism.<br>\n",
    "Others are non-standard features that are available in almost every Prolog backend.<br>\n",
    "Additionally, there is kernel specific functionality which is provided mostly for user convenience.\n",
    "\n",
    "Prolog Particularities:\n",
    "- [Predicate (Re-)Definition](#predicate_definition)\n",
    "- [Query Execution](#query_execution)\n",
    "- [Handling Multiple Solutions](#multiple_solutions)\n",
    "\n",
    "De-Facto Standard Prolog Features:\n",
    "- [Loading Source Files and Libraries](#load)\n",
    "- [Benchmarking Capabilities](#benchmarking)\n",
    "- [Debugging](#debugging)\n",
    "\n",
    "Jupyter Convenience Features\n",
    "- [Introspection](#introspection)\n",
    "    - [Code completion](#code_completion)\n",
    "    - [Inspection](#inspection)\n",
    "    - [Accessing `juypter` documentation](#jupyter_docs)\n",
    "- [Resetting the Prolog State](#reset_state)\n",
    "- [Accessing Previous Results](#previous_results)\n",
    "- [Structured Output](#structured_output)\n",
    "- [Printing SLD Trees](#sld_trees)\n",
    "- [Creating Transition Graphs](#transition_graphs)\n",
    "- [Changing the Prolog Implementation](#changing_prolog_implementation)"
   ]
  },
  {
   "cell_type": "markdown",
   "metadata": {
    "tags": []
   },
   "source": [
    "## Prolog Particularities"
   ]
  },
  {
   "cell_type": "markdown",
   "metadata": {},
   "source": [
    "Each term in a code cell can be a **clause definition**, **directive**, or **query**.<br>\n",
    "While terms like directives and clauses with bodies can easily be distinguished from queries, it is more difficult for clauses without bodies.<br>\n",
    "\n",
    "If a cell contains a single potential query, it is interpreted as such instead of a clause definition.<br>\n",
    "Additionally, terms starting with `?-` or `:-` are evaluated as queries even if the cell contains further terms.<br>\n",
    "In all other cases, the terms are treated as clause definitions.<br>\n",
    "For example, a single fact can be defined by writing a term of the form `foo :- true.`.<br>\n",
    "\n",
    "In each case, the cell output lets the user infer how a term was interpreted.<br>"
   ]
  },
  {
   "cell_type": "markdown",
   "metadata": {
    "tags": []
   },
   "source": [
    "### Predicate (Re-)Definition <a id='predicate_definition'></a>"
   ]
  },
  {
   "cell_type": "markdown",
   "metadata": {
    "tags": []
   },
   "source": [
    "In general, all terms of a code cell interpreted as clause definitions are added as **dynamic** facts to the database. <br>\n",
    "The clauses can be module name expanded such as `Module:Head :- Body.`. <br>\n",
    "If no module name is defined, the module `user` is chosen by default.<br>\n",
    "To let the user know the exact predicate that was defined, its specification is output.<br>"
   ]
  },
  {
   "cell_type": "code",
   "execution_count": 1,
   "metadata": {},
   "outputs": [
    {
     "data": {
      "text/plain": [
       "% Asserting clauses for user:my_append/3\n"
      ]
     },
     "metadata": {},
     "output_type": "display_data"
    }
   ],
   "source": [
    "my_append([], Res, Res).\n",
    "my_append([H|T], List, [H|Res]) :-\n",
    "  my_append(T, List, Res)."
   ]
  },
  {
   "cell_type": "markdown",
   "metadata": {
    "tags": []
   },
   "source": [
    "The use of Prolog in a Jupyter application is meant for **interactive programming**.<br>\n",
    "This involves writing, testing and rewriting clauses rather than adding new clauses to the fact database.<br>\n",
    "Therefore, by default, when clauses are defined for a dynamic predicate for which there are existing ones, these are retracted first.<br>\n",
    "This implies that all clauses of a predicate need to be defined in one cell.<br>\n",
    "\n",
    "If previous clauses are retracted, the user is informed about the exact clauses.<br>\n",
    "The message can be expanded in order to see the exact clauses which were retracted.<br>"
   ]
  },
  {
   "cell_type": "code",
   "execution_count": 2,
   "metadata": {
    "slideshow": {
     "slide_type": "slide"
    }
   },
   "outputs": [
    {
     "data": {
      "text/html": [
       "\n",
       "            <style>\n",
       "            details  {\n",
       "              font-family: Menlo, Consolas, 'DejaVu Sans Mono', monospace; font-size: 13px;\n",
       "            }\n",
       "\n",
       "            details > summary {\n",
       "              cursor: pointer;\n",
       "            }\n",
       "            </style>\n",
       "            <details><summary>Previously defined clauses of user:my_append/3 were retracted (click to expand)</summary><pre>:- dynamic my_append/3.\n",
       "\n",
       "my_append([], A, A).\n",
       "my_append([A|B], C, [A|D]) :-\n",
       "    my_append(B, C, D).\n",
       "</pre></details>"
      ],
      "text/plain": [
       "Previously defined clauses of user:my_append/3 were retracted:\n",
       ":- dynamic my_append/3.\n",
       "\n",
       "my_append([], A, A).\n",
       "my_append([A|B], C, [A|D]) :-\n",
       "    my_append(B, C, D).\n"
      ]
     },
     "metadata": {
      "application/json": {}
     },
     "output_type": "display_data"
    },
    {
     "data": {
      "text/plain": [
       "% Asserting clauses for user:my_append/3\n"
      ]
     },
     "metadata": {},
     "output_type": "display_data"
    }
   ],
   "source": [
    "user:my_append([], Res, Res).\n",
    "user:my_append([Head|Tail], List, [Head|Res]) :-\n",
    "  my_append(Tail, List, Res)."
   ]
  },
  {
   "cell_type": "markdown",
   "metadata": {},
   "source": [
    "To define clauses for a predicate in separate cells instead, the corresponding predicate can be declared **discontiguous** (and dynamic).<br>\n",
    "\n",
    "When removing a predicate with `abolish`, its properties are removed as well.<br>\n",
    "Therefore, afterwards previous clauses are retracted again when new ones are defined."
   ]
  },
  {
   "cell_type": "code",
   "execution_count": 3,
   "metadata": {},
   "outputs": [],
   "source": [
    ":- discontiguous fact/1.\n",
    ":- dynamic fact/1."
   ]
  },
  {
   "cell_type": "code",
   "execution_count": 4,
   "metadata": {},
   "outputs": [
    {
     "data": {
      "text/plain": [
       "% Asserting clauses for user:fact/1\n"
      ]
     },
     "metadata": {},
     "output_type": "display_data"
    }
   ],
   "source": [
    "fact(a).\n",
    "fact(b)."
   ]
  },
  {
   "cell_type": "code",
   "execution_count": 5,
   "metadata": {},
   "outputs": [
    {
     "data": {
      "text/plain": [
       "% Asserting clauses for user:fact/1\n"
      ]
     },
     "metadata": {},
     "output_type": "display_data"
    },
    {
     "data": {
      "text/plain": [
       ":- dynamic fact/1.\n",
       "\n",
       "fact(a).\n",
       "fact(b).\n",
       "fact(c).\n",
       "fact(d).\n"
      ]
     },
     "metadata": {},
     "output_type": "display_data"
    },
    {
     "data": {
      "text/plain": [
       "\u001b[1mtrue"
      ]
     },
     "metadata": {},
     "output_type": "display_data"
    }
   ],
   "source": [
    "fact(c).\n",
    "fact(d).\n",
    "?- listing(fact/1)."
   ]
  },
  {
   "cell_type": "markdown",
   "metadata": {},
   "source": [
    "Additionally, clauses can be defined in the form of **DCG rules**."
   ]
  },
  {
   "cell_type": "code",
   "execution_count": 6,
   "metadata": {
    "tags": []
   },
   "outputs": [
    {
     "data": {
      "text/plain": [
       "% Asserting clauses for user:number/3\n"
      ]
     },
     "metadata": {},
     "output_type": "display_data"
    },
    {
     "data": {
      "text/plain": [
       "\u001b[1mN = -1"
      ]
     },
     "metadata": {},
     "output_type": "display_data"
    }
   ],
   "source": [
    "number(Number) --> \"+\", number(Number).\n",
    "number(NegativeNumber) --> \"-\", number(Number), {NegativeNumber is -Number}.\n",
    "number(Number) --> [Digit], {\"0\"=<Digit, Digit=<\"9\", Number is Digit - \"0\"}.\n",
    "\n",
    "?- atom_codes('-1', _Codes), phrase(number(N), _Codes)."
   ]
  },
  {
   "cell_type": "markdown",
   "metadata": {
    "slideshow": {
     "slide_type": "-"
    },
    "tags": []
   },
   "source": [
    "### Query Execution <a id='query_execution'></a>"
   ]
  },
  {
   "cell_type": "markdown",
   "metadata": {},
   "source": [
    "If a query succeeds and binds any variables, the **bindings** are shown in the output of the cell.<br>\n",
    "Analogously, if there are no bindings, `true` is printed and if a query fails, `false` is output.<br>"
   ]
  },
  {
   "cell_type": "code",
   "execution_count": 7,
   "metadata": {
    "slideshow": {
     "slide_type": "-"
    }
   },
   "outputs": [
    {
     "data": {
      "text/plain": [
       "\u001b[1mX = [1,2,3],\n",
       "Z = [1,2,3,4,5,6]"
      ]
     },
     "metadata": {},
     "output_type": "display_data"
    }
   ],
   "source": [
    "X = [1,2,3], append(X, [4,5,6], Z)."
   ]
  },
  {
   "cell_type": "code",
   "execution_count": null,
   "metadata": {},
   "outputs": [
    {
     "data": {
      "text/plain": [
       "\u001b[1mtrue"
      ]
     },
     "metadata": {},
     "output_type": "display_data"
    },
    {
     "data": {
      "text/plain": [
       "\u001b[1;31mfalse"
      ]
     },
     "metadata": {},
     "output_type": "display_data"
    }
   ],
   "source": [
    "?- member(2, [1, 2, 3]).\n",
    "?- member(4, [1, 2, 3])."
   ]
  },
  {
   "cell_type": "markdown",
   "metadata": {},
   "source": [
    "Just like in a Prolog REPL, no variable bindings are output for **directives**."
   ]
  },
  {
   "cell_type": "code",
   "execution_count": 9,
   "metadata": {},
   "outputs": [],
   "source": [
    ":- member(M, [1, 2, 3])."
   ]
  },
  {
   "cell_type": "markdown",
   "metadata": {},
   "source": [
    "If a query causes an **exception**, the exception message is printed in red."
   ]
  },
  {
   "cell_type": "code",
   "execution_count": null,
   "metadata": {},
   "outputs": [
    {
     "data": {
      "text/plain": [
       "\u001b[1;31mERROR: is/2: Arithmetic: `y/0' is not a function\n"
      ]
     },
     "metadata": {},
     "output_type": "display_data"
    }
   ],
   "source": [
    "7 is 1 + y."
   ]
  },
  {
   "cell_type": "markdown",
   "metadata": {},
   "source": [
    "In any case, if the execution produces **output**, it is displayed preceding the other information."
   ]
  },
  {
   "cell_type": "code",
   "execution_count": 11,
   "metadata": {
    "tags": []
   },
   "outputs": [
    {
     "data": {
      "text/plain": [
       "Using SWI Prolog!"
      ]
     },
     "metadata": {},
     "output_type": "display_data"
    },
    {
     "data": {
      "text/plain": [
       "\u001b[1mtrue"
      ]
     },
     "metadata": {},
     "output_type": "display_data"
    }
   ],
   "source": [
    "format('Using ~w Prolog!~n', ['SWI'])."
   ]
  },
  {
   "cell_type": "markdown",
   "metadata": {
    "tags": []
   },
   "source": [
    "### Handling Multiple Solutions <a id='multiple_solutions'></a>"
   ]
  },
  {
   "cell_type": "markdown",
   "metadata": {},
   "source": [
    "Usually, when a query succeeds with a choicepoint, further solutions can be requested via **backtracking**.<br>\n",
    "Since that is not possible in the same way in a Jupyter application, the predicate `jupyter::retry/0` is implemented to mimic this instead.<br>\n",
    "Whenever a query is executed, it is seen as the **active goal** as long as there might be further solutions for it.<br>\n",
    "\n",
    "If there is an active query, by calling the `retry` predicate in a following query (which is possible in the same cell), backtracking may be triggered to compute the next solution.<br>\n",
    "In order to let the user know which query is retried, a corresponding message is output.<br>"
   ]
  },
  {
   "cell_type": "code",
   "execution_count": 12,
   "metadata": {},
   "outputs": [
    {
     "data": {
      "text/plain": [
       "\u001b[1mM = 1"
      ]
     },
     "metadata": {},
     "output_type": "display_data"
    },
    {
     "data": {
      "text/plain": [
       "\u001b[1mM = a"
      ]
     },
     "metadata": {},
     "output_type": "display_data"
    }
   ],
   "source": [
    "?- member(M, [1, 2]).\n",
    "?- member(M, [a, b, c])."
   ]
  },
  {
   "cell_type": "code",
   "execution_count": 13,
   "metadata": {},
   "outputs": [
    {
     "data": {
      "text/plain": [
       "% Retrying goal: member(M,[a,b,c])\n"
      ]
     },
     "metadata": {},
     "output_type": "display_data"
    },
    {
     "data": {
      "text/plain": [
       "\u001b[1mM = b"
      ]
     },
     "metadata": {},
     "output_type": "display_data"
    }
   ],
   "source": [
    "jupyter::retry."
   ]
  },
  {
   "cell_type": "markdown",
   "metadata": {},
   "source": [
    "As a user may wish to see the **stack of queries** which can be retried, the predicate `jupyter::print_stack/0` can be called to output them.<br>\n",
    "The currently active query is printed at the top and marked by a preceding arrow.<br>"
   ]
  },
  {
   "cell_type": "code",
   "execution_count": 14,
   "metadata": {},
   "outputs": [
    {
     "data": {
      "text/plain": [
       "->  member(M,[a,b,c])\n",
       "    member(M,[1,2])\n",
       "    format(Using ~w Prolog!~n,[SWI])\n",
       "    member(2,[1,2,3])\n",
       "    X=[1,2,3],append(X,[4,5,6],Z)\n",
       "    atom_codes(-1,_Codes),phrase(number(N),_Codes)\n",
       "    listing(fact/1)"
      ]
     },
     "metadata": {},
     "output_type": "display_data"
    },
    {
     "data": {
      "text/plain": [
       "\u001b[1mtrue"
      ]
     },
     "metadata": {},
     "output_type": "display_data"
    }
   ],
   "source": [
    "jupyter::print_stack"
   ]
  },
  {
   "cell_type": "markdown",
   "metadata": {},
   "source": [
    "Additionally, there is the predicate `jupyter::cut/0` to **cut off choicepoints** of the active execution.<br>\n",
    "A previous query which might have open choicepoints is set as active, and the user is informed about the new active goal.<br>"
   ]
  },
  {
   "cell_type": "code",
   "execution_count": 15,
   "metadata": {},
   "outputs": [
    {
     "data": {
      "text/plain": [
       "% The new active goal is: member(M,[1,2])"
      ]
     },
     "metadata": {},
     "output_type": "display_data"
    },
    {
     "data": {
      "text/plain": [
       "\u001b[1mtrue"
      ]
     },
     "metadata": {},
     "output_type": "display_data"
    },
    {
     "data": {
      "text/plain": [
       "% Retrying goal: member(M,[1,2])\n"
      ]
     },
     "metadata": {},
     "output_type": "display_data"
    },
    {
     "data": {
      "text/plain": [
       "\u001b[1mM = 2"
      ]
     },
     "metadata": {},
     "output_type": "display_data"
    }
   ],
   "source": [
    "?- cut.\n",
    "?- retry."
   ]
  },
  {
   "cell_type": "markdown",
   "metadata": {},
   "source": [
    "Since backtracking is a Prolog feature which is used frequently, the `retry` and `cut` predicates can also be called without the module name expansion and cannot be redefined in the `user` module.<br>\n",
    "Note that these predicates as well as `jupyter::print_stack/0` do not work unless they are the only goal in a term.<br> "
   ]
  },
  {
   "cell_type": "markdown",
   "metadata": {
    "tags": []
   },
   "source": [
    "#### Backtracking Example"
   ]
  },
  {
   "cell_type": "markdown",
   "metadata": {},
   "source": [
    "The `retry` and `cut` mechanism can be useful when:\n",
    "- Computing the solution of a query\n",
    "- Further inspecting the solution with a different query\n",
    "- Computing the next solution and further inspecting it\n",
    "\n",
    "This is especially useful when the computation of the first solution took so long that it should not be executed again.\n",
    "\n",
    "For an explanation of `$Var` terms, see [Accessing Previous Results](#previous_results).\n"
   ]
  },
  {
   "cell_type": "code",
   "execution_count": 16,
   "metadata": {},
   "outputs": [
    {
     "data": {
      "text/plain": [
       "% Asserting clauses for user:is_odd/1\n"
      ]
     },
     "metadata": {},
     "output_type": "display_data"
    },
    {
     "data": {
      "text/plain": [
       "\u001b[1mHighlyComplexListResult = [1,2,3,4,5]"
      ]
     },
     "metadata": {},
     "output_type": "display_data"
    }
   ],
   "source": [
    "is_odd(X) :-\n",
    "  1 is X mod 2.\n",
    "  \n",
    "% Assume that the computation of HighlyComplexListResult took a long time. \n",
    "% Therefore, it should not be computed again.\n",
    "?- HighlyComplexListResult = [1, 2, 3, 4, 5]."
   ]
  },
  {
   "cell_type": "code",
   "execution_count": 17,
   "metadata": {},
   "outputs": [
    {
     "data": {
      "text/plain": [
       "\u001b[1mM = 1,\n",
       "HighlyComplexListResult = [1,2,3,4,5]"
      ]
     },
     "metadata": {},
     "output_type": "display_data"
    }
   ],
   "source": [
    "?- member(M, $HighlyComplexListResult)."
   ]
  },
  {
   "cell_type": "code",
   "execution_count": 18,
   "metadata": {},
   "outputs": [
    {
     "data": {
      "text/plain": [
       "\u001b[1mM = 1"
      ]
     },
     "metadata": {},
     "output_type": "display_data"
    }
   ],
   "source": [
    "is_odd($M)."
   ]
  },
  {
   "cell_type": "code",
   "execution_count": null,
   "metadata": {},
   "outputs": [
    {
     "data": {
      "text/plain": [
       "% The new active goal is: member(M,[1,2,3,4,5])"
      ]
     },
     "metadata": {},
     "output_type": "display_data"
    },
    {
     "data": {
      "text/plain": [
       "\u001b[1mtrue"
      ]
     },
     "metadata": {},
     "output_type": "display_data"
    },
    {
     "data": {
      "text/plain": [
       "% Retrying goal: member(M,[1,2,3,4,5])\n"
      ]
     },
     "metadata": {},
     "output_type": "display_data"
    },
    {
     "data": {
      "text/plain": [
       "\u001b[1mM = 2,\n",
       "HighlyComplexListResult = [1,2,3,4,5]"
      ]
     },
     "metadata": {},
     "output_type": "display_data"
    },
    {
     "data": {
      "text/plain": [
       "\u001b[1;31mfalse"
      ]
     },
     "metadata": {},
     "output_type": "display_data"
    }
   ],
   "source": [
    "?- cut.\n",
    "?- retry.\n",
    "?- is_odd($M)."
   ]
  },
  {
   "cell_type": "markdown",
   "metadata": {},
   "source": [
    "Note that this time no `cut` is needed because the previous query failed and therefore did not produce a choicepoint."
   ]
  },
  {
   "cell_type": "code",
   "execution_count": 20,
   "metadata": {},
   "outputs": [
    {
     "data": {
      "text/plain": [
       "% Retrying goal: member(M,[1,2,3,4,5])\n"
      ]
     },
     "metadata": {},
     "output_type": "display_data"
    },
    {
     "data": {
      "text/plain": [
       "\u001b[1mM = 3,\n",
       "HighlyComplexListResult = [1,2,3,4,5]"
      ]
     },
     "metadata": {},
     "output_type": "display_data"
    },
    {
     "data": {
      "text/plain": [
       "\u001b[1mM = 3"
      ]
     },
     "metadata": {},
     "output_type": "display_data"
    }
   ],
   "source": [
    "?- retry.\n",
    "?- is_odd($M)."
   ]
  },
  {
   "cell_type": "markdown",
   "metadata": {
    "tags": []
   },
   "source": [
    "## De-Facto Standard Prolog Features"
   ]
  },
  {
   "cell_type": "markdown",
   "metadata": {
    "tags": []
   },
   "source": [
    "### Loading Source Files and Libraries <a id='load'></a>"
   ]
  },
  {
   "cell_type": "markdown",
   "metadata": {},
   "source": [
    "Principally, source files and libraries can be loaded in the same way as in a REPL.<br>\n",
    "However, since user interaction is not possible, predicates are always re-defined instead of leaving the decision to the user.<br>"
   ]
  },
  {
   "cell_type": "markdown",
   "metadata": {},
   "source": [
    "Note that loading a library and using operators from that library does not work in a single cell.<br>\n",
    "The terms need to be read in first, which causes a syntax error when encountering the yet undefined operators."
   ]
  },
  {
   "cell_type": "code",
   "execution_count": null,
   "metadata": {},
   "outputs": [
    {
     "data": {
      "text/plain": [
       "\u001b[1;31mERROR: Syntax error: Operator expected\n",
       "ERROR: ?- X\n",
       "ERROR: ** here **\n",
       "ERROR:  #< 10, X #> 5. \n"
      ]
     },
     "metadata": {},
     "output_type": "display_data"
    }
   ],
   "source": [
    "?- use_module(library(clpfd)).\n",
    "?- X #< 10, X #> 5."
   ]
  },
  {
   "cell_type": "code",
   "execution_count": 22,
   "metadata": {},
   "outputs": [
    {
     "data": {
      "text/plain": [
       "\u001b[1mtrue"
      ]
     },
     "metadata": {},
     "output_type": "display_data"
    }
   ],
   "source": [
    "use_module(library(clpfd))."
   ]
  },
  {
   "cell_type": "code",
   "execution_count": 23,
   "metadata": {},
   "outputs": [
    {
     "data": {
      "text/plain": [
       "\u001b[1mX in 6..9"
      ]
     },
     "metadata": {},
     "output_type": "display_data"
    }
   ],
   "source": [
    "X #< 10, X #> 5."
   ]
  },
  {
   "cell_type": "markdown",
   "metadata": {
    "tags": []
   },
   "source": [
    "### Benchmarking Capabilities <a id='benchmarking'></a>"
   ]
  },
  {
   "cell_type": "code",
   "execution_count": 29,
   "metadata": {},
   "outputs": [
    {
     "data": {
      "text/plain": [
       "\u001b[1mM = 1"
      ]
     },
     "metadata": {},
     "output_type": "display_data"
    }
   ],
   "source": [
    "member(M, [1,2,3])."
   ]
  },
  {
   "cell_type": "markdown",
   "metadata": {},
   "source": [
    "Whenever a query is executed, its runtime is stored in the database.<br>\n",
    "It can be accessed by calling `jupyter::print_query_time/0`, which prints the latest previous query and its runtime in milliseconds.<br>"
   ]
  },
  {
   "cell_type": "code",
   "execution_count": 30,
   "metadata": {},
   "outputs": [
    {
     "data": {
      "text/plain": [
       "Query:   member(M,[1,2,3])\n",
       "Runtime: 0 ms"
      ]
     },
     "metadata": {},
     "output_type": "display_data"
    },
    {
     "data": {
      "text/plain": [
       "\u001b[1mtrue"
      ]
     },
     "metadata": {},
     "output_type": "display_data"
    }
   ],
   "source": [
    "jupyter::print_query_time."
   ]
  },
  {
   "cell_type": "markdown",
   "metadata": {
    "tags": []
   },
   "source": [
    "### Debugging <a id='debugging'></a>"
   ]
  },
  {
   "cell_type": "markdown",
   "metadata": {},
   "source": [
    "In a Jupyter notebook, debugging cannot be performed interactively as user input is not supported.<br>\n",
    "Thus, the predicate `jupyter::trace(Goal)` was implemented.<br>\n",
    "It switches on trace mode, calls the goal `Goal` and switches debug mode off.<br>\n",
    "To be recognized as a special goal, it needs to be the only one in a term.<br>\n",
    "\n",
    "By default, all ports are unleashed and included in the output, which means that no user interaction is requested when a breakpoint is activated.<br>"
   ]
  },
  {
   "cell_type": "code",
   "execution_count": 31,
   "metadata": {},
   "outputs": [
    {
     "data": {
      "text/plain": [
       "% Asserting clauses for user:app/3\n"
      ]
     },
     "metadata": {},
     "output_type": "display_data"
    }
   ],
   "source": [
    "app([], Res, Res).\n",
    "app([Head|Tail], List, [Head|Res]) :-\n",
    "  app(Tail, List, Res)."
   ]
  },
  {
   "cell_type": "code",
   "execution_count": 32,
   "metadata": {},
   "outputs": [
    {
     "data": {
      "text/plain": [
       "   Call: (152) app([1], [2], _68604)\n",
       "   Call: (153) app([], [2], _69724)\n",
       "   Exit: (153) app([], [2], [2])\n",
       "   Exit: (152) app([1], [2], [1, 2])"
      ]
     },
     "metadata": {},
     "output_type": "display_data"
    },
    {
     "data": {
      "text/plain": [
       "\u001b[1mR = [1,2]"
      ]
     },
     "metadata": {},
     "output_type": "display_data"
    }
   ],
   "source": [
    "jupyter::trace(app([1], [2], R))."
   ]
  },
  {
   "cell_type": "markdown",
   "metadata": {
    "tags": []
   },
   "source": [
    "## Jupyter Convenience Features"
   ]
  },
  {
   "cell_type": "markdown",
   "metadata": {
    "tags": []
   },
   "source": [
    "### Introspection <a id='introspection'></a>"
   ]
  },
  {
   "cell_type": "markdown",
   "metadata": {
    "tags": []
   },
   "source": [
    "#### Code Completion (Tab) <a id='code_completion'></a>"
   ]
  },
  {
   "cell_type": "markdown",
   "metadata": {
    "tags": []
   },
   "source": [
    "In JupyterLab as well as Jupyter Notebook, code completion for the token at the current cursor position can be requested by pressing the *Tab* key.<br>\n",
    "If there is a single possible match, the code preceding the cursor is replaced directly.<br>\n",
    "Otherwise, a list of options is shown from which the user can choose one.<br>\n",
    "\n",
    "Completion can be used for predicates which are **built-in** or **exported by a currently loaded module**.<br>\n",
    "After loading another module, the completion data needs to be updated with `jupyter::update_completion_data/0`.<br>\n",
    "Otherwise, completion does not work for predicates from that module.<br>\n",
    "\n",
    "The predicate terms with which the current token is compared and replaced are module name expanded.<br>\n",
    "Therefore, it is possible to see all predicates of a module.<br>\n",
    "This is especially useful for retrieving all special predicates defined by the module `jupyter`.<br>"
   ]
  },
  {
   "cell_type": "code",
   "execution_count": 33,
   "metadata": {},
   "outputs": [
    {
     "data": {
      "text/plain": [
       "\u001b[1mtrue"
      ]
     },
     "metadata": {},
     "output_type": "display_data"
    }
   ],
   "source": [
    "jupyter::update_completion_data."
   ]
  },
  {
   "cell_type": "markdown",
   "metadata": {
    "tags": []
   },
   "source": [
    "#### Inspection (Shift+Tab) <a id='inspection'></a>"
   ]
  },
  {
   "cell_type": "markdown",
   "metadata": {
    "jp-MarkdownHeadingCollapsed": true,
    "tags": []
   },
   "source": [
    "By pressing *Shift+Tab*, inspection for the token preceding the current cursor position is requested.<br>\n",
    "For SWI-Prolog, the **documentation** is retrieved with `help/1` and shown right away.<br>\n",
    "Additionally, documentation for predicates from module `jupyter` is provided by the module itself and is displayed at the bottom of the text.\n",
    "\n",
    "Note that in contrast to completion, in this case, the module name expansion is removed before fetching the documentation.\n"
   ]
  },
  {
   "cell_type": "markdown",
   "metadata": {
    "tags": []
   },
   "source": [
    "#### Accessing `jupyter` documentation <a id='jupyter_docs'></a>"
   ]
  },
  {
   "cell_type": "markdown",
   "metadata": {
    "tags": []
   },
   "source": [
    "Most of the features below are provided by the module `jupyter`.<br>\n",
    "In addition to inspection, the documentation of all predicates defined in this module can be accessed with `jupyter::help/0`.<br>"
   ]
  },
  {
   "cell_type": "code",
   "execution_count": 34,
   "metadata": {},
   "outputs": [
    {
     "data": {
      "text/plain": [
       "jupyter::cut or cut\n",
       "\n",
       "    Cuts off the choicepoints of the latest active query.\n",
       "\n",
       "    In general, the previous query is the active one.\n",
       "    However, the previous active query can be activated again.\n",
       "    This can be done by cutting off choicepoints with jupyter::cut/0.\n",
       "    This is also the case if a retry/0 encounters no further solutions.\n",
       "\n",
       "    A further retry/0 call causes backtracking of the previous active goal.\n",
       "\n",
       "    Needs to be the only goal of a query.\n",
       "\n",
       "--------------------------------------------------------------------------------\n",
       "\n",
       "jupyter::halt or halt\n",
       "\n",
       "    Shuts down the running Prolog process.\n",
       "\n",
       "    The next time code is to be executed, a new process is started.\n",
       "    Everything defined in the database before does not exist anymore.\n",
       "\n",
       "    Corresponds to the functionality of halt/0.\n",
       "    Has the same effect as interrupting or restarting the Jupyter kernel.\n",
       "\n",
       "--------------------------------------------------------------------------------\n",
       "\n",
       "jupyter::help\n",
       "\n",
       "    Outputs the documentation for all predicates from module jupyter.\n",
       "\n",
       "--------------------------------------------------------------------------------\n",
       "\n",
       "jupyter::print_query_time\n",
       "\n",
       "    Prints the latest previous query and its runtime in milliseconds.\n",
       "\n",
       "--------------------------------------------------------------------------------\n",
       "\n",
       "jupyter::print_queries(+Ids)\n",
       "\n",
       "    Prints previous queries which were executed in requests with IDs in Ids.\n",
       "\n",
       "    Any $Var terms might be replaced by the variable's name.\n",
       "    This is the case if a previous query with ID in Ids contains Var.\n",
       "    Otherwise, $Var is not replaced.\n",
       "\n",
       "--------------------------------------------------------------------------------\n",
       "\n",
       "jupyter::print_sld_tree(+Goal)\n",
       "\n",
       "    Executes the goal Goal and prints a graph resembling its SLD tree.\n",
       "\n",
       "    Needs to be the only goal of a query.\n",
       "\n",
       "--------------------------------------------------------------------------------\n",
       "\n",
       "jupyter::print_stack\n",
       "\n",
       "    Prints the current stack used for jupyter::retry/0 and jupyter::cut/0.\n",
       "    The active goal is marked by a preceding '->'.\n",
       "\n",
       "    Needs to be the only goal of a query.\n",
       "\n",
       "--------------------------------------------------------------------------------\n",
       "\n",
       "jupyter::print_table(+Goal)\n",
       "\n",
       "    Computes all results of the goal Goal with findall/3.\n",
       "    These are printed in a table.\n",
       "\n",
       "    Needs to be the only goal of a query.\n",
       "\n",
       "    Example: jupyter::print_table(prolog_flag(FlagName, Value)).\n",
       "\n",
       "--------------------------------------------------------------------------------\n",
       "\n",
       "jupyter::print_table(+ValuesLists, +VariableNames)\n",
       "\n",
       "    Prints a table of the values in ValuesLists.\n",
       "\n",
       "    ValuesLists is a list of lists of the same length.\n",
       "    Each list corresponds to one line of the table.\n",
       "\n",
       "    VariableNames is used to fill the header of the table.\n",
       "    If VariableNames=[], capital letters are used.\n",
       "    Otherwise, VariableNames needs to be a list of ground terms.\n",
       "    It needs to be of the same length as the values lists.\n",
       "\n",
       "    Needs to be the only goal of a query.\n",
       "\n",
       "    Can be used with a predicate like findall/3, but not directly.\n",
       "    Instead, a previous binding can be accessed with a $Var term.\n",
       "\n",
       "    Examples:\n",
       "        jupyter::print_table([[10,100],[20,400],[30,900]], ['X', 'Y']).\n",
       "        jupyter::print_table($ResultLists, []).\n",
       "\n",
       "--------------------------------------------------------------------------------\n",
       "\n",
       "jupyter::print_transition_graph(+PredSpec, +FromIndex, +ToIndex, +LabelIndex)\n",
       "\n",
       "    Finds all solutions of the predicate with specification PredSpec.\n",
       "    Prints a graph interpreting the solutions as transitions.\n",
       "\n",
       "    PredSpec needs to be of the form PredName/PredArity.\n",
       "    Optionally, it can be module name expanded.\n",
       "\n",
       "    FromIndex and ToIndex point to predicate arguments used as nodes.\n",
       "    LabelIndex points to the argument providing a label for an edge.\n",
       "    If LabelIndex=0, no label is shown.\n",
       "\n",
       "    Needs to be the only goal of a query.\n",
       "\n",
       "--------------------------------------------------------------------------------\n",
       "\n",
       "jupyter::print_variable_bindings\n",
       "\n",
       "    Prints variable bindings from previous queries.\n",
       "    For each variable, the latest value it was bound to is shown.\n",
       "\n",
       "    The variable value can be accessed with a $Var term by any query.\n",
       "    In that case, the term is replaced by the value.\n",
       "    If there is no previous value, an error message is printed.\n",
       "\n",
       "--------------------------------------------------------------------------------\n",
       "\n",
       "jupyter::retry or retry\n",
       "\n",
       "    Causes backtracking of the latest active query.\n",
       "\n",
       "    In general, the previous query is the active one.\n",
       "    However, the previous active query can be activated again.\n",
       "    This can be done by cutting off choicepoints with jupyter::cut/0.\n",
       "    This is also the case if a retry/0 encounters no further solutions.\n",
       "\n",
       "    Needs to be the only goal of a query.\n",
       "\n",
       "--------------------------------------------------------------------------------\n",
       "\n",
       "jupyter::set_prolog_backend(+Backend)\n",
       "\n",
       "    Activates the given Prolog backend.\n",
       "\n",
       "    Code in the same cell is executed with the previous implementation.\n",
       "\n",
       "    Needs to be the only goal of a query.\n",
       "\n",
       "--------------------------------------------------------------------------------\n",
       "\n",
       "jupyter::trace(+Goal)\n",
       "\n",
       "    Prints the trace of the goal Goal.\n",
       "\n",
       "    By default, no port is leashed so that no user interaction is requested.\n",
       "    All previously set breakpoints are still active.\n",
       "\n",
       "    Needs to be the only goal of a query in order to work as expected.\n",
       "\n",
       "--------------------------------------------------------------------------------\n",
       "\n",
       "jupyter::update_completion_data\n",
       "\n",
       "    Updates the predicate data used for code completion using Tab.\n",
       "\n",
       "    This is done by retrieving all built-in and exported predicates.\n",
       "    Needed to use completion for predicates from a newly loaded module.\n",
       "\n",
       "    Needs to be the only goal of a query."
      ]
     },
     "metadata": {},
     "output_type": "display_data"
    },
    {
     "data": {
      "text/plain": [
       "\u001b[1mtrue"
      ]
     },
     "metadata": {},
     "output_type": "display_data"
    }
   ],
   "source": [
    "jupyter::help"
   ]
  },
  {
   "cell_type": "markdown",
   "metadata": {
    "tags": []
   },
   "source": [
    "### Resetting the Prolog State <a id='reset_state'></a>"
   ]
  },
  {
   "cell_type": "code",
   "execution_count": 35,
   "metadata": {},
   "outputs": [
    {
     "data": {
      "text/plain": [
       "% Successfully halted"
      ]
     },
     "metadata": {},
     "output_type": "display_data"
    }
   ],
   "source": [
    "halt."
   ]
  },
  {
   "cell_type": "markdown",
   "metadata": {},
   "source": [
    "After the server restart, the previously defined predicate does not exist anymore."
   ]
  },
  {
   "cell_type": "code",
   "execution_count": null,
   "metadata": {},
   "outputs": [
    {
     "data": {
      "text/plain": [
       "\u001b[1;31m% The Prolog server was restarted"
      ]
     },
     "metadata": {},
     "output_type": "display_data"
    },
    {
     "data": {
      "text/plain": [
       "\u001b[1;31mERROR: call/1: Unknown procedure: my_append/3\n"
      ]
     },
     "metadata": {},
     "output_type": "display_data"
    }
   ],
   "source": [
    "my_append([1,2], [3,4], R)."
   ]
  },
  {
   "cell_type": "markdown",
   "metadata": {
    "tags": []
   },
   "source": [
    "### Accessing Previous Results <a id='previous_results'></a>"
   ]
  },
  {
   "cell_type": "markdown",
   "metadata": {},
   "source": [
    "SWI-Prolog provides functionality of reusing top-level bindings.<br>\n",
    "Roughly, when a top-level goal succeeds, its bindings are asserted in a database.<br>\n",
    "By using `$Var` in a top-level query, the **latest binding** for the variable `Var` can be accessed.<br>"
   ]
  },
  {
   "cell_type": "code",
   "execution_count": 37,
   "metadata": {},
   "outputs": [
    {
     "data": {
      "text/plain": [
       "\u001b[1mX = 1"
      ]
     },
     "metadata": {},
     "output_type": "display_data"
    }
   ],
   "source": [
    "X = 1."
   ]
  },
  {
   "cell_type": "code",
   "execution_count": 38,
   "metadata": {},
   "outputs": [
    {
     "data": {
      "text/plain": [
       "\u001b[1mY = 3,\n",
       "X = 1"
      ]
     },
     "metadata": {},
     "output_type": "display_data"
    }
   ],
   "source": [
    "Y is $X + 2."
   ]
  },
  {
   "cell_type": "markdown",
   "metadata": {},
   "source": [
    "Additionally, there is the predicate `jupyter::print_variable_bindings/0` that outputs all stored variable bindings.<br>"
   ]
  },
  {
   "cell_type": "code",
   "execution_count": 39,
   "metadata": {
    "tags": []
   },
   "outputs": [
    {
     "data": {
      "text/plain": [
       "$X =        1\n",
       "$Y =        3"
      ]
     },
     "metadata": {},
     "output_type": "display_data"
    },
    {
     "data": {
      "text/plain": [
       "\u001b[1mtrue"
      ]
     },
     "metadata": {},
     "output_type": "display_data"
    }
   ],
   "source": [
    "jupyter::print_variable_bindings."
   ]
  },
  {
   "cell_type": "markdown",
   "metadata": {
    "tags": []
   },
   "source": [
    "#### Collecting Previous Queries"
   ]
  },
  {
   "cell_type": "markdown",
   "metadata": {},
   "source": [
    "Further, all executed queries are stored internally.<br>\n",
    "When writing a new predicate, a user might **test its subgoals gradually** in separate cells, potentially using `$Var` terms to access previous results.<br>\n",
    "Once all the parts are written, the predicate `jupyter::print_queries(Ids)` can be called to access the previous queries from cells with IDs in the list `Ids`.<br>\n",
    "They are printed in a way that they can easily be copied to a cell and executed right away or expanded with a head to define a predicate.<br>\n",
    "If a query contains a `$Var` term and one of the previously printed queries contains the variable `Var`, the term is replaced by the variable name.<br>"
   ]
  },
  {
   "cell_type": "code",
   "execution_count": 40,
   "metadata": {},
   "outputs": [
    {
     "data": {
      "text/plain": [
       "\u001b[1mMember = 10"
      ]
     },
     "metadata": {},
     "output_type": "display_data"
    }
   ],
   "source": [
    "member(Member, [10, 20, 30])."
   ]
  },
  {
   "cell_type": "code",
   "execution_count": 41,
   "metadata": {},
   "outputs": [
    {
     "data": {
      "text/plain": [
       "\u001b[1mSquare = 100,\n",
       "Member = 10"
      ]
     },
     "metadata": {},
     "output_type": "display_data"
    }
   ],
   "source": [
    "Square is $Member * $Member."
   ]
  },
  {
   "cell_type": "code",
   "execution_count": 42,
   "metadata": {},
   "outputs": [
    {
     "data": {
      "text/plain": [
       "member(Member,[10,20,30]),\n",
       "Square is Member*Member."
      ]
     },
     "metadata": {},
     "output_type": "display_data"
    },
    {
     "data": {
      "text/plain": [
       "\u001b[1mtrue"
      ]
     },
     "metadata": {},
     "output_type": "display_data"
    }
   ],
   "source": [
    "jupyter::print_queries([40, 41])."
   ]
  },
  {
   "cell_type": "markdown",
   "metadata": {
    "tags": []
   },
   "source": [
    "### Structured Output <a id='structured_output'></a>"
   ]
  },
  {
   "cell_type": "markdown",
   "metadata": {},
   "source": [
    "There are two special predicates to output **tables**."
   ]
  },
  {
   "cell_type": "markdown",
   "metadata": {
    "tags": []
   },
   "source": [
    "#### `jupyter::print_table/1`"
   ]
  },
  {
   "cell_type": "markdown",
   "metadata": {},
   "source": [
    "The predicate `jupyter::print_table(Goal)` can be used to compute all results of the goal `Goal` with **`findall/3`** and display them in a table.<br>\n",
    "The table contains a column for each variable occurring in it and a line for each result.<br>"
   ]
  },
  {
   "cell_type": "code",
   "execution_count": 43,
   "metadata": {},
   "outputs": [
    {
     "data": {
      "text/markdown": [
       "Member | Square | \n",
       ":- | :- | \n",
       "10 | 100 | \n",
       "20 | 400 | \n",
       "30 | 900 | "
      ],
      "text/plain": [
       "Member | Square | \n",
       ":- | :- | \n",
       "10 | 100 | \n",
       "20 | 400 | \n",
       "30 | 900 | "
      ]
     },
     "metadata": {},
     "output_type": "display_data"
    },
    {
     "data": {
      "text/plain": [
       "\u001b[1mtrue"
      ]
     },
     "metadata": {},
     "output_type": "display_data"
    }
   ],
   "source": [
    "jupyter::print_table((member(Member, [10,20,30]), Square is Member*Member))."
   ]
  },
  {
   "cell_type": "markdown",
   "metadata": {
    "tags": []
   },
   "source": [
    "#### `jupyter::print_table/2`"
   ]
  },
  {
   "cell_type": "markdown",
   "metadata": {},
   "source": [
    "In order to fill a table with other data than results of `findall/3`, there is the predicate `jupyter::print_table(ValuesLists, VariableNames)`.<br>\n",
    "`ValuesLists` is expected to be a list of lists where each of this lists corresponds to one line of the table.<br>\n",
    "Therefore, all the lists need to be of the same length.<br>\n",
    "Furthermore, `VariableNames` is used to provide the column headers and needs to be a list of ground terms of the same length as well unless it equals `[]`.<br>\n",
    "In the latter case, the headers contain capital letters starting from `A`.<br>"
   ]
  },
  {
   "cell_type": "code",
   "execution_count": 44,
   "metadata": {},
   "outputs": [
    {
     "data": {
      "text/markdown": [
       "A | B | \n",
       ":- | :- | \n",
       "10 | 100 | \n",
       "20 | 400 | \n",
       "30 | 900 | "
      ],
      "text/plain": [
       "A | B | \n",
       ":- | :- | \n",
       "10 | 100 | \n",
       "20 | 400 | \n",
       "30 | 900 | "
      ]
     },
     "metadata": {},
     "output_type": "display_data"
    },
    {
     "data": {
      "text/plain": [
       "\u001b[1mtrue"
      ]
     },
     "metadata": {},
     "output_type": "display_data"
    }
   ],
   "source": [
    "jupyter::print_table([[10,100],[20,400],[30,900]], [])."
   ]
  },
  {
   "cell_type": "markdown",
   "metadata": {},
   "source": [
    "Note that both predicates have to be handled specially and cannot be recognized correctly unless they are the only goal in a query.<br>\n",
    "Therefore, the value for `ValuesLists` cannot be computed in the same query.<br>\n",
    "Instead, the mechanism of accessing bindings from previous queries can be used.<br>"
   ]
  },
  {
   "cell_type": "code",
   "execution_count": 45,
   "metadata": {},
   "outputs": [
    {
     "data": {
      "text/plain": [
       "\u001b[1mResultLists = [[10,100],[20,400]]"
      ]
     },
     "metadata": {},
     "output_type": "display_data"
    }
   ],
   "source": [
    "findall([M, S], (member(M, [10,20]), S is M*M), ResultLists)."
   ]
  },
  {
   "cell_type": "code",
   "execution_count": 46,
   "metadata": {},
   "outputs": [
    {
     "data": {
      "text/markdown": [
       "Member | Square | \n",
       ":- | :- | \n",
       "10 | 100 | \n",
       "20 | 400 | "
      ],
      "text/plain": [
       "Member | Square | \n",
       ":- | :- | \n",
       "10 | 100 | \n",
       "20 | 400 | "
      ]
     },
     "metadata": {},
     "output_type": "display_data"
    },
    {
     "data": {
      "text/plain": [
       "\u001b[1mtrue"
      ]
     },
     "metadata": {},
     "output_type": "display_data"
    }
   ],
   "source": [
    "jupyter::print_table($ResultLists, ['Member', 'Square'])."
   ]
  },
  {
   "cell_type": "markdown",
   "metadata": {
    "tags": []
   },
   "source": [
    "### Printing SLD Trees <a id='sld_trees'></a> "
   ]
  },
  {
   "cell_type": "markdown",
   "metadata": {},
   "source": [
    "With `jupyter::print_sld_tree(Goal)`, a graph resembling an SLD tree can be output.<br>\n",
    "In order to be recognized as a special predicate, it needs to be the only goal of a query.<br>\n",
    "Note that so far, nodes are only output for invocations at **`call`** ports.<br>\n",
    "Therefore, successful branches cannot be distinguished from failing ones yet.<br>\n",
    "However, visualizing the called goals in a tree can still facilitate debugging.<br>"
   ]
  },
  {
   "cell_type": "code",
   "execution_count": 47,
   "metadata": {},
   "outputs": [
    {
     "data": {
      "text/plain": [
       "% Asserting clauses for user:app/3\n"
      ]
     },
     "metadata": {},
     "output_type": "display_data"
    },
    {
     "data": {
      "text/plain": [
       "% Asserting clauses for user:app/4\n"
      ]
     },
     "metadata": {},
     "output_type": "display_data"
    }
   ],
   "source": [
    "app([], Res, Res).\n",
    "app([Head|Tail], List, [Head|Res]) :-\n",
    "  app(Tail, List, Res).\n",
    "\n",
    "app(L1, L2, L3, Res) :-\n",
    "  app(L2, L3, R1),\n",
    "  app(L1, R1, Res)."
   ]
  },
  {
   "cell_type": "code",
   "execution_count": 48,
   "metadata": {},
   "outputs": [
    {
     "data": {
      "image/svg+xml": [
       "<?xml version=\"1.0\" encoding=\"UTF-8\" standalone=\"no\"?>\n",
       "<!DOCTYPE svg PUBLIC \"-//W3C//DTD SVG 1.1//EN\"\n",
       " \"http://www.w3.org/Graphics/SVG/1.1/DTD/svg11.dtd\">\n",
       "<!-- Generated by graphviz version 2.43.0 (0)\n",
       " -->\n",
       "<!-- Title: %3 Pages: 1 -->\n",
       "<svg width=\"334pt\" height=\"188pt\"\n",
       " viewBox=\"0.00 0.00 334.04 188.00\" xmlns=\"http://www.w3.org/2000/svg\" xmlns:xlink=\"http://www.w3.org/1999/xlink\">\n",
       "<g id=\"graph0\" class=\"graph\" transform=\"scale(1 1) rotate(0) translate(4 184)\">\n",
       "<title>%3</title>\n",
       "<polygon fill=\"white\" stroke=\"transparent\" points=\"-4,4 -4,-184 330.04,-184 330.04,4 -4,4\"/>\n",
       "<!-- 1 -->\n",
       "<g id=\"node1\" class=\"node\">\n",
       "<title>1</title>\n",
       "<ellipse fill=\"none\" stroke=\"black\" cx=\"158.79\" cy=\"-162\" rx=\"87.99\" ry=\"18\"/>\n",
       "<text text-anchor=\"middle\" x=\"158.79\" y=\"-158.3\" font-family=\"Times,serif\" font-size=\"14.00\">app([1],[2],[3],A)</text>\n",
       "</g>\n",
       "<!-- 2 -->\n",
       "<g id=\"node2\" class=\"node\">\n",
       "<title>2</title>\n",
       "<ellipse fill=\"none\" stroke=\"black\" cx=\"72.79\" cy=\"-90\" rx=\"72.59\" ry=\"18\"/>\n",
       "<text text-anchor=\"middle\" x=\"72.79\" y=\"-86.3\" font-family=\"Times,serif\" font-size=\"14.00\">app([2],[3],B)</text>\n",
       "</g>\n",
       "<!-- 1&#45;&gt;2 -->\n",
       "<g id=\"edge1\" class=\"edge\">\n",
       "<title>1&#45;&gt;2</title>\n",
       "<path fill=\"none\" stroke=\"black\" d=\"M138.41,-144.41C127.27,-135.34 113.3,-123.97 101.12,-114.06\"/>\n",
       "<polygon fill=\"black\" stroke=\"black\" points=\"102.99,-111.07 93.03,-107.47 98.57,-116.5 102.99,-111.07\"/>\n",
       "</g>\n",
       "<!-- 4 -->\n",
       "<g id=\"node4\" class=\"node\">\n",
       "<title>4</title>\n",
       "<ellipse fill=\"none\" stroke=\"black\" cx=\"244.79\" cy=\"-90\" rx=\"81.49\" ry=\"18\"/>\n",
       "<text text-anchor=\"middle\" x=\"244.79\" y=\"-86.3\" font-family=\"Times,serif\" font-size=\"14.00\">app([1],[2,3],A)</text>\n",
       "</g>\n",
       "<!-- 1&#45;&gt;4 -->\n",
       "<g id=\"edge3\" class=\"edge\">\n",
       "<title>1&#45;&gt;4</title>\n",
       "<path fill=\"none\" stroke=\"black\" d=\"M179.17,-144.41C190.31,-135.34 204.28,-123.97 216.47,-114.06\"/>\n",
       "<polygon fill=\"black\" stroke=\"black\" points=\"219.01,-116.5 224.56,-107.47 214.59,-111.07 219.01,-116.5\"/>\n",
       "</g>\n",
       "<!-- 3 -->\n",
       "<g id=\"node3\" class=\"node\">\n",
       "<title>3</title>\n",
       "<ellipse fill=\"none\" stroke=\"black\" cx=\"72.79\" cy=\"-18\" rx=\"66.89\" ry=\"18\"/>\n",
       "<text text-anchor=\"middle\" x=\"72.79\" y=\"-14.3\" font-family=\"Times,serif\" font-size=\"14.00\">app([],[3],C)</text>\n",
       "</g>\n",
       "<!-- 2&#45;&gt;3 -->\n",
       "<g id=\"edge2\" class=\"edge\">\n",
       "<title>2&#45;&gt;3</title>\n",
       "<path fill=\"none\" stroke=\"black\" d=\"M72.79,-71.7C72.79,-63.98 72.79,-54.71 72.79,-46.11\"/>\n",
       "<polygon fill=\"black\" stroke=\"black\" points=\"76.29,-46.1 72.79,-36.1 69.29,-46.1 76.29,-46.1\"/>\n",
       "</g>\n",
       "<!-- 5 -->\n",
       "<g id=\"node5\" class=\"node\">\n",
       "<title>5</title>\n",
       "<ellipse fill=\"none\" stroke=\"black\" cx=\"244.79\" cy=\"-18\" rx=\"76.09\" ry=\"18\"/>\n",
       "<text text-anchor=\"middle\" x=\"244.79\" y=\"-14.3\" font-family=\"Times,serif\" font-size=\"14.00\">app([],[2,3],D)</text>\n",
       "</g>\n",
       "<!-- 4&#45;&gt;5 -->\n",
       "<g id=\"edge4\" class=\"edge\">\n",
       "<title>4&#45;&gt;5</title>\n",
       "<path fill=\"none\" stroke=\"black\" d=\"M244.79,-71.7C244.79,-63.98 244.79,-54.71 244.79,-46.11\"/>\n",
       "<polygon fill=\"black\" stroke=\"black\" points=\"248.29,-46.1 244.79,-36.1 241.29,-46.1 248.29,-46.1\"/>\n",
       "</g>\n",
       "</g>\n",
       "</svg>\n"
      ],
      "text/plain": [
       "digraph {\n",
       "    \"1\" [label=\"app([1],[2],[3],A)\"]\n",
       "    \"2\" [label=\"app([2],[3],B)\"]\n",
       "    \"3\" [label=\"app([],[3],C)\"]\n",
       "    \"4\" [label=\"app([1],[2,3],A)\"]\n",
       "    \"5\" [label=\"app([],[2,3],D)\"]\n",
       "    \"1\" -> \"2\"\n",
       "    \"2\" -> \"3\"\n",
       "    \"1\" -> \"4\"\n",
       "    \"4\" -> \"5\"\n",
       "}"
      ]
     },
     "metadata": {},
     "output_type": "display_data"
    },
    {
     "data": {
      "text/plain": [
       "\u001b[1mR = [1,2,3]"
      ]
     },
     "metadata": {},
     "output_type": "display_data"
    }
   ],
   "source": [
    "jupyter::print_sld_tree(app([1], [2], [3], R))."
   ]
  },
  {
   "cell_type": "markdown",
   "metadata": {
    "tags": []
   },
   "source": [
    "### Creating Transition Graphs <a id='transition_graphs'></a> "
   ]
  },
  {
   "cell_type": "markdown",
   "metadata": {},
   "source": [
    "With `jupyter::print_transition_graph(PredSpec, FromIndex, ToIndex, LabelIndex)`, a different graph can be created.\n",
    "Again, it needs to be the only goal of a query so that it can be treated specially.\n",
    "In that case, a graph representing the possible transitions between clauses of the predicate with specification `PredSpec` is created by computing all solutions.\n",
    "\n",
    "`PredSpec` needs to be of the form `PredName/PredArity` or `Module:PredName/PredArity`.<br>\n",
    "The index arguments `FromIndex` and `ToIndex` point to predicate arguments used as nodes.<br>\n",
    "`LabelIndex` points to the argument providing a label for an edge.<br>\n",
    "If `LabelIndex=0`, no label is shown.<br>"
   ]
  },
  {
   "cell_type": "code",
   "execution_count": 49,
   "metadata": {},
   "outputs": [
    {
     "data": {
      "text/plain": [
       "% Asserting clauses for user:edge/3\n"
      ]
     },
     "metadata": {},
     "output_type": "display_data"
    }
   ],
   "source": [
    "edge(a, 4, b).\n",
    "edge(a, 3, c).\n",
    "edge(b, 9, c)."
   ]
  },
  {
   "cell_type": "code",
   "execution_count": 50,
   "metadata": {},
   "outputs": [
    {
     "data": {
      "image/svg+xml": [
       "<?xml version=\"1.0\" encoding=\"UTF-8\" standalone=\"no\"?>\n",
       "<!DOCTYPE svg PUBLIC \"-//W3C//DTD SVG 1.1//EN\"\n",
       " \"http://www.w3.org/Graphics/SVG/1.1/DTD/svg11.dtd\">\n",
       "<!-- Generated by graphviz version 2.43.0 (0)\n",
       " -->\n",
       "<!-- Title: %3 Pages: 1 -->\n",
       "<svg width=\"109pt\" height=\"218pt\"\n",
       " viewBox=\"0.00 0.00 109.00 218.00\" xmlns=\"http://www.w3.org/2000/svg\" xmlns:xlink=\"http://www.w3.org/1999/xlink\">\n",
       "<g id=\"graph0\" class=\"graph\" transform=\"scale(1 1) rotate(0) translate(4 214)\">\n",
       "<title>%3</title>\n",
       "<polygon fill=\"white\" stroke=\"transparent\" points=\"-4,4 -4,-214 105,-214 105,4 -4,4\"/>\n",
       "<!-- a -->\n",
       "<g id=\"node1\" class=\"node\">\n",
       "<title>a</title>\n",
       "<ellipse fill=\"none\" stroke=\"black\" cx=\"74\" cy=\"-192\" rx=\"27\" ry=\"18\"/>\n",
       "<text text-anchor=\"middle\" x=\"74\" y=\"-188.3\" font-family=\"Times,serif\" font-size=\"14.00\">a</text>\n",
       "</g>\n",
       "<!-- b -->\n",
       "<g id=\"node2\" class=\"node\">\n",
       "<title>b</title>\n",
       "<ellipse fill=\"none\" stroke=\"black\" cx=\"27\" cy=\"-105\" rx=\"27\" ry=\"18\"/>\n",
       "<text text-anchor=\"middle\" x=\"27\" y=\"-101.3\" font-family=\"Times,serif\" font-size=\"14.00\">b</text>\n",
       "</g>\n",
       "<!-- a&#45;&gt;b -->\n",
       "<g id=\"edge1\" class=\"edge\">\n",
       "<title>a&#45;&gt;b</title>\n",
       "<path fill=\"none\" stroke=\"black\" d=\"M64.94,-174.61C58.13,-162.3 48.69,-145.23 40.93,-131.19\"/>\n",
       "<polygon fill=\"black\" stroke=\"black\" points=\"43.78,-129.11 35.87,-122.05 37.65,-132.5 43.78,-129.11\"/>\n",
       "<text text-anchor=\"middle\" x=\"59\" y=\"-144.8\" font-family=\"Times,serif\" font-size=\"14.00\">4</text>\n",
       "</g>\n",
       "<!-- c -->\n",
       "<g id=\"node3\" class=\"node\">\n",
       "<title>c</title>\n",
       "<ellipse fill=\"none\" stroke=\"black\" cx=\"58\" cy=\"-18\" rx=\"27\" ry=\"18\"/>\n",
       "<text text-anchor=\"middle\" x=\"58\" y=\"-14.3\" font-family=\"Times,serif\" font-size=\"14.00\">c</text>\n",
       "</g>\n",
       "<!-- a&#45;&gt;c -->\n",
       "<g id=\"edge2\" class=\"edge\">\n",
       "<title>a&#45;&gt;c</title>\n",
       "<path fill=\"none\" stroke=\"black\" d=\"M72.41,-173.88C69.63,-144 63.87,-82.11 60.54,-46.27\"/>\n",
       "<polygon fill=\"black\" stroke=\"black\" points=\"64,-45.68 59.59,-36.05 57.03,-46.33 64,-45.68\"/>\n",
       "<text text-anchor=\"middle\" x=\"72\" y=\"-101.3\" font-family=\"Times,serif\" font-size=\"14.00\">3</text>\n",
       "</g>\n",
       "<!-- b&#45;&gt;c -->\n",
       "<g id=\"edge3\" class=\"edge\">\n",
       "<title>b&#45;&gt;c</title>\n",
       "<path fill=\"none\" stroke=\"black\" d=\"M33.12,-87.21C37.5,-75.22 43.47,-58.85 48.46,-45.16\"/>\n",
       "<polygon fill=\"black\" stroke=\"black\" points=\"51.75,-46.35 51.89,-35.76 45.17,-43.95 51.75,-46.35\"/>\n",
       "<text text-anchor=\"middle\" x=\"50\" y=\"-57.8\" font-family=\"Times,serif\" font-size=\"14.00\">9</text>\n",
       "</g>\n",
       "</g>\n",
       "</svg>\n"
      ],
      "text/plain": [
       "digraph {\n",
       "    \"a\" -> \"b\" [label=\"4\"]\n",
       "    \"a\" -> \"c\" [label=\"3\"]\n",
       "    \"b\" -> \"c\" [label=\"9\"]\n",
       "}"
      ]
     },
     "metadata": {},
     "output_type": "display_data"
    },
    {
     "data": {
      "text/plain": [
       "\u001b[1mtrue"
      ]
     },
     "metadata": {},
     "output_type": "display_data"
    }
   ],
   "source": [
    "jupyter::print_transition_graph(edge/3, 1, 3, 2)."
   ]
  },
  {
   "cell_type": "markdown",
   "metadata": {
    "tags": []
   },
   "source": [
    "### Changing the Prolog Implementation <a id='changing_prolog_implementation'></a> "
   ]
  },
  {
   "cell_type": "markdown",
   "metadata": {},
   "source": [
    "If implementation-specific data is configured for more than one Prolog backend (see [Kernel Configuration](#kernel_configuration)), the active Prolog backend used for code execution can be changed on the fly with `jupyter::set_prolog_backend(+Backend)`.<br>\n",
    "The corresponding goal needs to be the only one of a query, as otherwise the predicate cannot be recognized as a special one.<br>\n",
    "\n",
    "The implementation is changed after all code of the cell has been executed.<br>\n",
    "Therefore, any code following a `jupyter::set_prolog_backend/1` query in the same cell is still executed with the previous active implementation.<br>\n",
    "\n",
    "Furthermore, the server for the previously used implementation is **kept running** so that when changing back, the state has not changed.<br>\n",
    "However, when the Jupyter kernel is interrupted, all running Prolog server processes are killed and need to be restarted the next time code is executed.<br>\n",
    "If a user wants to restart a single process, `jupyter::halt/0` can be called.<br>"
   ]
  },
  {
   "cell_type": "code",
   "execution_count": 51,
   "metadata": {
    "slideshow": {
     "slide_type": "fragment"
    }
   },
   "outputs": [
    {
     "data": {
      "text/plain": [
       "\u001b[1mtrue"
      ]
     },
     "metadata": {},
     "output_type": "display_data"
    }
   ],
   "source": [
    "jupyter::set_prolog_backend(sicstus)."
   ]
  },
  {
   "cell_type": "markdown",
   "metadata": {},
   "source": [
    "After changing to SICStus Prolog, the previously defined predicate `app/3` does not exist."
   ]
  },
  {
   "cell_type": "code",
   "execution_count": null,
   "metadata": {},
   "outputs": [
    {
     "data": {
      "text/plain": [
       "\u001b[1;31m! Existence error in user:app/3\n",
       "! procedure user:app/3 does not exist\n",
       "! goal:  user:app([1,2],[3],_167913)\n"
      ]
     },
     "metadata": {},
     "output_type": "display_data"
    }
   ],
   "source": [
    "app([1,2], [3], R)"
   ]
  },
  {
   "cell_type": "markdown",
   "metadata": {},
   "source": [
    "Changing back to SWI-Prolog, the previous state has not changed.<br>\n",
    "For instance, the defined predicates still exist."
   ]
  },
  {
   "cell_type": "code",
   "execution_count": 53,
   "metadata": {},
   "outputs": [
    {
     "data": {
      "text/plain": [
       "\u001b[1myes"
      ]
     },
     "metadata": {},
     "output_type": "display_data"
    }
   ],
   "source": [
    "jupyter::set_prolog_backend(swi)."
   ]
  },
  {
   "cell_type": "code",
   "execution_count": 54,
   "metadata": {},
   "outputs": [
    {
     "data": {
      "text/plain": [
       "\u001b[1mR = [1,2,3]"
      ]
     },
     "metadata": {},
     "output_type": "display_data"
    }
   ],
   "source": [
    "app([1,2], [3], R)"
   ]
  }
 ],
 "metadata": {
  "celltoolbar": "Slideshow",
  "kernelspec": {
   "display_name": "Prolog",
   "language": "prolog",
   "name": "logtalk_kernel"
  },
  "language_info": {
   "codemirror_mode": "prolog",
   "file_extension": ".pl",
   "mimetype": "text/x-prolog",
   "name": "Prolog"
  },
  "toc-autonumbering": false,
  "toc-showmarkdowntxt": false
 },
 "nbformat": 4,
 "nbformat_minor": 4
}
